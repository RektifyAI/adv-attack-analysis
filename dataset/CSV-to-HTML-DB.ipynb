{
 "cells": [
  {
   "cell_type": "code",
   "execution_count": 1,
   "id": "d27da5d0",
   "metadata": {},
   "outputs": [],
   "source": [
    "import pandas as pd\n",
    "import webbrowser"
   ]
  },
  {
   "cell_type": "code",
   "execution_count": 2,
   "id": "40e71f3d",
   "metadata": {},
   "outputs": [],
   "source": [
    "def generate_html(dataframe: pd.DataFrame):\n",
    "    # get the table HTML from the dataframe\n",
    "    table_html = dataframe.to_html(table_id=\"table\")\n",
    "    # construct the complete HTML with jQuery Data tables\n",
    "    # You can disable paging or enable y scrolling on lines 20 and 21 respectively\n",
    "    html = f\"\"\"\n",
    "    <html>\n",
    "    <header>\n",
    "        <link href=\"https://cdn.datatables.net/1.11.5/css/jquery.dataTables.min.css\" rel=\"stylesheet\">\n",
    "    </header>\n",
    "    <body>\n",
    "    {table_html}\n",
    "    <script src=\"https://code.jquery.com/jquery-3.6.0.slim.min.js\" integrity=\"sha256-u7e5khyithlIdTpu22PHhENmPcRdFiHRjhAuHcs05RI=\" crossorigin=\"anonymous\"></script>\n",
    "    <script type=\"text/javascript\" src=\"https://cdn.datatables.net/1.11.5/js/jquery.dataTables.min.js\"></script>\n",
    "    <script>\n",
    "        $(document).ready( function () {{\n",
    "            $('#table').DataTable({{\n",
    "                // paging: false,    \n",
    "                // scrollY: 400,\n",
    "            }});\n",
    "        }});\n",
    "    </script>\n",
    "    </body>\n",
    "    </html>\n",
    "    \"\"\"\n",
    "    # return the html\n",
    "    return html"
   ]
  },
  {
   "cell_type": "code",
   "execution_count": null,
   "id": "5332c1ef",
   "metadata": {},
   "outputs": [],
   "source": [
    "if __name__ == \"__main__\":\n",
    "    # read the dataframe dataset\n",
    "    df = pd.read_csv(\"REAL-dataset-WIP-attack2-data.csv\")\n",
    "    # take only first 2000, otherwise it'll generate a large html file\n",
    "    df = df.iloc[:2000]\n",
    "    # generate the HTML from the dataframe\n",
    "    html = generate_html(df)\n",
    "    # write the HTML content to an HTML file\n",
    "    open(\"index.html\", \"w\").write(html)\n",
    "    # open the new HTML file with the default browser\n",
    "    webbrowser.open(\"index.html\")"
   ]
  },
  {
   "cell_type": "code",
   "execution_count": null,
   "id": "89f2f050",
   "metadata": {},
   "outputs": [],
   "source": []
  }
 ],
 "metadata": {
  "kernelspec": {
   "display_name": "Python 3 (ipykernel)",
   "language": "python",
   "name": "python3"
  },
  "language_info": {
   "codemirror_mode": {
    "name": "ipython",
    "version": 3
   },
   "file_extension": ".py",
   "mimetype": "text/x-python",
   "name": "python",
   "nbconvert_exporter": "python",
   "pygments_lexer": "ipython3",
   "version": "3.9.12"
  }
 },
 "nbformat": 4,
 "nbformat_minor": 5
}
