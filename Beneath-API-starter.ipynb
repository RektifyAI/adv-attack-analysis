{
 "cells": [
  {
   "cell_type": "markdown",
   "metadata": {},
   "source": [
    "## Reading in SEAL data using Beneath API service"
   ]
  },
  {
   "cell_type": "markdown",
   "metadata": {},
   "source": [
    "[Accessing SEAL data in Beneath](https://beneath.dev/bubblyorca/seal-library)\n",
    "\n",
    "[Publish DataFrame](https://about.beneath.dev/docs/quick-starts/publish-pandas-dataframe/)"
   ]
  },
  {
   "cell_type": "code",
   "execution_count": 4,
   "metadata": {},
   "outputs": [
    {
     "name": "stdout",
     "output_type": "stream",
     "text": [
      "/Users/jasmineb33/adv-attack-analysis\n"
     ]
    }
   ],
   "source": [
    "import os\n",
    "print(os.getcwd())"
   ]
  },
  {
   "cell_type": "code",
   "execution_count": 5,
   "metadata": {},
   "outputs": [
    {
     "name": "stderr",
     "output_type": "stream",
     "text": [
      "/anaconda3/lib/python3.7/site-packages/pandas/compat/_optional.py:138: UserWarning: Pandas requires version '2.7.0' or newer of 'numexpr' (version '2.6.8' currently installed).\n",
      "  warnings.warn(msg, UserWarning)\n"
     ]
    },
    {
     "data": {
      "text/html": [
       "<div>\n",
       "<style scoped>\n",
       "    .dataframe tbody tr th:only-of-type {\n",
       "        vertical-align: middle;\n",
       "    }\n",
       "\n",
       "    .dataframe tbody tr th {\n",
       "        vertical-align: top;\n",
       "    }\n",
       "\n",
       "    .dataframe thead th {\n",
       "        text-align: right;\n",
       "    }\n",
       "</style>\n",
       "<table border=\"1\" class=\"dataframe\">\n",
       "  <thead>\n",
       "    <tr style=\"text-align: right;\">\n",
       "      <th></th>\n",
       "      <th>protocol_name</th>\n",
       "      <th>type</th>\n",
       "      <th>date_of_attack</th>\n",
       "      <th>amount_lost</th>\n",
       "      <th>attack_type</th>\n",
       "      <th>contract_hash</th>\n",
       "    </tr>\n",
       "  </thead>\n",
       "  <tbody>\n",
       "    <tr>\n",
       "      <th>0</th>\n",
       "      <td>Kingfund Finance</td>\n",
       "      <td>Asset Management</td>\n",
       "      <td>01/20/2022</td>\n",
       "      <td>114000.0</td>\n",
       "      <td>Rug Pull</td>\n",
       "      <td>NaN</td>\n",
       "    </tr>\n",
       "    <tr>\n",
       "      <th>1</th>\n",
       "      <td>AFKSystem</td>\n",
       "      <td>Yield Farming</td>\n",
       "      <td>01/19/2022</td>\n",
       "      <td>12000000.0</td>\n",
       "      <td>Rug Pull</td>\n",
       "      <td>NaN</td>\n",
       "    </tr>\n",
       "    <tr>\n",
       "      <th>2</th>\n",
       "      <td>Crypto.com</td>\n",
       "      <td>CEX</td>\n",
       "      <td>01/18/2022</td>\n",
       "      <td>34000000.0</td>\n",
       "      <td>Unauthorized Withdrawal</td>\n",
       "      <td>NaN</td>\n",
       "    </tr>\n",
       "    <tr>\n",
       "      <th>3</th>\n",
       "      <td>Multichain</td>\n",
       "      <td>DEX</td>\n",
       "      <td>01/18/2022</td>\n",
       "      <td>1400000.0</td>\n",
       "      <td>Smart Contract Bug</td>\n",
       "      <td>NaN</td>\n",
       "    </tr>\n",
       "    <tr>\n",
       "      <th>4</th>\n",
       "      <td>Crosswise</td>\n",
       "      <td>AMM</td>\n",
       "      <td>01/18/2022</td>\n",
       "      <td>879000.0</td>\n",
       "      <td>Use Privileged Functions\\t\\t\\t\\t\\t\\t\\t\\t\\t\\t\\t...</td>\n",
       "      <td>NaN</td>\n",
       "    </tr>\n",
       "    <tr>\n",
       "      <th>5</th>\n",
       "      <td>Crypto Burger</td>\n",
       "      <td>NFT Project</td>\n",
       "      <td>01/17/2022</td>\n",
       "      <td>770000.0</td>\n",
       "      <td>Reentrancy</td>\n",
       "      <td>NaN</td>\n",
       "    </tr>\n",
       "    <tr>\n",
       "      <th>6</th>\n",
       "      <td>CityDAO</td>\n",
       "      <td>DAO</td>\n",
       "      <td>01/15/2022</td>\n",
       "      <td>90000.0</td>\n",
       "      <td>Discord Admin Account Hack</td>\n",
       "      <td>NaN</td>\n",
       "    </tr>\n",
       "    <tr>\n",
       "      <th>7</th>\n",
       "      <td>Rari Capital</td>\n",
       "      <td>Lending and Borrowing</td>\n",
       "      <td>01/15/2022</td>\n",
       "      <td>200000.0</td>\n",
       "      <td>Price Manipulation</td>\n",
       "      <td>NaN</td>\n",
       "    </tr>\n",
       "    <tr>\n",
       "      <th>8</th>\n",
       "      <td>Frosties</td>\n",
       "      <td>NFT Project</td>\n",
       "      <td>01/13/2022</td>\n",
       "      <td>1000000.0</td>\n",
       "      <td>Rug Pull</td>\n",
       "      <td>NaN</td>\n",
       "    </tr>\n",
       "    <tr>\n",
       "      <th>9</th>\n",
       "      <td>Multiple IDO Projects</td>\n",
       "      <td>IDO Project</td>\n",
       "      <td>01/12/2022</td>\n",
       "      <td>2700000.0</td>\n",
       "      <td>Rug Pull</td>\n",
       "      <td>NaN</td>\n",
       "    </tr>\n",
       "  </tbody>\n",
       "</table>\n",
       "</div>"
      ],
      "text/plain": [
       "           protocol_name                   type date_of_attack  amount_lost  \\\n",
       "0       Kingfund Finance       Asset Management     01/20/2022     114000.0   \n",
       "1              AFKSystem          Yield Farming     01/19/2022   12000000.0   \n",
       "2             Crypto.com                    CEX     01/18/2022   34000000.0   \n",
       "3             Multichain                    DEX     01/18/2022    1400000.0   \n",
       "4              Crosswise                    AMM     01/18/2022     879000.0   \n",
       "5          Crypto Burger            NFT Project     01/17/2022     770000.0   \n",
       "6                CityDAO                    DAO     01/15/2022      90000.0   \n",
       "7           Rari Capital  Lending and Borrowing     01/15/2022     200000.0   \n",
       "8               Frosties            NFT Project     01/13/2022    1000000.0   \n",
       "9  Multiple IDO Projects            IDO Project     01/12/2022    2700000.0   \n",
       "\n",
       "                                         attack_type contract_hash  \n",
       "0                                           Rug Pull           NaN  \n",
       "1                                           Rug Pull           NaN  \n",
       "2                            Unauthorized Withdrawal           NaN  \n",
       "3                                 Smart Contract Bug           NaN  \n",
       "4  Use Privileged Functions\\t\\t\\t\\t\\t\\t\\t\\t\\t\\t\\t...           NaN  \n",
       "5                                         Reentrancy           NaN  \n",
       "6                         Discord Admin Account Hack           NaN  \n",
       "7                                 Price Manipulation           NaN  \n",
       "8                                           Rug Pull           NaN  \n",
       "9                                           Rug Pull           NaN  "
      ]
     },
     "execution_count": 5,
     "metadata": {},
     "output_type": "execute_result"
    }
   ],
   "source": [
    "import pandas as pd\n",
    "\n",
    "df = pd.read_csv(\"SEAL-dataset-WIP.csv\")\n",
    "df[:10]"
   ]
  },
  {
   "cell_type": "code",
   "execution_count": 3,
   "metadata": {},
   "outputs": [],
   "source": [
    "import asyncio"
   ]
  },
  {
   "cell_type": "code",
   "execution_count": 2,
   "metadata": {},
   "outputs": [
    {
     "name": "stdout",
     "output_type": "stream",
     "text": [
      "Requirement already satisfied: pip in /anaconda3/lib/python3.7/site-packages (21.3.1)\n",
      "Collecting pip\n",
      "  Downloading pip-22.0.4-py3-none-any.whl (2.1 MB)\n",
      "     |████████████████████████████████| 2.1 MB 1.8 MB/s            \n",
      "\u001b[?25hInstalling collected packages: pip\n",
      "  Attempting uninstall: pip\n",
      "    Found existing installation: pip 21.3.1\n",
      "    Uninstalling pip-21.3.1:\n",
      "      Successfully uninstalled pip-21.3.1\n",
      "Successfully installed pip-22.0.4\n"
     ]
    }
   ],
   "source": [
    "!pip install --upgrade pip"
   ]
  },
  {
   "cell_type": "code",
   "execution_count": 3,
   "metadata": {},
   "outputs": [
    {
     "name": "stdout",
     "output_type": "stream",
     "text": [
      "Collecting beneath==1.4.2\n",
      "  Downloading beneath-1.4.2-py3-none-any.whl (71 kB)\n",
      "\u001b[2K     \u001b[90m━━━━━━━━━━━━━━━━━━━━━━━━━━━━━━━━━━━━━━━\u001b[0m \u001b[32m71.0/71.0 KB\u001b[0m \u001b[31m748.6 kB/s\u001b[0m eta \u001b[36m0:00:00\u001b[0m \u001b[36m0:00:01\u001b[0m\n",
      "\u001b[?25hCollecting Cython<0.30.0,>=0.29.15\n",
      "  Downloading Cython-0.29.28-py2.py3-none-any.whl (983 kB)\n",
      "\u001b[2K     \u001b[90m━━━━━━━━━━━━━━━━━━━━━━━━━━━━━━━━━━━━━━━\u001b[0m \u001b[32m983.8/983.8 KB\u001b[0m \u001b[31m2.0 MB/s\u001b[0m eta \u001b[36m0:00:00\u001b[0m00:01\u001b[0m00:01\u001b[0m\n",
      "\u001b[?25hCollecting fastavro<2.0,>=1.0\n",
      "  Downloading fastavro-1.4.11.tar.gz (733 kB)\n",
      "\u001b[2K     \u001b[90m━━━━━━━━━━━━━━━━━━━━━━━━━━━━━━━━━━━━━━━\u001b[0m \u001b[32m733.5/733.5 KB\u001b[0m \u001b[31m2.3 MB/s\u001b[0m eta \u001b[36m0:00:00\u001b[0m00:01\u001b[0m00:01\u001b[0m\n",
      "\u001b[?25h  Preparing metadata (setup.py) ... \u001b[?25ldone\n",
      "\u001b[?25hRequirement already satisfied: six<2.0.0,>=1.14.0 in /anaconda3/lib/python3.7/site-packages (from beneath==1.4.2) (1.15.0)\n",
      "Collecting msgpack<2.0.0,>=1.0.0\n",
      "  Downloading msgpack-1.0.3-cp37-cp37m-macosx_10_9_x86_64.whl (72 kB)\n",
      "\u001b[2K     \u001b[90m━━━━━━━━━━━━━━━━━━━━━━━━━━━━━━━━━━━━━━━\u001b[0m \u001b[32m72.5/72.5 KB\u001b[0m \u001b[31m846.6 kB/s\u001b[0m eta \u001b[36m0:00:00\u001b[0m0:01\u001b[0m\n",
      "\u001b[?25hCollecting aiohttp<4.0.0,>=3.6.2\n",
      "  Downloading aiohttp-3.8.1-cp37-cp37m-macosx_10_9_x86_64.whl (570 kB)\n",
      "\u001b[2K     \u001b[90m━━━━━━━━━━━━━━━━━━━━━━━━━━━━━━━━━━━━━━━\u001b[0m \u001b[32m570.9/570.9 KB\u001b[0m \u001b[31m1.9 MB/s\u001b[0m eta \u001b[36m0:00:00\u001b[0m00:01\u001b[0m00:01\u001b[0m\n",
      "\u001b[?25hRequirement already satisfied: protobuf<4.0.0,>=3.11.3 in /anaconda3/lib/python3.7/site-packages (from beneath==1.4.2) (3.19.4)\n",
      "Collecting argparse<2.0,>=1.4\n",
      "  Downloading argparse-1.4.0-py2.py3-none-any.whl (23 kB)\n",
      "Collecting pandas<2.0.0,>=1.0.1\n",
      "  Downloading pandas-1.3.5-cp37-cp37m-macosx_10_9_x86_64.whl (11.0 MB)\n",
      "\u001b[2K     \u001b[90m━━━━━━━━━━━━━━━━━━━━━━━━━━━━━━━━━━━━━━━━\u001b[0m \u001b[32m11.0/11.0 MB\u001b[0m \u001b[31m3.4 MB/s\u001b[0m eta \u001b[36m0:00:00\u001b[0m00:01\u001b[0m00:01\u001b[0m\n",
      "\u001b[?25hRequirement already satisfied: grpcio<2.0.0,>=1.35.0 in /anaconda3/lib/python3.7/site-packages (from beneath==1.4.2) (1.44.0)\n",
      "Collecting multidict<7.0,>=4.5\n",
      "  Downloading multidict-6.0.2-cp37-cp37m-macosx_10_9_x86_64.whl (28 kB)\n",
      "Requirement already satisfied: typing-extensions>=3.7.4 in /anaconda3/lib/python3.7/site-packages (from aiohttp<4.0.0,>=3.6.2->beneath==1.4.2) (3.7.4.3)\n",
      "Collecting aiosignal>=1.1.2\n",
      "  Downloading aiosignal-1.2.0-py3-none-any.whl (8.2 kB)\n",
      "Collecting yarl<2.0,>=1.0\n",
      "  Downloading yarl-1.7.2-cp37-cp37m-macosx_10_9_x86_64.whl (120 kB)\n",
      "\u001b[2K     \u001b[90m━━━━━━━━━━━━━━━━━━━━━━━━━━━━━━━━━━━━━━━\u001b[0m \u001b[32m120.7/120.7 KB\u001b[0m \u001b[31m1.0 MB/s\u001b[0m eta \u001b[36m0:00:00\u001b[0ma \u001b[36m0:00:01\u001b[0m\n",
      "\u001b[?25hRequirement already satisfied: attrs>=17.3.0 in /anaconda3/lib/python3.7/site-packages (from aiohttp<4.0.0,>=3.6.2->beneath==1.4.2) (18.2.0)\n",
      "Collecting async-timeout<5.0,>=4.0.0a3\n",
      "  Downloading async_timeout-4.0.2-py3-none-any.whl (5.8 kB)\n",
      "Requirement already satisfied: charset-normalizer<3.0,>=2.0 in /anaconda3/lib/python3.7/site-packages (from aiohttp<4.0.0,>=3.6.2->beneath==1.4.2) (2.0.12)\n",
      "Collecting asynctest==0.13.0\n",
      "  Downloading asynctest-0.13.0-py3-none-any.whl (26 kB)\n",
      "Collecting frozenlist>=1.1.1\n",
      "  Downloading frozenlist-1.3.0-cp37-cp37m-macosx_10_9_x86_64.whl (35 kB)\n",
      "Requirement already satisfied: pytz>=2017.3 in /anaconda3/lib/python3.7/site-packages (from pandas<2.0.0,>=1.0.1->beneath==1.4.2) (2018.5)\n",
      "Requirement already satisfied: numpy>=1.17.3 in /anaconda3/lib/python3.7/site-packages (from pandas<2.0.0,>=1.0.1->beneath==1.4.2) (1.19.2)\n",
      "Requirement already satisfied: python-dateutil>=2.7.3 in /anaconda3/lib/python3.7/site-packages (from pandas<2.0.0,>=1.0.1->beneath==1.4.2) (2.7.3)\n",
      "Requirement already satisfied: idna>=2.0 in /anaconda3/lib/python3.7/site-packages (from yarl<2.0,>=1.0->aiohttp<4.0.0,>=3.6.2->beneath==1.4.2) (2.7)\n",
      "Building wheels for collected packages: fastavro\n",
      "  Building wheel for fastavro (setup.py) ... \u001b[?25ldone\n",
      "\u001b[?25h  Created wheel for fastavro: filename=fastavro-1.4.11-cp37-cp37m-macosx_10_7_x86_64.whl size=496219 sha256=446393ee1227945ab00e993af44694fc7fd2b9996344ec74bd37baca9632644f\n",
      "  Stored in directory: /Users/jasmineb33/Library/Caches/pip/wheels/b7/0c/94/f6b0cb5feddc7b67b1de1f0d2ca1b66e80374ef79ebde28cb9\n",
      "Successfully built fastavro\n",
      "Installing collected packages: msgpack, argparse, multidict, frozenlist, fastavro, Cython, asynctest, async-timeout, yarl, pandas, aiosignal, aiohttp, beneath\n",
      "  Attempting uninstall: msgpack\n",
      "    Found existing installation: msgpack 0.5.6\n",
      "    Uninstalling msgpack-0.5.6:\n",
      "      Successfully uninstalled msgpack-0.5.6\n",
      "  Attempting uninstall: Cython\n",
      "    Found existing installation: Cython 0.28.5\n",
      "    Uninstalling Cython-0.28.5:\n",
      "      Successfully uninstalled Cython-0.28.5\n",
      "  Attempting uninstall: pandas\n",
      "    Found existing installation: pandas 0.23.4\n",
      "    Uninstalling pandas-0.23.4:\n",
      "      Successfully uninstalled pandas-0.23.4\n",
      "Successfully installed Cython-0.29.28 aiohttp-3.8.1 aiosignal-1.2.0 argparse-1.4.0 async-timeout-4.0.2 asynctest-0.13.0 beneath-1.4.2 fastavro-1.4.11 frozenlist-1.3.0 msgpack-1.0.3 multidict-6.0.2 pandas-1.3.5 yarl-1.7.2\n"
     ]
    }
   ],
   "source": [
    "!pip install beneath==1.4.2"
   ]
  },
  {
   "cell_type": "code",
   "execution_count": 6,
   "metadata": {},
   "outputs": [],
   "source": [
    "import beneath"
   ]
  },
  {
   "cell_type": "code",
   "execution_count": 9,
   "metadata": {},
   "outputs": [
    {
     "name": "stdout",
     "output_type": "stream",
     "text": [
      "/anaconda3/lib/python3.7/site-packages/pandas/compat/_optional.py:138: UserWarning: Pandas requires version '2.7.0' or newer of 'numexpr' (version '2.6.8' currently installed).\n",
      "  warnings.warn(msg, UserWarning)\n",
      "Opening browser to authenticate...\n",
      "If your browser does not open, go to: https://beneath.dev/-/auth/ticket/7e8155fa-daea-48d9-adf7-db9b99571f41\n",
      "E0502 19:22:34.758546000 140736032568192 fork_posix.cc:76]             Other threads are currently calling into gRPC, skipping fork() handlers\n",
      "You have authenticated successfully!\n"
     ]
    }
   ],
   "source": [
    "!beneath auth"
   ]
  },
  {
   "cell_type": "code",
   "execution_count": 10,
   "metadata": {},
   "outputs": [
    {
     "name": "stdout",
     "output_type": "stream",
     "text": [
      "/anaconda3/lib/python3.7/site-packages/pandas/compat/_optional.py:138: UserWarning: Pandas requires version '2.7.0' or newer of 'numexpr' (version '2.6.8' currently installed).\n",
      "  warnings.warn(msg, UserWarning)\n",
      "Error: Error creating project: ERROR #23505 duplicate key value violates unique constraint \"projects_organization_id_name_key\" (path: ['createProject'])\n",
      "Details: [{'message': 'Error creating project: ERROR #23505 duplicate key value violates unique constraint \"projects_organization_id_name_key\"', 'path': ['createProject']}]\n"
     ]
    }
   ],
   "source": [
    "!beneath project create bubblyorca/seal"
   ]
  },
  {
   "cell_type": "code",
   "execution_count": 34,
   "metadata": {
    "scrolled": false,
    "tags": []
   },
   "outputs": [
    {
     "ename": "GraphQLError",
     "evalue": "Error updating existing table: field 'contract_hash' in type 'Root' cannot be used as index because it is optional (path: ['createTable'])",
     "output_type": "error",
     "traceback": [
      "\u001b[0;31m---------------------------------------------------------------------------\u001b[0m",
      "\u001b[0;31mGraphQLError\u001b[0m                              Traceback (most recent call last)",
      "\u001b[0;32m/var/folders/7n/ld85rjzx4r90frsbbln3j34c0000gn/T/ipykernel_27388/2983217794.py\u001b[0m in \u001b[0;36masync-def-wrapper\u001b[0;34m()\u001b[0m\n\u001b[1;32m      9\u001b[0m )\n",
      "\u001b[0;32m/anaconda3/lib/python3.7/site-packages/beneath/easy.py\u001b[0m in \u001b[0;36mwrite_full\u001b[0;34m(table_path, records, key, description, recreate_on_schema_change)\u001b[0m\n\u001b[1;32m    246\u001b[0m         \u001b[0mkey\u001b[0m\u001b[0;34m=\u001b[0m\u001b[0mkey\u001b[0m\u001b[0;34m,\u001b[0m\u001b[0;34m\u001b[0m\u001b[0;34m\u001b[0m\u001b[0m\n\u001b[1;32m    247\u001b[0m         \u001b[0mdescription\u001b[0m\u001b[0;34m=\u001b[0m\u001b[0mdescription\u001b[0m\u001b[0;34m,\u001b[0m\u001b[0;34m\u001b[0m\u001b[0;34m\u001b[0m\u001b[0m\n\u001b[0;32m--> 248\u001b[0;31m         \u001b[0mrecreate_on_schema_change\u001b[0m\u001b[0;34m=\u001b[0m\u001b[0mrecreate_on_schema_change\u001b[0m\u001b[0;34m,\u001b[0m\u001b[0;34m\u001b[0m\u001b[0;34m\u001b[0m\u001b[0m\n\u001b[0m\u001b[1;32m    249\u001b[0m     )\n\u001b[1;32m    250\u001b[0m     \u001b[0;32mawait\u001b[0m \u001b[0mclient\u001b[0m\u001b[0;34m.\u001b[0m\u001b[0mstop\u001b[0m\u001b[0;34m(\u001b[0m\u001b[0;34m)\u001b[0m\u001b[0;34m\u001b[0m\u001b[0;34m\u001b[0m\u001b[0m\n",
      "\u001b[0;32m/anaconda3/lib/python3.7/site-packages/beneath/client.py\u001b[0m in \u001b[0;36mwrite_full\u001b[0;34m(self, table_path, records, key, description, recreate_on_schema_change)\u001b[0m\n\u001b[1;32m    366\u001b[0m                 \u001b[0mschema_kind\u001b[0m\u001b[0;34m=\u001b[0m\u001b[0;34m\"Avro\"\u001b[0m\u001b[0;34m,\u001b[0m\u001b[0;34m\u001b[0m\u001b[0;34m\u001b[0m\u001b[0m\n\u001b[1;32m    367\u001b[0m                 \u001b[0mindexes\u001b[0m\u001b[0;34m=\u001b[0m\u001b[0mindexes\u001b[0m\u001b[0;34m,\u001b[0m\u001b[0;34m\u001b[0m\u001b[0;34m\u001b[0m\u001b[0m\n\u001b[0;32m--> 368\u001b[0;31m                 \u001b[0mupdate_if_exists\u001b[0m\u001b[0;34m=\u001b[0m\u001b[0;32mTrue\u001b[0m\u001b[0;34m,\u001b[0m\u001b[0;34m\u001b[0m\u001b[0;34m\u001b[0m\u001b[0m\n\u001b[0m\u001b[1;32m    369\u001b[0m             )\n\u001b[1;32m    370\u001b[0m         \u001b[0;32mexcept\u001b[0m \u001b[0mGraphQLError\u001b[0m \u001b[0;32mas\u001b[0m \u001b[0me\u001b[0m\u001b[0;34m:\u001b[0m\u001b[0;34m\u001b[0m\u001b[0;34m\u001b[0m\u001b[0m\n",
      "\u001b[0;32m/anaconda3/lib/python3.7/site-packages/beneath/client.py\u001b[0m in \u001b[0;36mcreate_table\u001b[0;34m(self, table_path, schema, description, meta, use_index, use_warehouse, retention, log_retention, index_retention, warehouse_retention, schema_kind, indexes, update_if_exists)\u001b[0m\n\u001b[1;32m    183\u001b[0m                     \u001b[0mwarehouse_retention\u001b[0m \u001b[0;32mif\u001b[0m \u001b[0mwarehouse_retention\u001b[0m \u001b[0;32melse\u001b[0m \u001b[0mretention\u001b[0m\u001b[0;34m\u001b[0m\u001b[0;34m\u001b[0m\u001b[0m\n\u001b[1;32m    184\u001b[0m                 ),\n\u001b[0;32m--> 185\u001b[0;31m                 \u001b[0mupdate_if_exists\u001b[0m\u001b[0;34m=\u001b[0m\u001b[0mupdate_if_exists\u001b[0m\u001b[0;34m,\u001b[0m\u001b[0;34m\u001b[0m\u001b[0;34m\u001b[0m\u001b[0m\n\u001b[0m\u001b[1;32m    186\u001b[0m             )\n\u001b[1;32m    187\u001b[0m             \u001b[0mtable\u001b[0m \u001b[0;34m=\u001b[0m \u001b[0;32mawait\u001b[0m \u001b[0mTable\u001b[0m\u001b[0;34m.\u001b[0m\u001b[0m_make\u001b[0m\u001b[0;34m(\u001b[0m\u001b[0mclient\u001b[0m\u001b[0;34m=\u001b[0m\u001b[0mself\u001b[0m\u001b[0;34m,\u001b[0m \u001b[0midentifier\u001b[0m\u001b[0;34m=\u001b[0m\u001b[0midentifier\u001b[0m\u001b[0;34m,\u001b[0m \u001b[0madmin_data\u001b[0m\u001b[0;34m=\u001b[0m\u001b[0mdata\u001b[0m\u001b[0;34m)\u001b[0m\u001b[0;34m\u001b[0m\u001b[0;34m\u001b[0m\u001b[0m\n",
      "\u001b[0;32m/anaconda3/lib/python3.7/site-packages/beneath/admin/tables.py\u001b[0m in \u001b[0;36mcreate\u001b[0;34m(self, organization_name, project_name, table_name, schema_kind, schema, indexes, description, meta, allow_manual_writes, use_log, use_index, use_warehouse, log_retention_seconds, index_retention_seconds, warehouse_retention_seconds, update_if_exists)\u001b[0m\n\u001b[1;32m    341\u001b[0m                     }\n\u001b[1;32m    342\u001b[0m                 }\n\u001b[0;32m--> 343\u001b[0;31m             \"\"\",\n\u001b[0m\u001b[1;32m    344\u001b[0m         )\n\u001b[1;32m    345\u001b[0m         \u001b[0;32mreturn\u001b[0m \u001b[0mresult\u001b[0m\u001b[0;34m[\u001b[0m\u001b[0;34m\"createTable\"\u001b[0m\u001b[0;34m]\u001b[0m\u001b[0;34m\u001b[0m\u001b[0;34m\u001b[0m\u001b[0m\n",
      "\u001b[0;32m/anaconda3/lib/python3.7/site-packages/beneath/connection.py\u001b[0m in \u001b[0;36mquery_control\u001b[0;34m(self, query, variables, check_authenticated)\u001b[0m\n\u001b[1;32m    142\u001b[0m                     \u001b[0mfirst_err\u001b[0m \u001b[0;34m=\u001b[0m \u001b[0mobj\u001b[0m\u001b[0;34m[\u001b[0m\u001b[0;34m\"errors\"\u001b[0m\u001b[0;34m]\u001b[0m\u001b[0;34m[\u001b[0m\u001b[0;36m0\u001b[0m\u001b[0;34m]\u001b[0m\u001b[0;34m\u001b[0m\u001b[0;34m\u001b[0m\u001b[0m\n\u001b[1;32m    143\u001b[0m                     \u001b[0mmsg\u001b[0m \u001b[0;34m=\u001b[0m \u001b[0;34mf\"{first_err['message']} (path: {first_err['path']})\"\u001b[0m\u001b[0;34m\u001b[0m\u001b[0;34m\u001b[0m\u001b[0m\n\u001b[0;32m--> 144\u001b[0;31m                     \u001b[0;32mraise\u001b[0m \u001b[0mGraphQLError\u001b[0m\u001b[0;34m(\u001b[0m\u001b[0mmsg\u001b[0m\u001b[0;34m,\u001b[0m \u001b[0mobj\u001b[0m\u001b[0;34m[\u001b[0m\u001b[0;34m\"errors\"\u001b[0m\u001b[0;34m]\u001b[0m\u001b[0;34m)\u001b[0m\u001b[0;34m\u001b[0m\u001b[0;34m\u001b[0m\u001b[0m\n\u001b[0m\u001b[1;32m    145\u001b[0m                 \u001b[0;31m# successful result\u001b[0m\u001b[0;34m\u001b[0m\u001b[0;34m\u001b[0m\u001b[0;34m\u001b[0m\u001b[0m\n\u001b[1;32m    146\u001b[0m                 \u001b[0;32mreturn\u001b[0m \u001b[0mobj\u001b[0m\u001b[0;34m[\u001b[0m\u001b[0;34m\"data\"\u001b[0m\u001b[0;34m]\u001b[0m\u001b[0;34m\u001b[0m\u001b[0;34m\u001b[0m\u001b[0m\n",
      "\u001b[0;31mGraphQLError\u001b[0m: Error updating existing table: field 'contract_hash' in type 'Root' cannot be used as index because it is optional (path: ['createTable'])"
     ]
    }
   ],
   "source": [
    "# Reads in DataFrame as parameters in Beneath table\n",
    "\n",
    "# async def func():\n",
    "await beneath.write_full(\n",
    "    table_path = 'bubblyorca/seal/attack-data',\n",
    "    records = df,\n",
    "    key = ['protocol_name'],\n",
    "    description= \"A table of attacks in Web3\"\n",
    ")"
   ]
  },
  {
   "cell_type": "code",
   "execution_count": null,
   "metadata": {},
   "outputs": [],
   "source": []
  },
  {
   "cell_type": "code",
   "execution_count": null,
   "metadata": {},
   "outputs": [],
   "source": []
  }
 ],
 "metadata": {
  "kernelspec": {
   "display_name": "Python 3 (ipykernel)",
   "language": "python",
   "name": "python3"
  },
  "language_info": {
   "codemirror_mode": {
    "name": "ipython",
    "version": 3
   },
   "file_extension": ".py",
   "mimetype": "text/x-python",
   "name": "python",
   "nbconvert_exporter": "python",
   "pygments_lexer": "ipython3",
   "version": "3.7.2"
  }
 },
 "nbformat": 4,
 "nbformat_minor": 5
}
