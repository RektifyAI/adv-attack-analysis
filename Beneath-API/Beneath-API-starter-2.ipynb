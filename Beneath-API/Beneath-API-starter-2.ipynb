{
 "cells": [
  {
   "cell_type": "markdown",
   "source": "## Reading in SEAL data using Beneath",
   "metadata": {
    "cell_id": "f35eaa6a-1613-405a-b6ad-b8454e03e315",
    "deepnote_cell_type": "markdown",
    "deepnote_cell_height": 110
   }
  },
  {
   "cell_type": "markdown",
   "source": "[Accessing SEAL data in Beneath](https://beneath.dev/bubblyorca/seal-library)\n\n[Publish DataFrame](https://about.beneath.dev/docs/quick-starts/publish-pandas-dataframe/)",
   "metadata": {
    "cell_id": "00001-ad050cd4-8e16-482c-8a84-5dabd63283ff",
    "deepnote_cell_type": "markdown",
    "deepnote_cell_height": 88
   }
  },
  {
   "cell_type": "code",
   "metadata": {
    "cell_id": "00002-f23ba7c4-4678-4e82-9055-d0a85c098cbf",
    "deepnote_to_be_reexecuted": false,
    "source_hash": "72a29f39",
    "execution_start": 1651640181253,
    "execution_millis": 230,
    "deepnote_cell_type": "code",
    "deepnote_cell_height": 220
   },
   "source": "import os\nimport aiohttp\nimport asyncio\nfrom datetime import datetime\nimport random\n\nprint(os.getcwd())",
   "execution_count": null,
   "outputs": [
    {
     "name": "stdout",
     "text": "/work/adv-attack-analysis\n",
     "output_type": "stream"
    }
   ]
  },
  {
   "cell_type": "code",
   "metadata": {
    "cell_id": "00003-e61a024a-ee30-44d5-87d3-6f0acb801a6c",
    "deepnote_to_be_reexecuted": false,
    "source_hash": "208c4074",
    "execution_start": 1651640181487,
    "execution_millis": 63,
    "deepnote_cell_type": "code",
    "deepnote_cell_height": 654
   },
   "source": "import pandas as pd\n\ndf = pd.read_csv(\"SEAL-dataset-WIP.csv\")\ndf[:10]",
   "execution_count": null,
   "outputs": [
    {
     "output_type": "execute_result",
     "execution_count": 2,
     "data": {
      "application/vnd.deepnote.dataframe.v3+json": {
       "column_count": 6,
       "row_count": 10,
       "columns": [
        {
         "name": "protocol_name",
         "dtype": "object",
         "stats": {
          "unique_count": 10,
          "nan_count": 0,
          "categories": [
           {
            "name": "Kingfund Finance",
            "count": 1
           },
           {
            "name": "AFKSystem",
            "count": 1
           },
           {
            "name": "8 others",
            "count": 8
           }
          ]
         }
        },
        {
         "name": "project_type",
         "dtype": "object",
         "stats": {
          "unique_count": 9,
          "nan_count": 0,
          "categories": [
           {
            "name": "NFT Project",
            "count": 2
           },
           {
            "name": "Asset Management",
            "count": 1
           },
           {
            "name": "7 others",
            "count": 7
           }
          ]
         }
        },
        {
         "name": "date_of_attack",
         "dtype": "object",
         "stats": {
          "unique_count": 7,
          "nan_count": 0,
          "categories": [
           {
            "name": "01/18/2022",
            "count": 3
           },
           {
            "name": "01/15/2022",
            "count": 2
           },
           {
            "name": "5 others",
            "count": 5
           }
          ]
         }
        },
        {
         "name": "amount_lost",
         "dtype": "float64",
         "stats": {
          "unique_count": 10,
          "nan_count": 0,
          "min": "90000.0",
          "max": "34000000.0",
          "histogram": [
           {
            "bin_start": 90000,
            "bin_end": 3481000,
            "count": 8
           },
           {
            "bin_start": 3481000,
            "bin_end": 6872000,
            "count": 0
           },
           {
            "bin_start": 6872000,
            "bin_end": 10263000,
            "count": 0
           },
           {
            "bin_start": 10263000,
            "bin_end": 13654000,
            "count": 1
           },
           {
            "bin_start": 13654000,
            "bin_end": 17045000,
            "count": 0
           },
           {
            "bin_start": 17045000,
            "bin_end": 20436000,
            "count": 0
           },
           {
            "bin_start": 20436000,
            "bin_end": 23827000,
            "count": 0
           },
           {
            "bin_start": 23827000,
            "bin_end": 27218000,
            "count": 0
           },
           {
            "bin_start": 27218000,
            "bin_end": 30609000,
            "count": 0
           },
           {
            "bin_start": 30609000,
            "bin_end": 34000000,
            "count": 1
           }
          ]
         }
        },
        {
         "name": "attack_type",
         "dtype": "object",
         "stats": {
          "unique_count": 7,
          "nan_count": 0,
          "categories": [
           {
            "name": "Rug Pull",
            "count": 4
           },
           {
            "name": "Unauthorized Withdrawal",
            "count": 1
           },
           {
            "name": "5 others",
            "count": 5
           }
          ]
         }
        },
        {
         "name": "contract_hash",
         "dtype": "object",
         "stats": {
          "unique_count": 0,
          "nan_count": 10,
          "categories": [
           {
            "name": "Missing",
            "count": 10
           }
          ]
         }
        },
        {
         "name": "_deepnote_index_column",
         "dtype": "int64"
        }
       ],
       "rows": [
        {
         "protocol_name": "Kingfund Finance",
         "project_type": "Asset Management",
         "date_of_attack": "01/20/2022",
         "amount_lost": 114000,
         "attack_type": "Rug Pull",
         "contract_hash": "nan",
         "_deepnote_index_column": 0
        },
        {
         "protocol_name": "AFKSystem",
         "project_type": "Yield Farming",
         "date_of_attack": "01/19/2022",
         "amount_lost": 12000000,
         "attack_type": "Rug Pull",
         "contract_hash": "nan",
         "_deepnote_index_column": 1
        },
        {
         "protocol_name": "Crypto.com",
         "project_type": "CEX",
         "date_of_attack": "01/18/2022",
         "amount_lost": 34000000,
         "attack_type": "Unauthorized Withdrawal",
         "contract_hash": "nan",
         "_deepnote_index_column": 2
        },
        {
         "protocol_name": "Multichain",
         "project_type": "DEX",
         "date_of_attack": "01/18/2022",
         "amount_lost": 1400000,
         "attack_type": "Smart Contract Bug",
         "contract_hash": "nan",
         "_deepnote_index_column": 3
        },
        {
         "protocol_name": "Crosswise",
         "project_type": "AMM",
         "date_of_attack": "01/18/2022",
         "amount_lost": 879000,
         "attack_type": "Use Privileged Functions\t\t\t\t\t\t\t\t\t\t\t\t\t\t\t\t\t\t\t\t\t\t\t\t\t",
         "contract_hash": "nan",
         "_deepnote_index_column": 4
        },
        {
         "protocol_name": "Crypto Burger",
         "project_type": "NFT Project",
         "date_of_attack": "01/17/2022",
         "amount_lost": 770000,
         "attack_type": "Reentrancy",
         "contract_hash": "nan",
         "_deepnote_index_column": 5
        },
        {
         "protocol_name": "CityDAO",
         "project_type": "DAO",
         "date_of_attack": "01/15/2022",
         "amount_lost": 90000,
         "attack_type": "Discord Admin Account Hack",
         "contract_hash": "nan",
         "_deepnote_index_column": 6
        },
        {
         "protocol_name": "Rari Capital",
         "project_type": "Lending and Borrowing",
         "date_of_attack": "01/15/2022",
         "amount_lost": 200000,
         "attack_type": "Price Manipulation",
         "contract_hash": "nan",
         "_deepnote_index_column": 7
        },
        {
         "protocol_name": "Frosties",
         "project_type": "NFT Project",
         "date_of_attack": "01/13/2022",
         "amount_lost": 1000000,
         "attack_type": "Rug Pull",
         "contract_hash": "nan",
         "_deepnote_index_column": 8
        },
        {
         "protocol_name": "Multiple IDO Projects",
         "project_type": "IDO Project",
         "date_of_attack": "01/12/2022",
         "amount_lost": 2700000,
         "attack_type": "Rug Pull",
         "contract_hash": "nan",
         "_deepnote_index_column": 9
        }
       ]
      },
      "text/plain": "           protocol_name           project_type date_of_attack  amount_lost  \\\n0       Kingfund Finance       Asset Management     01/20/2022     114000.0   \n1              AFKSystem          Yield Farming     01/19/2022   12000000.0   \n2             Crypto.com                    CEX     01/18/2022   34000000.0   \n3             Multichain                    DEX     01/18/2022    1400000.0   \n4              Crosswise                    AMM     01/18/2022     879000.0   \n5          Crypto Burger            NFT Project     01/17/2022     770000.0   \n6                CityDAO                    DAO     01/15/2022      90000.0   \n7           Rari Capital  Lending and Borrowing     01/15/2022     200000.0   \n8               Frosties            NFT Project     01/13/2022    1000000.0   \n9  Multiple IDO Projects            IDO Project     01/12/2022    2700000.0   \n\n                                         attack_type contract_hash  \n0                                           Rug Pull           NaN  \n1                                           Rug Pull           NaN  \n2                            Unauthorized Withdrawal           NaN  \n3                                 Smart Contract Bug           NaN  \n4  Use Privileged Functions\\t\\t\\t\\t\\t\\t\\t\\t\\t\\t\\t...           NaN  \n5                                         Reentrancy           NaN  \n6                         Discord Admin Account Hack           NaN  \n7                                 Price Manipulation           NaN  \n8                                           Rug Pull           NaN  \n9                                           Rug Pull           NaN  ",
      "text/html": "<div>\n<style scoped>\n    .dataframe tbody tr th:only-of-type {\n        vertical-align: middle;\n    }\n\n    .dataframe tbody tr th {\n        vertical-align: top;\n    }\n\n    .dataframe thead th {\n        text-align: right;\n    }\n</style>\n<table border=\"1\" class=\"dataframe\">\n  <thead>\n    <tr style=\"text-align: right;\">\n      <th></th>\n      <th>protocol_name</th>\n      <th>project_type</th>\n      <th>date_of_attack</th>\n      <th>amount_lost</th>\n      <th>attack_type</th>\n      <th>contract_hash</th>\n    </tr>\n  </thead>\n  <tbody>\n    <tr>\n      <th>0</th>\n      <td>Kingfund Finance</td>\n      <td>Asset Management</td>\n      <td>01/20/2022</td>\n      <td>114000.0</td>\n      <td>Rug Pull</td>\n      <td>NaN</td>\n    </tr>\n    <tr>\n      <th>1</th>\n      <td>AFKSystem</td>\n      <td>Yield Farming</td>\n      <td>01/19/2022</td>\n      <td>12000000.0</td>\n      <td>Rug Pull</td>\n      <td>NaN</td>\n    </tr>\n    <tr>\n      <th>2</th>\n      <td>Crypto.com</td>\n      <td>CEX</td>\n      <td>01/18/2022</td>\n      <td>34000000.0</td>\n      <td>Unauthorized Withdrawal</td>\n      <td>NaN</td>\n    </tr>\n    <tr>\n      <th>3</th>\n      <td>Multichain</td>\n      <td>DEX</td>\n      <td>01/18/2022</td>\n      <td>1400000.0</td>\n      <td>Smart Contract Bug</td>\n      <td>NaN</td>\n    </tr>\n    <tr>\n      <th>4</th>\n      <td>Crosswise</td>\n      <td>AMM</td>\n      <td>01/18/2022</td>\n      <td>879000.0</td>\n      <td>Use Privileged Functions\\t\\t\\t\\t\\t\\t\\t\\t\\t\\t\\t...</td>\n      <td>NaN</td>\n    </tr>\n    <tr>\n      <th>5</th>\n      <td>Crypto Burger</td>\n      <td>NFT Project</td>\n      <td>01/17/2022</td>\n      <td>770000.0</td>\n      <td>Reentrancy</td>\n      <td>NaN</td>\n    </tr>\n    <tr>\n      <th>6</th>\n      <td>CityDAO</td>\n      <td>DAO</td>\n      <td>01/15/2022</td>\n      <td>90000.0</td>\n      <td>Discord Admin Account Hack</td>\n      <td>NaN</td>\n    </tr>\n    <tr>\n      <th>7</th>\n      <td>Rari Capital</td>\n      <td>Lending and Borrowing</td>\n      <td>01/15/2022</td>\n      <td>200000.0</td>\n      <td>Price Manipulation</td>\n      <td>NaN</td>\n    </tr>\n    <tr>\n      <th>8</th>\n      <td>Frosties</td>\n      <td>NFT Project</td>\n      <td>01/13/2022</td>\n      <td>1000000.0</td>\n      <td>Rug Pull</td>\n      <td>NaN</td>\n    </tr>\n    <tr>\n      <th>9</th>\n      <td>Multiple IDO Projects</td>\n      <td>IDO Project</td>\n      <td>01/12/2022</td>\n      <td>2700000.0</td>\n      <td>Rug Pull</td>\n      <td>NaN</td>\n    </tr>\n  </tbody>\n</table>\n</div>"
     },
     "metadata": {}
    }
   ]
  },
  {
   "cell_type": "code",
   "metadata": {
    "cell_id": "00004-4a3d494a-5ade-4f34-9b62-cac61c952616",
    "deepnote_to_be_reexecuted": false,
    "source_hash": "2e875fb9",
    "execution_start": 1651640181598,
    "execution_millis": 0,
    "deepnote_cell_type": "code",
    "deepnote_cell_height": 81
   },
   "source": "import asyncio",
   "execution_count": null,
   "outputs": []
  },
  {
   "cell_type": "code",
   "metadata": {
    "cell_id": "00005-d6f79501-6431-4ba2-a7d8-94015beae543",
    "deepnote_to_be_reexecuted": false,
    "source_hash": "9cc8741",
    "execution_start": 1651640181599,
    "execution_millis": 7176,
    "deepnote_cell_type": "code",
    "deepnote_cell_height": 317
   },
   "source": "!pip install --upgrade pip",
   "execution_count": null,
   "outputs": [
    {
     "name": "stdout",
     "text": "Collecting pip\n  Downloading pip-22.0.4-py3-none-any.whl (2.1 MB)\n\u001b[K     |████████████████████████████████| 2.1 MB 26.4 MB/s \n\u001b[?25hInstalling collected packages: pip\n  Attempting uninstall: pip\n    Found existing installation: pip 20.1.1\n    Uninstalling pip-20.1.1:\n      Successfully uninstalled pip-20.1.1\nSuccessfully installed pip-22.0.4\n",
     "output_type": "stream"
    }
   ]
  },
  {
   "cell_type": "code",
   "metadata": {
    "cell_id": "00006-ed6b263c-b95e-4b92-b017-eb3ea2008538",
    "deepnote_to_be_reexecuted": false,
    "source_hash": "30183191",
    "execution_start": 1651640188777,
    "execution_millis": 7182,
    "deepnote_cell_type": "code",
    "deepnote_cell_height": 746
   },
   "source": "!pip install beneath==1.4.2",
   "execution_count": null,
   "outputs": [
    {
     "name": "stdout",
     "text": "Collecting beneath==1.4.2\n  Downloading beneath-1.4.2-py3-none-any.whl (71 kB)\n\u001b[2K     \u001b[90m━━━━━━━━━━━━━━━━━━━━━━━━━━━━━━━━━━━━━━━━\u001b[0m \u001b[32m71.0/71.0 KB\u001b[0m \u001b[31m10.6 MB/s\u001b[0m eta \u001b[36m0:00:00\u001b[0m\n\u001b[?25hRequirement already satisfied: six<2.0.0,>=1.14.0 in /shared-libs/python3.7/py-core/lib/python3.7/site-packages (from beneath==1.4.2) (1.16.0)\nCollecting msgpack<2.0.0,>=1.0.0\n  Downloading msgpack-1.0.3-cp37-cp37m-manylinux_2_17_x86_64.manylinux2014_x86_64.whl (299 kB)\n\u001b[2K     \u001b[90m━━━━━━━━━━━━━━━━━━━━━━━━━━━━━━━━━━━━━━\u001b[0m \u001b[32m299.4/299.4 KB\u001b[0m \u001b[31m40.0 MB/s\u001b[0m eta \u001b[36m0:00:00\u001b[0m\n\u001b[?25hRequirement already satisfied: pandas<2.0.0,>=1.0.1 in /shared-libs/python3.7/py/lib/python3.7/site-packages (from beneath==1.4.2) (1.2.5)\nRequirement already satisfied: protobuf<4.0.0,>=3.11.3 in /shared-libs/python3.7/py/lib/python3.7/site-packages (from beneath==1.4.2) (3.20.0)\nRequirement already satisfied: grpcio<2.0.0,>=1.35.0 in /shared-libs/python3.7/py/lib/python3.7/site-packages (from beneath==1.4.2) (1.44.0)\nRequirement already satisfied: aiohttp<4.0.0,>=3.6.2 in /shared-libs/python3.7/py-core/lib/python3.7/site-packages (from beneath==1.4.2) (3.8.1)\nCollecting Cython<0.30.0,>=0.29.15\n  Downloading Cython-0.29.28-cp37-cp37m-manylinux_2_17_x86_64.manylinux2014_x86_64.manylinux_2_24_x86_64.whl (1.9 MB)\n\u001b[2K     \u001b[90m━━━━━━━━━━━━━━━━━━━━━━━━━━━━━━━━━━━━━━━━\u001b[0m \u001b[32m1.9/1.9 MB\u001b[0m \u001b[31m77.8 MB/s\u001b[0m eta \u001b[36m0:00:00\u001b[0m\n\u001b[?25hCollecting argparse<2.0,>=1.4\n  Downloading argparse-1.4.0-py2.py3-none-any.whl (23 kB)\nCollecting fastavro<2.0,>=1.0\n  Downloading fastavro-1.4.11-cp37-cp37m-manylinux_2_17_x86_64.manylinux2014_x86_64.whl (2.3 MB)\n\u001b[2K     \u001b[90m━━━━━━━━━━━━━━━━━━━━━━━━━━━━━━━━━━━━━━━━\u001b[0m \u001b[32m2.3/2.3 MB\u001b[0m \u001b[31m79.2 MB/s\u001b[0m eta \u001b[36m0:00:00\u001b[0m\n\u001b[?25hRequirement already satisfied: typing-extensions>=3.7.4 in /shared-libs/python3.7/py-core/lib/python3.7/site-packages (from aiohttp<4.0.0,>=3.6.2->beneath==1.4.2) (4.2.0)\nRequirement already satisfied: frozenlist>=1.1.1 in /shared-libs/python3.7/py-core/lib/python3.7/site-packages (from aiohttp<4.0.0,>=3.6.2->beneath==1.4.2) (1.3.0)\nRequirement already satisfied: charset-normalizer<3.0,>=2.0 in /shared-libs/python3.7/py-core/lib/python3.7/site-packages (from aiohttp<4.0.0,>=3.6.2->beneath==1.4.2) (2.0.12)\nRequirement already satisfied: attrs>=17.3.0 in /shared-libs/python3.7/py-core/lib/python3.7/site-packages (from aiohttp<4.0.0,>=3.6.2->beneath==1.4.2) (21.4.0)\nRequirement already satisfied: async-timeout<5.0,>=4.0.0a3 in /shared-libs/python3.7/py-core/lib/python3.7/site-packages (from aiohttp<4.0.0,>=3.6.2->beneath==1.4.2) (4.0.2)\nRequirement already satisfied: asynctest==0.13.0 in /shared-libs/python3.7/py-core/lib/python3.7/site-packages (from aiohttp<4.0.0,>=3.6.2->beneath==1.4.2) (0.13.0)\nRequirement already satisfied: aiosignal>=1.1.2 in /shared-libs/python3.7/py-core/lib/python3.7/site-packages (from aiohttp<4.0.0,>=3.6.2->beneath==1.4.2) (1.2.0)\nRequirement already satisfied: multidict<7.0,>=4.5 in /shared-libs/python3.7/py-core/lib/python3.7/site-packages (from aiohttp<4.0.0,>=3.6.2->beneath==1.4.2) (6.0.2)\nRequirement already satisfied: yarl<2.0,>=1.0 in /shared-libs/python3.7/py-core/lib/python3.7/site-packages (from aiohttp<4.0.0,>=3.6.2->beneath==1.4.2) (1.7.2)\nRequirement already satisfied: pytz>=2017.3 in /shared-libs/python3.7/py/lib/python3.7/site-packages (from pandas<2.0.0,>=1.0.1->beneath==1.4.2) (2022.1)\nRequirement already satisfied: numpy>=1.16.5 in /shared-libs/python3.7/py/lib/python3.7/site-packages (from pandas<2.0.0,>=1.0.1->beneath==1.4.2) (1.21.6)\nRequirement already satisfied: python-dateutil>=2.7.3 in /shared-libs/python3.7/py-core/lib/python3.7/site-packages (from pandas<2.0.0,>=1.0.1->beneath==1.4.2) (2.8.2)\nRequirement already satisfied: idna>=2.0 in /shared-libs/python3.7/py-core/lib/python3.7/site-packages (from yarl<2.0,>=1.0->aiohttp<4.0.0,>=3.6.2->beneath==1.4.2) (3.3)\nInstalling collected packages: msgpack, argparse, fastavro, Cython, beneath\nSuccessfully installed Cython-0.29.28 argparse-1.4.0 beneath-1.4.2 fastavro-1.4.11 msgpack-1.0.3\n",
     "output_type": "stream"
    }
   ]
  },
  {
   "cell_type": "code",
   "metadata": {
    "cell_id": "00007-05c7ae49-52a1-477b-9f65-2065bdb89126",
    "deepnote_to_be_reexecuted": false,
    "source_hash": "84bcc2b6",
    "execution_start": 1651640195960,
    "execution_millis": 0,
    "deepnote_cell_type": "code",
    "deepnote_cell_height": 81
   },
   "source": "import beneath",
   "execution_count": null,
   "outputs": []
  },
  {
   "cell_type": "code",
   "metadata": {
    "cell_id": "00008-1507dbb1-ebee-4f7e-a0a1-e2e0ba6c5b9d",
    "deepnote_to_be_reexecuted": false,
    "source_hash": "6c6d5384",
    "execution_start": 1651640195960,
    "execution_millis": 603091,
    "deepnote_cell_type": "code",
    "deepnote_cell_height": 156
   },
   "source": "!beneath auth",
   "execution_count": null,
   "outputs": [
    {
     "name": "stdout",
     "text": "Opening browser to authenticate...\nIf your browser does not open, go to: https://beneath.dev/-/auth/ticket/ac516647-d692-4f4f-8065-b8dbbafe9202\nAuthentication request timed out\n",
     "output_type": "stream"
    }
   ]
  },
  {
   "cell_type": "code",
   "metadata": {
    "scrolled": true,
    "cell_id": "00009-2a11b64d-1175-4b37-80dd-b2391eec6212",
    "deepnote_to_be_reexecuted": false,
    "source_hash": "1cac120",
    "execution_start": 1651640799055,
    "execution_millis": 2,
    "deepnote_cell_type": "code",
    "deepnote_cell_height": 81
   },
   "source": "# !beneath project create bubblyorca/seal-project",
   "execution_count": null,
   "outputs": []
  },
  {
   "cell_type": "code",
   "metadata": {
    "cell_id": "00010-1cf360cb-3c2f-4428-a96f-2a555ac0dbcb",
    "deepnote_to_be_reexecuted": false,
    "source_hash": "ae1cbb00",
    "execution_start": 1651640799060,
    "execution_millis": 1201,
    "deepnote_cell_type": "code",
    "deepnote_cell_height": 379
   },
   "source": "client = beneath.Client()\nawait client.start()\n\ntable = await client.create_table(\"bubblyorca/seal-dataset/attacks\", schema=\"\"\"\n    \"A dataset of all benign, moderate and malicious attacks deployed on Web3 products (updated May 3rd, 2022)\"\n    type Attack @schema {\n        protocol_name: String! @key\n        project_type: String\n        date_of_attack: Timestamp \n        amount_lost: Int\n        contract_hash: String\n    }\n\"\"\", update_if_exists=True)",
   "execution_count": null,
   "outputs": [
    {
     "output_type": "error",
     "ename": "ValueError",
     "evalue": "You are not authenticated (either run 'beneath auth' in the CLI, set the BENEATH_SECRET environment variable, or pass a secret to the Client constructor)",
     "traceback": [
      "\u001b[0;31m---------------------------------------------------------------------------\u001b[0m",
      "\u001b[0;31mValueError\u001b[0m                                Traceback (most recent call last)",
      "\u001b[0;32m<ipython-input-9-2060ab4650d2>\u001b[0m in \u001b[0;36masync-def-wrapper\u001b[0;34m()\u001b[0m\n\u001b[1;32m      2\u001b[0m \u001b[0;32mawait\u001b[0m \u001b[0mclient\u001b[0m\u001b[0;34m.\u001b[0m\u001b[0mstart\u001b[0m\u001b[0;34m(\u001b[0m\u001b[0;34m)\u001b[0m\u001b[0;34m\u001b[0m\u001b[0;34m\u001b[0m\u001b[0m\n\u001b[1;32m      3\u001b[0m \u001b[0;34m\u001b[0m\u001b[0m\n\u001b[0;32m----> 4\u001b[0;31m table = await client.create_table(\"bubblyorca/seal-dataset/attacks\", schema=\"\"\"\n\u001b[0m\u001b[1;32m      5\u001b[0m     \u001b[0;34m\"A dataset of all benign, moderate and malicious attacks deployed on Web3 products (updated May 3rd, 2022)\"\u001b[0m\u001b[0;34m\u001b[0m\u001b[0;34m\u001b[0m\u001b[0m\n\u001b[1;32m      6\u001b[0m     type Attack @schema {\n",
      "\u001b[0;32m~/venv/lib/python3.7/site-packages/beneath/client.py\u001b[0m in \u001b[0;36m__init__\u001b[0;34m(self, secret, dry, write_delay_ms)\u001b[0m\n\u001b[1;32m     55\u001b[0m         \u001b[0mwrite_delay_ms\u001b[0m\u001b[0;34m:\u001b[0m \u001b[0mint\u001b[0m \u001b[0;34m=\u001b[0m \u001b[0mconfig\u001b[0m\u001b[0;34m.\u001b[0m\u001b[0mDEFAULT_WRITE_DELAY_MS\u001b[0m\u001b[0;34m,\u001b[0m\u001b[0;34m\u001b[0m\u001b[0;34m\u001b[0m\u001b[0m\n\u001b[1;32m     56\u001b[0m     ):\n\u001b[0;32m---> 57\u001b[0;31m         \u001b[0mself\u001b[0m\u001b[0;34m.\u001b[0m\u001b[0mconnection\u001b[0m \u001b[0;34m=\u001b[0m \u001b[0mConnection\u001b[0m\u001b[0;34m(\u001b[0m\u001b[0msecret\u001b[0m\u001b[0;34m=\u001b[0m\u001b[0mself\u001b[0m\u001b[0;34m.\u001b[0m\u001b[0m_get_secret\u001b[0m\u001b[0;34m(\u001b[0m\u001b[0msecret\u001b[0m\u001b[0;34m=\u001b[0m\u001b[0msecret\u001b[0m\u001b[0;34m)\u001b[0m\u001b[0;34m)\u001b[0m\u001b[0;34m\u001b[0m\u001b[0;34m\u001b[0m\u001b[0m\n\u001b[0m\u001b[1;32m     58\u001b[0m         \u001b[0mself\u001b[0m\u001b[0;34m.\u001b[0m\u001b[0madmin\u001b[0m \u001b[0;34m=\u001b[0m \u001b[0mAdminClient\u001b[0m\u001b[0;34m(\u001b[0m\u001b[0mconnection\u001b[0m\u001b[0;34m=\u001b[0m\u001b[0mself\u001b[0m\u001b[0;34m.\u001b[0m\u001b[0mconnection\u001b[0m\u001b[0;34m,\u001b[0m \u001b[0mdry\u001b[0m\u001b[0;34m=\u001b[0m\u001b[0mdry\u001b[0m\u001b[0;34m)\u001b[0m\u001b[0;34m\u001b[0m\u001b[0;34m\u001b[0m\u001b[0m\n\u001b[1;32m     59\u001b[0m         \u001b[0mself\u001b[0m\u001b[0;34m.\u001b[0m\u001b[0mdry\u001b[0m \u001b[0;34m=\u001b[0m \u001b[0mdry\u001b[0m\u001b[0;34m\u001b[0m\u001b[0;34m\u001b[0m\u001b[0m\n",
      "\u001b[0;32m~/venv/lib/python3.7/site-packages/beneath/client.py\u001b[0m in \u001b[0;36m_get_secret\u001b[0;34m(cls, secret)\u001b[0m\n\u001b[1;32m     77\u001b[0m         \u001b[0;32mif\u001b[0m \u001b[0;32mnot\u001b[0m \u001b[0msecret\u001b[0m\u001b[0;34m:\u001b[0m\u001b[0;34m\u001b[0m\u001b[0;34m\u001b[0m\u001b[0m\n\u001b[1;32m     78\u001b[0m             raise ValueError(\n\u001b[0;32m---> 79\u001b[0;31m                 \u001b[0;34m\"You are not authenticated (either run 'beneath auth' in the CLI, set the \"\u001b[0m\u001b[0;34m\u001b[0m\u001b[0;34m\u001b[0m\u001b[0m\n\u001b[0m\u001b[1;32m     80\u001b[0m                 \u001b[0;34m\"BENEATH_SECRET environment variable, or pass a secret to the Client constructor)\"\u001b[0m\u001b[0;34m\u001b[0m\u001b[0;34m\u001b[0m\u001b[0m\n\u001b[1;32m     81\u001b[0m             )\n",
      "\u001b[0;31mValueError\u001b[0m: You are not authenticated (either run 'beneath auth' in the CLI, set the BENEATH_SECRET environment variable, or pass a secret to the Client constructor)"
     ]
    }
   ]
  },
  {
   "cell_type": "code",
   "metadata": {
    "cell_id": "d229f64af39e4098ae436c60a77695a8",
    "tags": [],
    "deepnote_to_be_reexecuted": false,
    "source_hash": "b4fadde",
    "execution_start": 1651640799744,
    "execution_millis": 533,
    "deepnote_cell_type": "code",
    "deepnote_cell_height": 162
   },
   "source": "table.use_index\n",
   "execution_count": null,
   "outputs": [
    {
     "output_type": "error",
     "ename": "NameError",
     "evalue": "name 'table' is not defined",
     "traceback": [
      "\u001b[0;31m---------------------------------------------------------------------------\u001b[0m",
      "\u001b[0;31mNameError\u001b[0m                                 Traceback (most recent call last)",
      "\u001b[0;32m<ipython-input-10-a3e69e0f84b0>\u001b[0m in \u001b[0;36m<module>\u001b[0;34m\u001b[0m\n\u001b[0;32m----> 1\u001b[0;31m \u001b[0mtable\u001b[0m\u001b[0;34m.\u001b[0m\u001b[0muse_index\u001b[0m\u001b[0;34m\u001b[0m\u001b[0;34m\u001b[0m\u001b[0m\n\u001b[0m",
      "\u001b[0;31mNameError\u001b[0m: name 'table' is not defined"
     ]
    }
   ]
  },
  {
   "cell_type": "code",
   "metadata": {
    "cell_id": "116ed6ab5262416e91f551d193bcfe71",
    "tags": [],
    "deepnote_to_be_reexecuted": true,
    "source_hash": "36461939",
    "execution_start": 1651619985799,
    "execution_millis": 637,
    "deepnote_cell_type": "code",
    "deepnote_cell_height": 118,
    "deepnote_output_heights": [
     21
    ]
   },
   "source": "table",
   "execution_count": null,
   "outputs": [
    {
     "output_type": "execute_result",
     "execution_count": 11,
     "data": {
      "text/plain": "<beneath.table.Table(\"https://beneath.dev/bubblyorca/seal-dataset/table:attacks\")>"
     },
     "metadata": {}
    }
   ]
  },
  {
   "cell_type": "code",
   "metadata": {
    "scrolled": false,
    "tags": [],
    "cell_id": "00011-11a0878f-4e7b-49b6-a1b0-60a642ea2a82",
    "deepnote_to_be_reexecuted": true,
    "source_hash": "a32f0c4b",
    "execution_start": 1651619985807,
    "execution_millis": 633,
    "owner_user_id": "ac495b09-75ff-48c0-8097-683d7d12dbfc",
    "deepnote_cell_type": "code",
    "deepnote_cell_height": 100,
    "deepnote_output_heights": [
     21
    ]
   },
   "source": "# Reads in DataFrame as parameters in Beneath table\n\n# async def func():\n\n'''\nawait beneath.write_full(\n    table_path = 'bubblyorca/seal-dataset/attacks',\n    records = df,\n    key = 'key',\n    description= \"A dataset of all benign, moderate and malicious attacks deployed on Web3 products (updated May 3rd, 2022)\",\n    recreate_on_schema_change=False\n)\n'''",
   "execution_count": null,
   "outputs": [
    {
     "output_type": "execute_result",
     "execution_count": 12,
     "data": {
      "text/plain": "'\\nawait beneath.write_full(\\n    table_path = \\'bubblyorca/seal-dataset/attacks\\',\\n    records = df,\\n    key = \\'key\\',\\n    description= \"A dataset of all benign, moderate and malicious attacks deployed on Web3 products (updated May 3rd, 2022)\",\\n    recreate_on_schema_change=False\\n)\\n'"
     },
     "metadata": {}
    }
   ]
  },
  {
   "cell_type": "code",
   "metadata": {
    "cell_id": "00012-4bec4157-2e09-4cb7-8fb3-a7237399664c",
    "deepnote_to_be_reexecuted": false,
    "source_hash": "9ffb10e5",
    "execution_start": 1651644115921,
    "execution_millis": 356,
    "deepnote_cell_type": "code",
    "deepnote_cell_height": 558
   },
   "source": "# load a dataset of attack\nurl = \"https://raw.githubusercontent.com/SenaLabs/attack-playbook/main/SEAL-dataset-WIP.json\"\n\nasync with aiohttp.ClientSession() as session:\n    async with session.get(url) as res:\n        attacks = await res.json(content_type=None)\n\n# write a 400 random attack one-by-one\nn = 400\nfor i in range(n):\n    # get a random attack\n    attack = random.choice(attacks)\n\n    # transform and write the attack\n    await table.write({\n        \"protocol_name\": str(attack[\"protocol_name\"]),\n        \"project_type\": str(attack[\"project_type\"]),\n        \"date_of_attack\": datetime.strptime(attack[\"date_of_attack\"], '%m/%d/%Y'),\n        \"amount_lost\": attack[\"amount_lost\"],\n        \"contract_hash\": str(attack[\"contract_hash\"]),\n    })\n\n    # wait a while\n    await asyncio.sleep(60)",
   "execution_count": null,
   "outputs": [
    {
     "output_type": "error",
     "ename": "NameError",
     "evalue": "name 'aiohttp' is not defined",
     "traceback": [
      "\u001b[0;31m---------------------------------------------------------------------------\u001b[0m",
      "\u001b[0;31mNameError\u001b[0m                                 Traceback (most recent call last)",
      "\u001b[0;32m<ipython-input-1-daa307070bba>\u001b[0m in \u001b[0;36masync-def-wrapper\u001b[0;34m()\u001b[0m\n\u001b[1;32m      5\u001b[0m     \u001b[0;32masync\u001b[0m \u001b[0;32mwith\u001b[0m \u001b[0msession\u001b[0m\u001b[0;34m.\u001b[0m\u001b[0mget\u001b[0m\u001b[0;34m(\u001b[0m\u001b[0murl\u001b[0m\u001b[0;34m)\u001b[0m \u001b[0;32mas\u001b[0m \u001b[0mres\u001b[0m\u001b[0;34m:\u001b[0m\u001b[0;34m\u001b[0m\u001b[0;34m\u001b[0m\u001b[0m\n\u001b[1;32m      6\u001b[0m         \u001b[0mattacks\u001b[0m \u001b[0;34m=\u001b[0m \u001b[0;32mawait\u001b[0m \u001b[0mres\u001b[0m\u001b[0;34m.\u001b[0m\u001b[0mjson\u001b[0m\u001b[0;34m(\u001b[0m\u001b[0mcontent_type\u001b[0m\u001b[0;34m=\u001b[0m\u001b[0;32mNone\u001b[0m\u001b[0;34m)\u001b[0m\u001b[0;34m\u001b[0m\u001b[0;34m\u001b[0m\u001b[0m\n\u001b[0;32m----> 7\u001b[0;31m \u001b[0;34m\u001b[0m\u001b[0m\n\u001b[0m\u001b[1;32m      8\u001b[0m \u001b[0;31m# write a 400 random attack one-by-one\u001b[0m\u001b[0;34m\u001b[0m\u001b[0;34m\u001b[0m\u001b[0;34m\u001b[0m\u001b[0m\n\u001b[1;32m      9\u001b[0m \u001b[0mn\u001b[0m \u001b[0;34m=\u001b[0m \u001b[0;36m400\u001b[0m\u001b[0;34m\u001b[0m\u001b[0;34m\u001b[0m\u001b[0m\n",
      "\u001b[0;31mNameError\u001b[0m: name 'aiohttp' is not defined"
     ]
    }
   ]
  },
  {
   "cell_type": "code",
   "metadata": {
    "cell_id": "9a0e3de59f4f49b59dc2c1e310e92c02",
    "tags": [],
    "deepnote_to_be_reexecuted": true,
    "source_hash": "ffae929c",
    "execution_start": 1651610279099,
    "execution_millis": 11,
    "deepnote_cell_type": "code",
    "deepnote_cell_height": 213,
    "deepnote_output_heights": [
     116
    ]
   },
   "source": "attack",
   "execution_count": null,
   "outputs": [
    {
     "output_type": "execute_result",
     "execution_count": 57,
     "data": {
      "text/plain": "{'protocol_name': 'Saddle Finance',\n 'project_type': 'AMM',\n 'date_of_attack': '1/20/2021',\n 'amount_lost': 275735,\n 'attack_type': 'Rug Pull',\n 'contract_hash': ''}"
     },
     "metadata": {}
    }
   ]
  },
  {
   "cell_type": "code",
   "metadata": {
    "cell_id": "60b3778e2e45433a8405cff9745061cb",
    "tags": [],
    "deepnote_to_be_reexecuted": true,
    "source_hash": "e6a42ab4",
    "execution_start": 1651610824045,
    "execution_millis": 55,
    "deepnote_cell_type": "code",
    "deepnote_cell_height": 704,
    "deepnote_output_heights": [
     607
    ]
   },
   "source": "attacks",
   "execution_count": null,
   "outputs": [
    {
     "output_type": "execute_result",
     "execution_count": 70,
     "data": {
      "text/plain": "[{'protocol_name': 'Kingfund Finance',\n  'project_type': 'Asset Management',\n  'date_of_attack': '01/20/2022',\n  'amount_lost': 114000,\n  'attack_type': 'Rug Pull',\n  'contract_hash': ''},\n {'protocol_name': 'AFKSystem',\n  'project_type': 'Yield Farming',\n  'date_of_attack': '01/19/2022',\n  'amount_lost': 12000000,\n  'attack_type': 'Rug Pull',\n  'contract_hash': ''},\n {'protocol_name': 'Crypto.com',\n  'project_type': 'CEX',\n  'date_of_attack': '01/18/2022',\n  'amount_lost': 34000000,\n  'attack_type': 'Unauthorized Withdrawal',\n  'contract_hash': ''},\n {'protocol_name': 'Multichain',\n  'project_type': 'DEX',\n  'date_of_attack': '01/18/2022',\n  'amount_lost': 1400000,\n  'attack_type': 'Smart Contract Bug',\n  'contract_hash': ''},\n {'protocol_name': 'Crosswise',\n  'project_type': 'AMM',\n  'date_of_attack': '01/18/2022',\n  'amount_lost': 879000,\n  'attack_type': 'Use Privileged Functions\\t\\t\\t\\t\\t\\t\\t\\t\\t\\t\\t\\t\\t\\t\\t\\t\\t\\t\\t\\t\\t\\t\\t\\t\\t',\n  'contract_hash': ''},\n {'protocol_name': 'Crypto Burger',\n  'project_type': 'NFT Project',\n  'date_of_attack': '01/17/2022',\n  'amount_lost': 770000,\n  'attack_type': 'Reentrancy',\n  'contract_hash': ''},\n {'protocol_name': 'CityDAO',\n  'project_type': 'DAO',\n  'date_of_attack': '01/15/2022',\n  'amount_lost': 90000,\n  'attack_type': 'Discord Admin Account Hack',\n  'contract_hash': ''},\n {'protocol_name': 'Rari Capital',\n  'project_type': 'Lending and Borrowing',\n  'date_of_attack': '01/15/2022',\n  'amount_lost': 200000,\n  'attack_type': 'Price Manipulation',\n  'contract_hash': ''},\n {'protocol_name': 'Frosties',\n  'project_type': 'NFT Project',\n  'date_of_attack': '01/13/2022',\n  'amount_lost': 1000000,\n  'attack_type': 'Rug Pull',\n  'contract_hash': ''},\n {'protocol_name': 'Multiple IDO Projects',\n  'project_type': 'IDO Project',\n  'date_of_attack': '01/12/2022',\n  'amount_lost': 2700000,\n  'attack_type': 'Rug Pull',\n  'contract_hash': ''},\n {'protocol_name': 'LooksRare',\n  'project_type': 'NFT Marketplace',\n  'date_of_attack': '01/11/2022',\n  'amount_lost': None,\n  'attack_type': 'DDos attack',\n  'contract_hash': ''},\n {'protocol_name': 'Lympo',\n  'project_type': 'NFT Marketplace',\n  'date_of_attack': '01/10/2022',\n  'amount_lost': 18700000,\n  'attack_type': 'Hot Wallet Security Vulnerability',\n  'contract_hash': ''},\n {'protocol_name': 'LCX',\n  'project_type': 'Trading',\n  'date_of_attack': '01/09/2022',\n  'amount_lost': 6000000,\n  'attack_type': 'Smart Contract Bug',\n  'contract_hash': ''},\n {'protocol_name': 'Solana',\n  'project_type': 'Trading',\n  'date_of_attack': '01/13/2021',\n  'amount_lost': None,\n  'attack_type': 'DDos attack',\n  'contract_hash': ''},\n {'protocol_name': 'Arbitrum One',\n  'project_type': 'Layer 2',\n  'date_of_attack': '01/14/2021',\n  'amount_lost': None,\n  'attack_type': 'DDos attack',\n  'contract_hash': ''},\n {'protocol_name': 'Stobox Company',\n  'project_type': 'Asset Management',\n  'date_of_attack': '01/07/2022',\n  'amount_lost': None,\n  'attack_type': 'Private Key Compromise',\n  'contract_hash': ''},\n {'protocol_name': 'DaoMetaland',\n  'project_type': 'Metaverse Platform',\n  'date_of_attack': '01/07/2022',\n  'amount_lost': 288000,\n  'attack_type': 'Rug Pull',\n  'contract_hash': ''},\n {'protocol_name': 'Bored Bunny',\n  'project_type': 'NFT Project',\n  'date_of_attack': '01/06/2022',\n  'amount_lost': 6200000,\n  'attack_type': 'Rug Pull',\n  'contract_hash': ''},\n {'protocol_name': 'Moon Rabbit',\n  'project_type': 'NFT Marketplace',\n  'date_of_attack': '01/05/2022',\n  'amount_lost': None,\n  'attack_type': 'Rug Pull',\n  'contract_hash': ''},\n {'protocol_name': 'Arbix Finance',\n  'project_type': 'Yield Farming',\n  'date_of_attack': '01/04/2022',\n  'amount_lost': 10000000,\n  'attack_type': 'Rug Pull',\n  'contract_hash': ''},\n {'protocol_name': 'Tinyman Pools',\n  'project_type': 'Trading',\n  'date_of_attack': '01/01/2022',\n  'amount_lost': None,\n  'attack_type': 'Smart Contract Bug',\n  'contract_hash': ''},\n {'protocol_name': 'Bitmart',\n  'project_type': 'CEX',\n  'date_of_attack': '12/04/2021',\n  'amount_lost': 196000000,\n  'attack_type': 'Private Key Compromise',\n  'contract_hash': ''},\n {'protocol_name': 'Compound',\n  'project_type': 'Lending and Borrowing',\n  'date_of_attack': '9/29/2021',\n  'amount_lost': 147000000,\n  'attack_type': 'Smart Contract Bug',\n  'contract_hash': ''},\n {'protocol_name': 'VulcanForged',\n  'project_type': 'Gaming',\n  'date_of_attack': '12/13/2021',\n  'amount_lost': 140000000,\n  'attack_type': 'Private Key Compromise',\n  'contract_hash': ''},\n {'protocol_name': 'Cream Finance',\n  'project_type': 'Lending and Borrowing',\n  'date_of_attack': '10/27/2021',\n  'amount_lost': 130000000,\n  'attack_type': 'Flash Loan Attack',\n  'contract_hash': ''},\n {'protocol_name': 'BadgerDAO',\n  'project_type': 'DAO',\n  'date_of_attack': '12/02/2021',\n  'amount_lost': 120000000,\n  'attack_type': 'Phishing Attack',\n  'contract_hash': ''},\n {'protocol_name': 'Ascendex',\n  'project_type': 'Trading',\n  'date_of_attack': '12/12/2021',\n  'amount_lost': 77700000,\n  'attack_type': 'Hot Wallet Compromise',\n  'contract_hash': ''},\n {'protocol_name': 'EasyFi',\n  'project_type': 'Lending and Borrowing',\n  'date_of_attack': '4/19/2021',\n  'amount_lost': 59000000,\n  'attack_type': 'Hot Wallet Compromise',\n  'contract_hash': ''},\n {'protocol_name': 'Uranium Finance',\n  'project_type': 'AMM',\n  'date_of_attack': '4/28/2021',\n  'amount_lost': 57200000,\n  'attack_type': 'Smart Contract Exploit',\n  'contract_hash': ''},\n {'protocol_name': 'bZx',\n  'project_type': 'Lending and Borrowing',\n  'date_of_attack': '11/05/2021',\n  'amount_lost': 55000000,\n  'attack_type': 'Private Key Compromise',\n  'contract_hash': ''},\n {'protocol_name': 'Pancake Bunny',\n  'project_type': 'Yield Farming',\n  'date_of_attack': '5/19/2021',\n  'amount_lost': 45000000,\n  'attack_type': 'Flash Loan Attack',\n  'contract_hash': ''},\n {'protocol_name': 'KuCoin',\n  'project_type': 'CEX',\n  'date_of_attack': '9/29/2020',\n  'amount_lost': 45000000,\n  'attack_type': 'Hot Wallet Security Vulnerability',\n  'contract_hash': ''},\n {'protocol_name': 'Alpha Finance',\n  'project_type': 'Asset Management',\n  'date_of_attack': '2/13/2021',\n  'amount_lost': 37500000,\n  'attack_type': 'Smart Contract Exploit',\n  'contract_hash': ''},\n {'protocol_name': 'Vee Finance',\n  'project_type': 'Lending and Borrowing',\n  'date_of_attack': '9/21/2021',\n  'amount_lost': 34000000,\n  'attack_type': 'Smart Contract Exploit',\n  'contract_hash': ''},\n {'protocol_name': 'Crypto.com',\n  'project_type': 'CEX',\n  'date_of_attack': '1/18/2022',\n  'amount_lost': 33700000,\n  'attack_type': 'Hot Wallet Security Vulnerability',\n  'contract_hash': ''},\n {'protocol_name': 'Meerkat Finance',\n  'project_type': 'Yield Farming',\n  'date_of_attack': '03/04/2021',\n  'amount_lost': 32000000,\n  'attack_type': 'Rug Pull',\n  'contract_hash': ''},\n {'protocol_name': 'MonoX',\n  'project_type': 'DEX',\n  'date_of_attack': '11/30/2021',\n  'amount_lost': 31400000,\n  'attack_type': 'Smart Contract Bug',\n  'contract_hash': ''},\n {'protocol_name': 'Spartan Protocol',\n  'project_type': 'Trading',\n  'date_of_attack': '05/02/2021',\n  'amount_lost': 30500000,\n  'attack_type': 'Flash Loan Attack',\n  'contract_hash': ''},\n {'protocol_name': '                                                                                                                                                                                                                                                                                                                                                                                   ',\n  'project_type': 'Yield Farming',\n  'date_of_attack': '12/18/2021',\n  'amount_lost': 30000000,\n  'attack_type': 'Smart Contract Exploit',\n  'contract_hash': ''},\n {'protocol_name': 'StableMagnet',\n  'project_type': 'AMM',\n  'date_of_attack': '6/23/2021',\n  'amount_lost': 27000000,\n  'attack_type': 'Rug Pull',\n  'contract_hash': ''},\n {'protocol_name': 'Paid Network',\n  'project_type': 'Insurance',\n  'date_of_attack': '03/05/2021',\n  'amount_lost': 27000000,\n  'attack_type': 'Smart Contract Exploit',\n  'contract_hash': ''},\n {'protocol_name': 'Harvest Finance',\n  'project_type': 'Yield Farming',\n  'date_of_attack': '10/26/2020',\n  'amount_lost': 25000000,\n  'attack_type': 'Flash Loan Attack',\n  'contract_hash': ''},\n {'protocol_name': 'xToken',\n  'project_type': 'Asset Management',\n  'date_of_attack': '5/12/2021',\n  'amount_lost': 24000000,\n  'attack_type': 'Smart Contract Exploit',\n  'contract_hash': ''},\n {'protocol_name': 'Popsicle Finance',\n  'project_type': 'Yield Aggregator',\n  'date_of_attack': '08/03/2021',\n  'amount_lost': 20000000,\n  'attack_type': 'Smart Contract Exploit',\n  'contract_hash': ''},\n {'protocol_name': 'Pickle Finance',\n  'project_type': 'Yield Aggregator',\n  'date_of_attack': '11/22/2020',\n  'amount_lost': 19700000,\n  'attack_type': 'Smart Contract Exploit',\n  'contract_hash': ''},\n {'protocol_name': 'Cream Finance',\n  'project_type': 'Lending and Borrowing',\n  'date_of_attack': '8/30/2021',\n  'amount_lost': 18800000,\n  'attack_type': 'Flash Loan Attack',\n  'contract_hash': ''},\n {'protocol_name': 'Snowdog',\n  'project_type': 'Memecoin',\n  'date_of_attack': '11/25/2021',\n  'amount_lost': 18100000,\n  'attack_type': 'Rug Pull',\n  'contract_hash': ''},\n {'protocol_name': 'Bearn.Fi',\n  'project_type': 'Yield Aggregator',\n  'date_of_attack': '5/17/2021',\n  'amount_lost': 18000000,\n  'attack_type': '',\n  'contract_hash': ''},\n {'protocol_name': 'Indexed Finance',\n  'project_type': 'Yield Aggregator',\n  'date_of_attack': '10/14/2021',\n  'amount_lost': 16000000,\n  'attack_type': 'Flash Loan Attack',\n  'contract_hash': ''},\n {'protocol_name': 'Eminence',\n  'project_type': 'Yield Aggregator',\n  'date_of_attack': '9/28/2020',\n  'amount_lost': 15000000,\n  'attack_type': 'Flash Loan Attack',\n  'contract_hash': ''},\n {'protocol_name': 'Furucombo',\n  'project_type': 'Yield Aggregator',\n  'date_of_attack': '2/27/2021',\n  'amount_lost': 14000000,\n  'attack_type': 'Infinite Approval',\n  'contract_hash': ''},\n {'protocol_name': 'Death Bed Confessionsc3pr',\n  'project_type': 'Memecoin',\n  'date_of_attack': '12/02/2020',\n  'amount_lost': 12000000,\n  'attack_type': 'Rug Pull',\n  'contract_hash': ''},\n {'protocol_name': 'Value DeFi',\n  'project_type': 'Yield Aggregator',\n  'date_of_attack': '05/07/2021',\n  'amount_lost': 11000000,\n  'attack_type': 'Smart Contract Exploit',\n  'contract_hash': ''},\n {'protocol_name': 'Yearn Finance',\n  'project_type': 'Yield Aggregator',\n  'date_of_attack': '02/05/2021',\n  'amount_lost': 11000000,\n  'attack_type': 'Flash Loan Attack',\n  'contract_hash': ''},\n {'protocol_name': 'Rari Capital',\n  'project_type': 'Lending and Borrowing',\n  'date_of_attack': '05/08/2021',\n  'amount_lost': 10000000,\n  'attack_type': 'Smart Contract Exploit',\n  'contract_hash': ''},\n {'protocol_name': 'Value DeFi',\n  'project_type': 'Yield Aggregator',\n  'date_of_attack': '05/05/2021',\n  'amount_lost': 10000000,\n  'attack_type': 'Smart Contract Bug',\n  'contract_hash': ''},\n {'protocol_name': 'Punk Protocol',\n  'project_type': 'NFT Project',\n  'date_of_attack': '8/10/2021',\n  'amount_lost': 8950000,\n  'attack_type': 'Smart Contract Exploit',\n  'contract_hash': ''},\n {'protocol_name': 'Visor Finance',\n  'project_type': 'Asset Management',\n  'date_of_attack': '12/21/2021',\n  'amount_lost': 8200000,\n  'attack_type': 'Reentrancy',\n  'contract_hash': ''},\n {'protocol_name': 'ThorChain',\n  'project_type': 'Crosschain Aggregator',\n  'date_of_attack': '7/22/2021',\n  'amount_lost': 8000000,\n  'attack_type': 'Smart Contract Exploit',\n  'contract_hash': ''},\n {'protocol_name': 'Hackepidemic',\n  'project_type': '',\n  'date_of_attack': '11/17/2020',\n  'amount_lost': 8000000,\n  'attack_type': '',\n  'contract_hash': ''},\n {'protocol_name': 'LCX',\n  'project_type': 'Trading',\n  'date_of_attack': '01/08/2022',\n  'amount_lost': 7940000,\n  'attack_type': 'Smart Contract Exploit',\n  'contract_hash': ''},\n {'protocol_name': 'Multichain',\n  'project_type': 'DEX',\n  'date_of_attack': '7/10/2021',\n  'amount_lost': 7900000,\n  'attack_type': 'Smart Contract Bug',\n  'contract_hash': ''},\n {'protocol_name': 'Warp Finance',\n  'project_type': 'Lending and Borrowing',\n  'date_of_attack': '12/18/2020',\n  'amount_lost': 7800000,\n  'attack_type': 'Flash Loan Attack',\n  'contract_hash': ''},\n {'protocol_name': 'BurgerSwap',\n  'project_type': 'DEX',\n  'date_of_attack': '5/28/2021',\n  'amount_lost': 7200000,\n  'attack_type': 'Flash Loan Attack',\n  'contract_hash': ''},\n {'protocol_name': 'Value DeFi',\n  'project_type': 'Yield Aggregator',\n  'date_of_attack': '11/14/2020',\n  'amount_lost': 7400000,\n  'attack_type': 'Flash Loan Attack',\n  'contract_hash': ''},\n {'protocol_name': 'Alchemix',\n  'project_type': 'Lending and Borrowing',\n  'date_of_attack': '6/16/2021',\n  'amount_lost': 6500000,\n  'attack_type': 'Smart Contract Bug',\n  'contract_hash': ''},\n {'protocol_name': 'Belt Finance',\n  'project_type': 'AMM',\n  'date_of_attack': '5/29/2021',\n  'amount_lost': 6300000,\n  'attack_type': 'Flash Loan Attack',\n  'contract_hash': ''},\n {'protocol_name': 'Bondly Finance',\n  'project_type': 'NFT Marketplace',\n  'date_of_attack': '7/15/2021',\n  'amount_lost': 5900000,\n  'attack_type': 'Rug Pull',\n  'contract_hash': ''},\n {'protocol_name': 'Roll',\n  'project_type': 'Payments',\n  'date_of_attack': '3/14/2021',\n  'amount_lost': 5700000,\n  'attack_type': 'Private Key Compromise',\n  'contract_hash': ''},\n {'protocol_name': 'ThorChain',\n  'project_type': 'Crosschain Aggregator',\n  'date_of_attack': '7/15/2021',\n  'amount_lost': 5000000,\n  'attack_type': '',\n  'contract_hash': ''},\n {'protocol_name': 'xToken',\n  'project_type': 'Asset Management',\n  'date_of_attack': '8/29/2021',\n  'amount_lost': 4500000,\n  'attack_type': 'Flash Loan Attack',\n  'contract_hash': ''},\n {'protocol_name': 'Eleven Finance',\n  'project_type': 'Yield Farming',\n  'date_of_attack': '6/22/2021',\n  'amount_lost': 4500000,\n  'attack_type': 'Flash Loan Attack',\n  'contract_hash': ''},\n {'protocol_name': 'Chain Swap',\n  'project_type': 'Yield Aggregator',\n  'date_of_attack': '7/11/2021',\n  'amount_lost': 4400000,\n  'attack_type': 'Smart Contract Exploit',\n  'contract_hash': ''},\n {'protocol_name': 'Dao Maker',\n  'project_type': 'Funding',\n  'date_of_attack': '09/03/2021',\n  'amount_lost': 4000000,\n  'attack_type': 'Smart Contract Exploit',\n  'contract_hash': ''},\n {'protocol_name': 'Jay Pegs Auto Mart',\n  'project_type': 'NFT Project',\n  'date_of_attack': '9/17/2021',\n  'amount_lost': 3100000,\n  'attack_type': 'Rug Pull',\n  'contract_hash': ''},\n {'protocol_name': 'Pancake Bunny',\n  'project_type': 'Yield Farming',\n  'date_of_attack': '7/16/2021',\n  'amount_lost': 2400000,\n  'attack_type': '',\n  'contract_hash': ''},\n {'protocol_name': 'Audodo',\n  'project_type': 'DEX',\n  'date_of_attack': '03/09/2021',\n  'amount_lost': 3800000,\n  'attack_type': 'Smart Contract Exploit',\n  'contract_hash': ''},\n {'protocol_name': 'Akropolis',\n  'project_type': 'Yield Aggregator',\n  'date_of_attack': '11/12/2020',\n  'amount_lost': 2000000,\n  'attack_type': 'Reentrancy',\n  'contract_hash': ''},\n {'protocol_name': 'Bent Finance',\n  'project_type': 'Yield Farming',\n  'date_of_attack': '12/21/2021',\n  'amount_lost': 1750000,\n  'attack_type': 'Smart Contract Exploit',\n  'contract_hash': ''},\n {'protocol_name': '8ight Finance',\n  'project_type': 'DAO',\n  'date_of_attack': '12/08/2021',\n  'amount_lost': 1750000,\n  'attack_type': 'Private Key Compromise',\n  'contract_hash': ''},\n {'protocol_name': 'Levyathan Finance',\n  'project_type': 'Index',\n  'date_of_attack': '7/30/2021',\n  'amount_lost': 1500000,\n  'attack_type': 'Private Key Compromise',\n  'contract_hash': ''},\n {'protocol_name': 'BT Finance',\n  'project_type': 'Yield Aggregator',\n  'date_of_attack': '02/09/2021',\n  'amount_lost': 1300000,\n  'attack_type': 'Smart Contract Exploit',\n  'contract_hash': ''},\n {'protocol_name': 'AutoShark Finance',\n  'project_type': 'AMM',\n  'date_of_attack': '5/24/2021',\n  'amount_lost': 74500000,\n  'attack_type': 'Flash Loan Attack',\n  'contract_hash': ''},\n {'protocol_name': 'Merlin Lab',\n  'project_type': 'Yield Aggregator',\n  'date_of_attack': '5/26/2021',\n  'amount_lost': 68000000,\n  'attack_type': 'Smart Contract Exploit',\n  'contract_hash': ''},\n {'protocol_name': 'Merlin Lab',\n  'project_type': 'Yield Aggregator',\n  'date_of_attack': '5/26/2021',\n  'amount_lost': 55000000,\n  'attack_type': 'Smart Contract Exploit',\n  'contract_hash': ''},\n {'protocol_name': 'Merlin Lab',\n  'project_type': 'Yield Aggregator',\n  'date_of_attack': '6/29/2021',\n  'amount_lost': 33000000,\n  'attack_type': 'Smart Contract Exploit',\n  'contract_hash': ''},\n {'protocol_name': 'Saddle Finance',\n  'project_type': 'AMM',\n  'date_of_attack': '1/20/2021',\n  'amount_lost': 275735,\n  'attack_type': 'Rug Pull',\n  'contract_hash': ''},\n {'protocol_name': 'Safe Dollar',\n  'project_type': 'Stablecoins',\n  'date_of_attack': '6/28/2021',\n  'amount_lost': 248000,\n  'attack_type': 'Smart Contract Exploit',\n  'contract_hash': ''},\n {'protocol_name': 'Pizza DeFi',\n  'project_type': 'Other',\n  'date_of_attack': '12/5/2021',\n  'amount_lost': 5000000,\n  'attack_type': 'Infinite Approval',\n  'contract_hash': ''},\n {'protocol_name': 'Cream Finance',\n  'project_type': 'Lending and Borrowing',\n  'date_of_attack': '10/27/2021',\n  'amount_lost': 130000000,\n  'attack_type': 'Flash Loan Attack',\n  'contract_hash': ''},\n {'protocol_name': 'Pancake Bunny',\n  'project_type': 'Yield Farming',\n  'date_of_attack': '10/20/2021',\n  'amount_lost': 2000000,\n  'attack_type': 'Flash Loan Attack',\n  'contract_hash': ''},\n {'protocol_name': 'Compound Finance',\n  'project_type': 'Lending and Borrowing',\n  'date_of_attack': '9/30/2021',\n  'amount_lost': 100000,\n  'attack_type': 'Smart Contract Bug',\n  'contract_hash': ''},\n {'protocol_name': 'Vee Finance',\n  'project_type': 'Lending and Borrowing',\n  'date_of_attack': '9/21/2021',\n  'amount_lost': 35000000,\n  'attack_type': 'Smart Contract Exploit',\n  'contract_hash': ''},\n {'protocol_name': 'pNetwork',\n  'project_type': 'Network',\n  'date_of_attack': '9/20/2021',\n  'amount_lost': 12000000,\n  'attack_type': 'Smart Contract Exploit',\n  'contract_hash': ''},\n {'protocol_name': 'SushiSwap',\n  'project_type': 'Lending and Borrowing',\n  'date_of_attack': '9/16/2021',\n  'amount_lost': 3000000,\n  'attack_type': 'Smart Contract Exploit',\n  'contract_hash': ''},\n {'protocol_name': 'Zabu Finance',\n  'project_type': 'Yield Farming',\n  'date_of_attack': '9/12/2021',\n  'amount_lost': 3200000,\n  'attack_type': 'Smart Contract Exploit',\n  'contract_hash': ''},\n {'protocol_name': 'Dao Maker',\n  'project_type': 'Funding',\n  'date_of_attack': '8/12/2021',\n  'amount_lost': 7000000,\n  'attack_type': 'Smart Contract Exploit',\n  'contract_hash': ''},\n {'protocol_name': 'Poly Network',\n  'project_type': 'Crosschain Aggregator',\n  'date_of_attack': '8/10/2021',\n  'amount_lost': 611000000,\n  'attack_type': 'Smart Contract Exploit',\n  'contract_hash': ''},\n {'protocol_name': 'ThorChain',\n  'project_type': 'Crosschain Aggregator',\n  'date_of_attack': '6/28/2021',\n  'amount_lost': 139000,\n  'attack_type': 'Smart Contract Exploit',\n  'contract_hash': ''},\n {'protocol_name': 'Chain Swap',\n  'project_type': 'Bridge',\n  'date_of_attack': '7/10/2021',\n  'amount_lost': 4400000,\n  'attack_type': 'Smart Contract Exploit',\n  'contract_hash': ''},\n {'protocol_name': 'Chain Swap',\n  'project_type': 'Bridge',\n  'date_of_attack': '7/2/2021',\n  'amount_lost': 800000,\n  'attack_type': 'Smart Contract Exploit',\n  'contract_hash': ''},\n {'protocol_name': 'Impossible Finance',\n  'project_type': 'Funding',\n  'date_of_attack': '6/21/2021',\n  'amount_lost': 500000,\n  'attack_type': 'Flash Loan Attack',\n  'contract_hash': ''},\n {'protocol_name': 'xToken',\n  'project_type': 'Asset Management',\n  'date_of_attack': '5/12/2021',\n  'amount_lost': 24500000,\n  'attack_type': 'Flash Loan Attack',\n  'contract_hash': ''},\n {'protocol_name': 'Force DAO',\n  'project_type': 'DAO',\n  'date_of_attack': '4/4/2021',\n  'amount_lost': 376000,\n  'attack_type': 'Smart Contract Exploit',\n  'contract_hash': ''},\n {'protocol_name': 'TurtleDex',\n  'project_type': 'DEX',\n  'date_of_attack': '3/18/2021',\n  'amount_lost': 2400000,\n  'attack_type': 'Rug Pull',\n  'contract_hash': ''},\n {'protocol_name': 'Iron Finance',\n  'project_type': 'Lending and Borrowing',\n  'date_of_attack': '3/16/2021',\n  'amount_lost': 170000,\n  'attack_type': 'Rug Pull',\n  'contract_hash': ''},\n {'protocol_name': 'Cover Protocol',\n  'project_type': 'Insurance',\n  'date_of_attack': '12/28/2020',\n  'amount_lost': 5000000,\n  'attack_type': 'Smart Contract Exploit',\n  'contract_hash': ''},\n {'protocol_name': 'Origin Protocol',\n  'project_type': 'Stablecoins',\n  'date_of_attack': '11/17/2020',\n  'amount_lost': 7000000,\n  'attack_type': 'Reentrancy',\n  'contract_hash': ''},\n {'protocol_name': 'Harvest Finance',\n  'project_type': 'Yield Farming',\n  'date_of_attack': '2/17/2022',\n  'amount_lost': 33800000,\n  'attack_type': 'Flash Loan Attack',\n  'contract_hash': ''},\n {'protocol_name': 'Leo Finance',\n  'project_type': 'Network',\n  'date_of_attack': '10/11/2020',\n  'amount_lost': 42000,\n  'attack_type': 'Smart Contract Exploit',\n  'contract_hash': ''},\n {'protocol_name': 'bZx',\n  'project_type': 'Lending and Borrowing',\n  'date_of_attack': '9/13/2020',\n  'amount_lost': 8000000,\n  'attack_type': 'Flash Loan Attack',\n  'contract_hash': ''},\n {'protocol_name': 'Yearn Finance',\n  'project_type': 'Yield Aggregator',\n  'date_of_attack': '9/7/2020',\n  'amount_lost': 250000,\n  'attack_type': 'Flash Loan Attack',\n  'contract_hash': ''},\n {'protocol_name': 'Balancer',\n  'project_type': 'AMM',\n  'date_of_attack': '6/29/2020',\n  'amount_lost': 500000,\n  'attack_type': 'Flash Loan Attack',\n  'contract_hash': ''},\n {'protocol_name': 'dForce',\n  'project_type': 'Lending and Borrowing',\n  'date_of_attack': '4/19/2020',\n  'amount_lost': 24900000,\n  'attack_type': 'Reentrancy',\n  'contract_hash': ''},\n {'protocol_name': 'bZx',\n  'project_type': 'Lending and Borrowing',\n  'date_of_attack': '2/15/2020',\n  'amount_lost': 900000,\n  'attack_type': 'Oracle Manipulation',\n  'contract_hash': ''},\n {'protocol_name': 'Fulcrum',\n  'project_type': 'Trading',\n  'date_of_attack': '1/11/2020',\n  'amount_lost': 2500000,\n  'attack_type': 'Smart Contract Exploit',\n  'contract_hash': ''},\n {'protocol_name': 'Bancor',\n  'project_type': 'Trading',\n  'date_of_attack': '7/9/2018',\n  'amount_lost': 13500000,\n  'attack_type': 'Private Key Compromise',\n  'contract_hash': ''},\n {'protocol_name': 'Opyn',\n  'project_type': 'Trading',\n  'date_of_attack': '8/4/2020',\n  'amount_lost': 371260,\n  'attack_type': 'Smart Contract Exploit',\n  'contract_hash': ''},\n {'protocol_name': 'MakerDAO',\n  'project_type': 'Lending and Borrowing',\n  'date_of_attack': '3/12/2020',\n  'amount_lost': 8320000,\n  'attack_type': 'Smart Contract Exploit',\n  'contract_hash': ''},\n {'protocol_name': 'Uniswap',\n  'project_type': 'DEX',\n  'date_of_attack': '4/12/2020',\n  'amount_lost': 300000,\n  'attack_type': 'Reentrancy',\n  'contract_hash': ''},\n {'protocol_name': 'Yearn Finance',\n  'project_type': 'Yield Aggregator',\n  'date_of_attack': '2/4/2021',\n  'amount_lost': 11000000,\n  'attack_type': 'Flash Loan Attack',\n  'contract_hash': ''},\n {'protocol_name': 'Synlev',\n  'project_type': 'Trading',\n  'date_of_attack': '3/12/2021',\n  'amount_lost': 2000000,\n  'attack_type': 'Rug Pull',\n  'contract_hash': ''},\n {'protocol_name': 'DefiSaver',\n  'project_type': 'Asset Management',\n  'date_of_attack': '07/01/2021',\n  'amount_lost': 1200000,\n  'attack_type': 'Whitehat',\n  'contract_hash': ''},\n {'protocol_name': 'Compounder Finance',\n  'project_type': 'Yield Aggregator',\n  'date_of_attack': '12/01/2020',\n  'amount_lost': 12500000,\n  'attack_type': 'Rug Pull',\n  'contract_hash': ''},\n {'protocol_name': 'Percent Finance',\n  'project_type': 'Lending and Borrowing',\n  'date_of_attack': '11/04/2020',\n  'amount_lost': 1000000,\n  'attack_type': 'Smart Contract Bug',\n  'contract_hash': ''},\n {'protocol_name': 'SushiSwap',\n  'project_type': 'Lending and Borrowing',\n  'date_of_attack': '09/05/2020',\n  'amount_lost': 13808454,\n  'attack_type': 'Rug Pull',\n  'contract_hash': ''},\n {'protocol_name': 'Cheese Bank',\n  'project_type': 'Funding',\n  'date_of_attack': '11/06/2020',\n  'amount_lost': 3300000,\n  'attack_type': 'Flash Loan Attack',\n  'contract_hash': ''},\n {'protocol_name': 'The DAO',\n  'project_type': 'DAO',\n  'date_of_attack': '12/06/2016',\n  'amount_lost': 50000000,\n  'attack_type': 'Smart Contract Exploit',\n  'contract_hash': ''},\n {'protocol_name': 'DefiSaver',\n  'project_type': 'Asset Management',\n  'date_of_attack': '08/10/2020',\n  'amount_lost': 310000,\n  'attack_type': 'Smart Contract Exploit',\n  'contract_hash': ''},\n {'protocol_name': 'SpankChain',\n  'project_type': 'Network',\n  'date_of_attack': '09/10/2018',\n  'amount_lost': 37950,\n  'attack_type': 'Reentrancy',\n  'contract_hash': ''},\n {'protocol_name': 'Axion',\n  'project_type': 'Asset Management',\n  'date_of_attack': '11/2/2020',\n  'amount_lost': 600000,\n  'attack_type': 'Mint Exploit',\n  'contract_hash': ''},\n {'protocol_name': 'YAM Finance',\n  'project_type': 'Yield Farming',\n  'date_of_attack': '08/13/2020',\n  'amount_lost': 750000,\n  'attack_type': 'Rebase Error',\n  'contract_hash': ''},\n {'protocol_name': 'bZx',\n  'project_type': 'Lending and Borrowing',\n  'date_of_attack': '09/13/2020',\n  'amount_lost': 8000000,\n  'attack_type': 'Smart Contract Exploit',\n  'contract_hash': ''},\n {'protocol_name': 'inSure',\n  'project_type': 'Insurance',\n  'date_of_attack': '06/14/2021',\n  'amount_lost': 25000000,\n  'attack_type': 'Smart Contract Exploit',\n  'contract_hash': ''},\n {'protocol_name': 'bZx',\n  'project_type': 'Lending and Borrowing',\n  'date_of_attack': '02/15/2020',\n  'amount_lost': 355880,\n  'attack_type': 'Flash Loan Attack',\n  'contract_hash': ''},\n {'protocol_name': 'Origin Dollar',\n  'project_type': 'Stablecoins',\n  'date_of_attack': '11/16/2020',\n  'amount_lost': 7700000,\n  'attack_type': 'Flash Loan Attack',\n  'contract_hash': ''},\n {'protocol_name': '88mph',\n  'project_type': 'Lending and Borrowing',\n  'date_of_attack': '11/17/2020',\n  'amount_lost': 100000,\n  'attack_type': 'Mint Exploit',\n  'contract_hash': ''},\n {'protocol_name': 'bZx',\n  'project_type': 'Lending and Borrowing',\n  'date_of_attack': '02/18/2020',\n  'amount_lost': 633000,\n  'attack_type': 'Flash Loan Attack',\n  'contract_hash': ''},\n {'protocol_name': 'True Seigniorage Dollar',\n  'project_type': 'Stablecoins',\n  'date_of_attack': '03/18/2021',\n  'amount_lost': 16600,\n  'attack_type': 'Mint Exploit',\n  'contract_hash': ''},\n {'protocol_name': 'Bancor',\n  'project_type': 'Trading',\n  'date_of_attack': '06/18/2020',\n  'amount_lost': 135229,\n  'attack_type': 'Other',\n  'contract_hash': ''},\n {'protocol_name': 'Opyn',\n  'project_type': 'Trading',\n  'date_of_attack': '04/19/2020',\n  'amount_lost': 24500000,\n  'attack_type': 'Reentrancy',\n  'contract_hash': ''},\n {'protocol_name': 'Pancake Bunny',\n  'project_type': 'Yield Farming',\n  'date_of_attack': '05/19/2021',\n  'amount_lost': 45000000,\n  'attack_type': 'Flash Loan Attack',\n  'contract_hash': ''},\n {'protocol_name': 'Hegic',\n  'project_type': 'Trading',\n  'date_of_attack': '04/23/2020',\n  'amount_lost': 48000,\n  'attack_type': 'Smart Contract Bug',\n  'contract_hash': ''},\n {'protocol_name': 'Deriswap',\n  'project_type': 'Lending and Borrowing',\n  'date_of_attack': '11/23/2020',\n  'amount_lost': 53000,\n  'attack_type': 'Rug Pull',\n  'contract_hash': ''},\n {'protocol_name': 'Synthetix',\n  'project_type': 'Trading',\n  'date_of_attack': '06/25/2019',\n  'amount_lost': 37000000,\n  'attack_type': 'Other',\n  'contract_hash': ''},\n {'protocol_name': 'Julswap',\n  'project_type': 'DEX',\n  'date_of_attack': '05/27/2021',\n  'amount_lost': 7200000,\n  'attack_type': 'Flash Loan Attack',\n  'contract_hash': ''},\n {'protocol_name': None,\n  'project_type': '',\n  'date_of_attack': '06/28/2020',\n  'amount_lost': 449740,\n  'attack_type': 'Flash Loan Attack',\n  'contract_hash': ''},\n {'protocol_name': 'SushiSwap',\n  'project_type': 'Lending and Borrowing',\n  'date_of_attack': '1/29/21',\n  'amount_lost': 108000,\n  'attack_type': 'Smart Contract Exploit',\n  'contract_hash': ''},\n {'protocol_name': 'Vader Protocol',\n  'project_type': 'Lending and Borrowing',\n  'date_of_attack': '06/30/2020',\n  'amount_lost': 900000,\n  'attack_type': 'Smart Contract Exploit',\n  'contract_hash': ''},\n {'protocol_name': 'SushiSwap',\n  'project_type': 'Lending and Borrowing',\n  'date_of_attack': '11/30/2020',\n  'amount_lost': 15000,\n  'attack_type': 'Smart Contract Exploit',\n  'contract_hash': ''},\n {'protocol_name': 'Force DAO',\n  'project_type': 'DAO',\n  'date_of_attack': '4/6/2021',\n  'amount_lost': 367000,\n  'attack_type': 'Smart Contract Exploit',\n  'contract_hash': ''},\n {'protocol_name': 'Growth DeFi',\n  'project_type': 'Yield Aggregator',\n  'date_of_attack': '2/8/2021',\n  'amount_lost': 1400000,\n  'attack_type': 'Smart Contract Exploit',\n  'contract_hash': ''},\n {'protocol_name': 'Mocha Set Dollar',\n  'project_type': 'Funding',\n  'date_of_attack': '01/01/2021',\n  'amount_lost': 6679,\n  'attack_type': 'Rug Pull',\n  'contract_hash': ''},\n {'protocol_name': 'Charge DeFi',\n  'project_type': 'Trading',\n  'date_of_attack': '01/01/2021',\n  'amount_lost': None,\n  'attack_type': 'Rug Pull',\n  'contract_hash': ''},\n {'protocol_name': 'Multiple Finance',\n  'project_type': 'Trading',\n  'date_of_attack': '02/01/2021',\n  'amount_lost': 240000,\n  'attack_type': 'Rug Pull',\n  'contract_hash': ''},\n {'protocol_name': 'Vaultz',\n  'project_type': 'Trading',\n  'date_of_attack': '02/02/2021',\n  'amount_lost': 7625,\n  'attack_type': 'Rug Pull',\n  'contract_hash': ''},\n {'protocol_name': 'Penny Protocol',\n  'project_type': 'Trading',\n  'date_of_attack': '04/01/2021',\n  'amount_lost': 1884,\n  'attack_type': 'Rug Pull',\n  'contract_hash': ''},\n {'protocol_name': 'Xdef Finance',\n  'project_type': 'Funding',\n  'date_of_attack': '05/01/2021',\n  'amount_lost': 561000,\n  'attack_type': 'Rug Pull',\n  'contract_hash': ''},\n {'protocol_name': 'Shopin',\n  'project_type': 'Trading',\n  'date_of_attack': '06/01/2018',\n  'amount_lost': 10000000,\n  'attack_type': 'ICO Scam',\n  'contract_hash': ''},\n {'protocol_name': 'Kore',\n  'project_type': 'Yield Farming',\n  'date_of_attack': '11/01/2020',\n  'amount_lost': 346488,\n  'attack_type': 'Rug Pull',\n  'contract_hash': ''},\n {'protocol_name': 'Kper Network',\n  'project_type': 'Network',\n  'date_of_attack': '11/01/2020',\n  'amount_lost': 550000,\n  'attack_type': 'Rug Pull',\n  'contract_hash': ''},\n {'protocol_name': 'PlexCoin',\n  'project_type': 'Trading',\n  'date_of_attack': '12/01/2017',\n  'amount_lost': 2000000,\n  'attack_type': 'ICO Scam',\n  'contract_hash': ''},\n {'protocol_name': 'AriseBank',\n  'project_type': 'Trading',\n  'date_of_attack': '02/02/2018',\n  'amount_lost': 4200000,\n  'attack_type': 'ICO Scam',\n  'contract_hash': ''},\n {'protocol_name': 'DeFlast Finance',\n  'project_type': 'Trading',\n  'date_of_attack': '02/02/2021',\n  'amount_lost': 300000,\n  'attack_type': 'Whitehat',\n  'contract_hash': ''},\n {'protocol_name': 'OracleSwapToken',\n  'project_type': 'DEX',\n  'date_of_attack': '02/02/2021',\n  'amount_lost': 127327,\n  'attack_type': 'Rug Pull',\n  'contract_hash': ''},\n {'protocol_name': 'Hedget',\n  'project_type': 'Trading',\n  'date_of_attack': '03/02/2021',\n  'amount_lost': None,\n  'attack_type': 'Rug Pull',\n  'contract_hash': ''},\n {'protocol_name': 'Centra',\n  'project_type': 'Trading',\n  'date_of_attack': '04/02/2018',\n  'amount_lost': 25000000,\n  'attack_type': 'ICO Scam',\n  'contract_hash': ''},\n {'protocol_name': 'YFDash Finance',\n  'project_type': 'Network',\n  'date_of_attack': '12/02/2020',\n  'amount_lost': 65611,\n  'attack_type': 'Rug Pull',\n  'contract_hash': ''},\n {'protocol_name': 'Chad Token',\n  'project_type': 'Yield Farming',\n  'date_of_attack': '08/03/2021',\n  'amount_lost': None,\n  'attack_type': 'Rug Pull',\n  'contract_hash': ''},\n {'protocol_name': 'Yearn Finance',\n  'project_type': 'Yield Aggregator',\n  'date_of_attack': '09/03/2020',\n  'amount_lost': 250000,\n  'attack_type': 'Rebase Error',\n  'contract_hash': ''},\n {'protocol_name': 'Rise Protocol',\n  'project_type': 'Trading',\n  'date_of_attack': '11/03/2021',\n  'amount_lost': 543452,\n  'attack_type': 'Rug Pull',\n  'contract_hash': ''},\n {'protocol_name': 'UniCats',\n  'project_type': 'Yield Farming',\n  'date_of_attack': '10/04/2020',\n  'amount_lost': 230000,\n  'attack_type': 'Rug Pull',\n  'contract_hash': ''},\n {'protocol_name': 'Matcha',\n  'project_type': 'Trading',\n  'date_of_attack': '10/04/2021',\n  'amount_lost': 250000,\n  'attack_type': 'Unable to Sell',\n  'contract_hash': ''},\n {'protocol_name': 'Qubes',\n  'project_type': 'Trading',\n  'date_of_attack': '10/04/2021',\n  'amount_lost': 1757250,\n  'attack_type': 'Unable to Sell',\n  'contract_hash': ''},\n {'protocol_name': 'YearnSpace',\n  'project_type': 'Trading',\n  'date_of_attack': '12/04/2020',\n  'amount_lost': 0,\n  'attack_type': 'Rug Pull',\n  'contract_hash': ''},\n {'protocol_name': 'FairElon',\n  'project_type': 'Memecoin',\n  'date_of_attack': '04/05/2021',\n  'amount_lost': 8000,\n  'attack_type': 'Unable to Sell',\n  'contract_hash': ''},\n {'protocol_name': 'keep3rX',\n  'project_type': 'Yield Farming',\n  'date_of_attack': '11/05/2020',\n  'amount_lost': 13280,\n  'attack_type': 'Rug Pull',\n  'contract_hash': ''},\n {'protocol_name': 'Kong Coin',\n  'project_type': 'Memecoin',\n  'date_of_attack': '04/06/2021',\n  'amount_lost': 9963,\n  'attack_type': 'Unable to Sell',\n  'contract_hash': ''},\n {'protocol_name': 'Burn Vault Finance',\n  'project_type': 'Yield Farming',\n  'date_of_attack': '10/06/2020',\n  'amount_lost': 1396,\n  'attack_type': 'Rug Pull',\n  'contract_hash': ''},\n {'protocol_name': 'Padthai Finance',\n  'project_type': 'Yield Farming',\n  'date_of_attack': '10/06/2020',\n  'amount_lost': 30000,\n  'attack_type': 'Rug Pull',\n  'contract_hash': ''},\n {'protocol_name': 'YFFC Finance',\n  'project_type': 'Trading',\n  'date_of_attack': '11/06/2020',\n  'amount_lost': 29700,\n  'attack_type': 'Rug Pull',\n  'contract_hash': ''},\n {'protocol_name': 'Unirocket',\n  'project_type': 'Memecoin',\n  'date_of_attack': '10/08/2020',\n  'amount_lost': 9100,\n  'attack_type': 'Rug Pull',\n  'contract_hash': ''},\n {'protocol_name': 'Contribute Protocol',\n  'project_type': 'DAO',\n  'date_of_attack': '01/09/2021',\n  'amount_lost': 6000,\n  'attack_type': 'Rug Pull',\n  'contract_hash': ''},\n {'protocol_name': 'Emerald Mine',\n  'project_type': 'Interest',\n  'date_of_attack': '09/09/2020',\n  'amount_lost': 2500000,\n  'attack_type': 'Rug Pull',\n  'contract_hash': ''},\n {'protocol_name': 'YFDEX Finance',\n  'project_type': 'Liquidity Pool',\n  'date_of_attack': '11/09/2020',\n  'amount_lost': 20000000,\n  'attack_type': 'Rug Pull',\n  'contract_hash': ''},\n {'protocol_name': 'Generate',\n  'project_type': 'Trading',\n  'date_of_attack': '03/10/2021',\n  'amount_lost': None,\n  'attack_type': 'Rug Pull',\n  'contract_hash': ''},\n {'protocol_name': 'FLiK',\n  'project_type': 'Trading',\n  'date_of_attack': '05/10/2019',\n  'amount_lost': 1300000,\n  'attack_type': 'ICO Scam',\n  'contract_hash': ''},\n {'protocol_name': 'CBDAO',\n  'project_type': 'DAO',\n  'date_of_attack': '11/10/2020',\n  'amount_lost': 90000,\n  'attack_type': 'Rug Pull',\n  'contract_hash': ''},\n {'protocol_name': 'Defibase',\n  'project_type': 'Crosschain Aggregator',\n  'date_of_attack': '12/11/2020',\n  'amount_lost': 382800,\n  'attack_type': 'Rug Pull',\n  'contract_hash': ''},\n {'protocol_name': 'YFFS Finance',\n  'project_type': 'Yield Aggregator',\n  'date_of_attack': '12/11/2020',\n  'amount_lost': 1000000,\n  'attack_type': 'ICO Scam',\n  'contract_hash': ''},\n {'protocol_name': 'Shabuvault',\n  'project_type': 'Yield Farming',\n  'date_of_attack': '12/11/2020',\n  'amount_lost': 5500,\n  'attack_type': 'Rug Pull',\n  'contract_hash': ''},\n {'protocol_name': 'Nifity.io',\n  'project_type': 'NFT Marketplace',\n  'date_of_attack': '01/13/2021',\n  'amount_lost': 194000,\n  'attack_type': 'Rug Pull',\n  'contract_hash': ''},\n {'protocol_name': 'Boon Tech',\n  'project_type': 'Stablecoins',\n  'date_of_attack': '08/13/2020',\n  'amount_lost': 5000000,\n  'attack_type': 'ICO Scam',\n  'contract_hash': ''},\n {'protocol_name': 'BlockVest',\n  'project_type': 'DEX',\n  'date_of_attack': '02/14/2019',\n  'amount_lost': 2500000,\n  'attack_type': 'ICO Scam',\n  'contract_hash': ''},\n {'protocol_name': 'Sakura DeFi',\n  'project_type': 'Gaming',\n  'date_of_attack': '02/14/2021',\n  'amount_lost': None,\n  'attack_type': 'Rug Pull',\n  'contract_hash': ''},\n {'protocol_name': 'MOOswap.org',\n  'project_type': 'Trading',\n  'date_of_attack': '10/14/2020',\n  'amount_lost': 50000,\n  'attack_type': 'Rug Pull',\n  'contract_hash': ''},\n {'protocol_name': 'DeTrade',\n  'project_type': 'Trading',\n  'date_of_attack': '12/14/2020',\n  'amount_lost': 1000000,\n  'attack_type': 'Rug Pull',\n  'contract_hash': ''},\n {'protocol_name': 'MiniVault Finance',\n  'project_type': 'Trading',\n  'date_of_attack': '11/15/2020',\n  'amount_lost': 20000,\n  'attack_type': 'Rug Pull',\n  'contract_hash': ''},\n {'protocol_name': 'pills.forsale',\n  'project_type': 'NFT Marketplace',\n  'date_of_attack': '01/16/2021',\n  'amount_lost': 800000,\n  'attack_type': 'Rug Pull',\n  'contract_hash': ''},\n {'protocol_name': 'Fomo3d',\n  'project_type': 'Gaming',\n  'date_of_attack': '08/16/2018',\n  'amount_lost': 4000000,\n  'attack_type': 'Smart Contract Exploit',\n  'contract_hash': ''},\n {'protocol_name': 'Sav3r',\n  'project_type': 'Gaming',\n  'date_of_attack': '11/16/2020',\n  'amount_lost': 23460,\n  'attack_type': 'Rug Pull',\n  'contract_hash': ''},\n {'protocol_name': 'Walletreum',\n  'project_type': 'Asset Management',\n  'date_of_attack': '11/16/2020',\n  'amount_lost': 163000,\n  'attack_type': 'Rug Pull',\n  'contract_hash': ''},\n {'protocol_name': 'Blockchain Terminal Token',\n  'project_type': 'Trading',\n  'date_of_attack': '01/17/2021',\n  'amount_lost': 30000000,\n  'attack_type': 'ICO Scam',\n  'contract_hash': ''},\n {'protocol_name': 'YearnML Finance',\n  'project_type': '',\n  'date_of_attack': '01/18/2021',\n  'amount_lost': 75000,\n  'attack_type': 'Rug Pull',\n  'contract_hash': ''},\n {'protocol_name': 'ShareDeFi Protocol',\n  'project_type': 'Lending and Borrowing',\n  'date_of_attack': '03/18/2021',\n  'amount_lost': None,\n  'attack_type': 'Rug Pull',\n  'contract_hash': ''},\n {'protocol_name': 'MTI Finance',\n  'project_type': 'Lending and Borrowing',\n  'date_of_attack': '11/18/2020',\n  'amount_lost': 66000,\n  'attack_type': 'Rug Pull',\n  'contract_hash': ''},\n {'protocol_name': 'GasPay',\n  'project_type': 'Trading',\n  'date_of_attack': '02/19/2021',\n  'amount_lost': 203063,\n  'attack_type': 'Rug Pull',\n  'contract_hash': ''},\n {'protocol_name': 'Xfinance',\n  'project_type': 'Liquidity Pool',\n  'date_of_attack': '10/19/2020',\n  'amount_lost': 1050000,\n  'attack_type': 'Rug Pull',\n  'contract_hash': ''},\n {'protocol_name': 'K3psav Finance',\n  'project_type': 'Trading',\n  'date_of_attack': '11/19/2020',\n  'amount_lost': 16636,\n  'attack_type': 'Rug Pull',\n  'contract_hash': ''},\n {'protocol_name': 'Authmen Token',\n  'project_type': 'Yield Farming',\n  'date_of_attack': '12/19/2020',\n  'amount_lost': 12000,\n  'attack_type': 'Rug Pull',\n  'contract_hash': ''},\n {'protocol_name': 'Fairmoon',\n  'project_type': 'Trading',\n  'date_of_attack': '05/19/21',\n  'amount_lost': 500000,\n  'attack_type': 'Rug Pull',\n  'contract_hash': ''},\n {'protocol_name': 'DarkDeFi',\n  'project_type': 'Trading',\n  'date_of_attack': '02/20/2021',\n  'amount_lost': 65000,\n  'attack_type': 'Unable to Sell',\n  'contract_hash': ''},\n {'protocol_name': 'Shiba Poodle',\n  'project_type': 'Memecoin',\n  'date_of_attack': '03/20/2021',\n  'amount_lost': None,\n  'attack_type': 'Rug Pull',\n  'contract_hash': ''},\n {'protocol_name': 'iProtocol',\n  'project_type': 'Network',\n  'date_of_attack': '12/20/2020',\n  'amount_lost': 42880,\n  'attack_type': 'Rug Pull',\n  'contract_hash': ''},\n {'protocol_name': 'Solid Protocol',\n  'project_type': 'Index',\n  'date_of_attack': '12/20/2020',\n  'amount_lost': 150000,\n  'attack_type': 'Rug Pull',\n  'contract_hash': ''},\n {'protocol_name': 'OpportyToken',\n  'project_type': 'Trading',\n  'date_of_attack': '01/21/2020',\n  'amount_lost': 600000,\n  'attack_type': 'ICO Scam',\n  'contract_hash': ''},\n {'protocol_name': 'Argyle Coin',\n  'project_type': 'Trading',\n  'date_of_attack': '05/21/2019',\n  'amount_lost': 30000000,\n  'attack_type': 'ICO Scam',\n  'contract_hash': ''},\n {'protocol_name': 'LV Finance',\n  'project_type': 'Trading',\n  'date_of_attack': '09/21/2020',\n  'amount_lost': 2500000,\n  'attack_type': 'Rug Pull',\n  'contract_hash': ''},\n {'protocol_name': 'Marlin Pond',\n  'project_type': 'Network',\n  'date_of_attack': '12/21/2020',\n  'amount_lost': None,\n  'attack_type': 'Rug Pull',\n  'contract_hash': ''},\n {'protocol_name': 'Turtledex Token',\n  'project_type': 'Decentralized Storage',\n  'date_of_attack': '03/22/2021',\n  'amount_lost': 2500000,\n  'attack_type': 'Rug Pull',\n  'contract_hash': ''},\n {'protocol_name': 'Titanium BAR',\n  'project_type': 'Other',\n  'date_of_attack': '05/22/2018',\n  'amount_lost': 21000000,\n  'attack_type': 'ICO Scam',\n  'contract_hash': ''},\n {'protocol_name': 'Pro Coin',\n  'project_type': 'Trading',\n  'date_of_attack': '05/22/2019',\n  'amount_lost': 26500000,\n  'attack_type': 'ICO Scam',\n  'contract_hash': ''},\n {'protocol_name': 'Futurebase',\n  'project_type': 'Trading',\n  'date_of_attack': '12/22/2020',\n  'amount_lost': 35560,\n  'attack_type': 'Rug Pull',\n  'contract_hash': ''},\n {'protocol_name': 'Gif.Market',\n  'project_type': '',\n  'date_of_attack': '03/23/2021',\n  'amount_lost': 134000,\n  'attack_type': 'Rug Pull',\n  'contract_hash': ''},\n {'protocol_name': 'Dropil',\n  'project_type': 'Trading',\n  'date_of_attack': '04/23/2020',\n  'amount_lost': 1800000,\n  'attack_type': 'ICO Scam',\n  'contract_hash': ''},\n {'protocol_name': 'Fantasy Market Token',\n  'project_type': 'Gaming',\n  'date_of_attack': '09/23/2019',\n  'amount_lost': 63000,\n  'attack_type': 'ICO Scam',\n  'contract_hash': ''},\n {'protocol_name': 'Mosaic',\n  'project_type': 'Other',\n  'date_of_attack': '10/24/2020',\n  'amount_lost': 102500,\n  'attack_type': 'Rug Pull',\n  'contract_hash': ''},\n {'protocol_name': 'Cakelock',\n  'project_type': 'Trading',\n  'date_of_attack': '02/25/2021',\n  'amount_lost': 4230,\n  'attack_type': 'Rug Pull',\n  'contract_hash': ''},\n {'protocol_name': 'Data Transaction Token',\n  'project_type': 'Other',\n  'date_of_attack': '09/25/2020',\n  'amount_lost': 2400000,\n  'attack_type': 'ICO Scam',\n  'contract_hash': ''},\n {'protocol_name': 'Hatch DAO',\n  'project_type': 'DAO',\n  'date_of_attack': '09/25/2020',\n  'amount_lost': 4319,\n  'attack_type': 'Rug Pull',\n  'contract_hash': ''},\n {'protocol_name': 'Magix',\n  'project_type': 'Index',\n  'date_of_attack': '12/25/2020',\n  'amount_lost': 6000,\n  'attack_type': 'Rug Pull',\n  'contract_hash': ''},\n {'protocol_name': 'Veritaseum',\n  'project_type': 'Asset Management',\n  'date_of_attack': '07/26/2017',\n  'amount_lost': 8400000,\n  'attack_type': 'Private Key Compromise',\n  'contract_hash': ''},\n {'protocol_name': 'PopcornSwap',\n  'project_type': 'Trading',\n  'date_of_attack': '01/27/2021',\n  'amount_lost': 2000000,\n  'attack_type': 'Rug Pull',\n  'contract_hash': ''},\n {'protocol_name': 'Safestorm',\n  'project_type': 'Trading',\n  'date_of_attack': '03/27/2021',\n  'amount_lost': 24300,\n  'attack_type': 'Rug Pull',\n  'contract_hash': ''},\n {'protocol_name': 'Santa DAO',\n  'project_type': 'DAO',\n  'date_of_attack': '10/27/2020',\n  'amount_lost': 3456,\n  'attack_type': 'Rug Pull',\n  'contract_hash': ''},\n {'protocol_name': 'ThunderSwap',\n  'project_type': 'Trading',\n  'date_of_attack': '02/28/2020',\n  'amount_lost': 46500,\n  'attack_type': 'Rug Pull',\n  'contract_hash': ''},\n {'protocol_name': 'BitClave',\n  'project_type': 'Other',\n  'date_of_attack': '05/28/2020',\n  'amount_lost': 25500000,\n  'attack_type': 'ICO Scam',\n  'contract_hash': ''},\n {'protocol_name': 'Bitqyck',\n  'project_type': 'Trading',\n  'date_of_attack': '08/29/2019',\n  'amount_lost': 13000000,\n  'attack_type': 'ICO Scam',\n  'contract_hash': ''},\n {'protocol_name': 'Dark Matter',\n  'project_type': 'Memecoin',\n  'date_of_attack': '12/29/2020',\n  'amount_lost': 3000,\n  'attack_type': 'Rug Pull',\n  'contract_hash': ''},\n {'protocol_name': 'Oyster Protocol',\n  'project_type': 'Other',\n  'date_of_attack': '10/30/2018',\n  'amount_lost': 300000,\n  'attack_type': 'Rug Pull',\n  'contract_hash': ''},\n {'protocol_name': 'UniDark',\n  'project_type': 'Trading',\n  'date_of_attack': '11/30/2020',\n  'amount_lost': 35000,\n  'attack_type': 'Rug Pull',\n  'contract_hash': ''},\n {'protocol_name': 'Exeedme',\n  'project_type': 'Gaming',\n  'date_of_attack': '12/30/2020',\n  'amount_lost': 560000,\n  'attack_type': 'Rug Pull',\n  'contract_hash': ''},\n {'protocol_name': 'YYFI',\n  'project_type': 'Trading',\n  'date_of_attack': '07/31/2020',\n  'amount_lost': None,\n  'attack_type': 'Rug Pull',\n  'contract_hash': ''},\n {'protocol_name': 'Amplyfi',\n  'project_type': 'Other',\n  'date_of_attack': '7/31/2020',\n  'amount_lost': 850000,\n  'attack_type': 'Rug Pull',\n  'contract_hash': ''},\n {'protocol_name': 'DecentralizedOracle',\n  'project_type': 'Oracle',\n  'date_of_attack': '4/6/2021',\n  'amount_lost': 600000,\n  'attack_type': 'Rug Pull',\n  'contract_hash': ''},\n {'protocol_name': 'iYieldFram',\n  'project_type': 'Yield Farming',\n  'date_of_attack': '3/7/2021',\n  'amount_lost': 2000000,\n  'attack_type': 'Rug Pull',\n  'contract_hash': ''},\n {'protocol_name': 'SharkTron',\n  'project_type': 'Trading',\n  'date_of_attack': '09/11/2020',\n  'amount_lost': 10000000,\n  'attack_type': 'Rug Pull',\n  'contract_hash': ''},\n {'protocol_name': 'Tether',\n  'project_type': 'Stablecoins',\n  'date_of_attack': '11/19/2017',\n  'amount_lost': 30950010,\n  'attack_type': 'Unauthorized Withdrawal',\n  'contract_hash': ''},\n {'protocol_name': 'Safe Dollar',\n  'project_type': 'Stablecoins',\n  'date_of_attack': '06/18/2021',\n  'amount_lost': 250000,\n  'attack_type': 'Mint Exploit',\n  'contract_hash': ''},\n {'protocol_name': 'Yearn Finance',\n  'project_type': 'Yield Aggregator',\n  'date_of_attack': '06/26/2021',\n  'amount_lost': 259000,\n  'attack_type': 'Smart Contract Bug',\n  'contract_hash': ''},\n {'protocol_name': 'Visor Finance',\n  'project_type': 'AMM',\n  'date_of_attack': '06/19/2021',\n  'amount_lost': 500000,\n  'attack_type': 'Private Key Compromise',\n  'contract_hash': ''},\n {'protocol_name': 'Polybutterfly',\n  'project_type': 'Lending and Borrowing',\n  'date_of_attack': '06/05/2021',\n  'amount_lost': 1600000,\n  'attack_type': 'Rug Pull',\n  'contract_hash': ''},\n {'protocol_name': 'Polyorca',\n  'project_type': 'Yield Farming',\n  'date_of_attack': '06/21/2021',\n  'amount_lost': None,\n  'attack_type': 'Rug Pull',\n  'contract_hash': ''},\n {'protocol_name': 'Beets Finance',\n  'project_type': 'Yield Farming',\n  'date_of_attack': '06/17/2021',\n  'amount_lost': 100000,\n  'attack_type': 'Rug Pull',\n  'contract_hash': ''},\n {'protocol_name': 'Aurafi',\n  'project_type': '',\n  'date_of_attack': '06/05/2021',\n  'amount_lost': 1500000,\n  'attack_type': 'Rug Pull',\n  'contract_hash': ''},\n {'protocol_name': 'STRD Finance',\n  'project_type': '',\n  'date_of_attack': '',\n  'amount_lost': None,\n  'attack_type': '',\n  'contract_hash': ''},\n {'protocol_name': 'cretaceous.space',\n  'project_type': '',\n  'date_of_attack': '',\n  'amount_lost': None,\n  'attack_type': '',\n  'contract_hash': ''},\n {'protocol_name': 'Missile Finance',\n  'project_type': '',\n  'date_of_attack': '',\n  'amount_lost': None,\n  'attack_type': '',\n  'contract_hash': ''},\n {'protocol_name': 'Pumaswap',\n  'project_type': '',\n  'date_of_attack': '',\n  'amount_lost': None,\n  'attack_type': '',\n  'contract_hash': ''},\n {'protocol_name': 'Boobs',\n  'project_type': '',\n  'date_of_attack': '',\n  'amount_lost': None,\n  'attack_type': '',\n  'contract_hash': ''},\n {'protocol_name': 'Ogre',\n  'project_type': '',\n  'date_of_attack': '',\n  'amount_lost': None,\n  'attack_type': '',\n  'contract_hash': ''},\n {'protocol_name': 'Croco',\n  'project_type': '',\n  'date_of_attack': '',\n  'amount_lost': None,\n  'attack_type': '',\n  'contract_hash': ''},\n {'protocol_name': 'Warden',\n  'project_type': '',\n  'date_of_attack': '',\n  'amount_lost': None,\n  'attack_type': '',\n  'contract_hash': ''},\n {'protocol_name': 'Pablo Escobar',\n  'project_type': '',\n  'date_of_attack': '',\n  'amount_lost': None,\n  'attack_type': '',\n  'contract_hash': ''},\n {'protocol_name': 'Pulldog Swap',\n  'project_type': '',\n  'date_of_attack': '',\n  'amount_lost': None,\n  'attack_type': '',\n  'contract_hash': ''},\n {'protocol_name': 'MoltenSwap',\n  'project_type': '',\n  'date_of_attack': '',\n  'amount_lost': None,\n  'attack_type': '',\n  'contract_hash': ''},\n {'protocol_name': 'WhaleSwap',\n  'project_type': '',\n  'date_of_attack': '',\n  'amount_lost': None,\n  'attack_type': '',\n  'contract_hash': ''},\n {'protocol_name': 'DiceSwap',\n  'project_type': '',\n  'date_of_attack': '',\n  'amount_lost': None,\n  'attack_type': '',\n  'contract_hash': ''},\n {'protocol_name': 'KoiSwap',\n  'project_type': '',\n  'date_of_attack': '',\n  'amount_lost': None,\n  'attack_type': '',\n  'contract_hash': ''},\n {'protocol_name': 'Chaddy',\n  'project_type': '',\n  'date_of_attack': '',\n  'amount_lost': None,\n  'attack_type': '',\n  'contract_hash': ''},\n {'protocol_name': 'SheepSwap',\n  'project_type': '',\n  'date_of_attack': '',\n  'amount_lost': None,\n  'attack_type': '',\n  'contract_hash': ''},\n {'protocol_name': 'Demeterfinance.org',\n  'project_type': '',\n  'date_of_attack': '',\n  'amount_lost': None,\n  'attack_type': '',\n  'contract_hash': ''},\n {'protocol_name': 'Durian',\n  'project_type': '',\n  'date_of_attack': '',\n  'amount_lost': None,\n  'attack_type': '',\n  'contract_hash': ''},\n {'protocol_name': 'https://sailorswap.io/sale',\n  'project_type': '',\n  'date_of_attack': '',\n  'amount_lost': None,\n  'attack_type': '',\n  'contract_hash': ''},\n {'protocol_name': 'https://sf2.safufinance.xyz/',\n  'project_type': '',\n  'date_of_attack': '',\n  'amount_lost': None,\n  'attack_type': '',\n  'contract_hash': ''},\n {'protocol_name': 'https://dragon-fly.finance/#/',\n  'project_type': '',\n  'date_of_attack': '',\n  'amount_lost': None,\n  'attack_type': '',\n  'contract_hash': ''},\n {'protocol_name': 'Rumstaking.com',\n  'project_type': '',\n  'date_of_attack': '',\n  'amount_lost': None,\n  'attack_type': '',\n  'contract_hash': ''},\n {'protocol_name': 'https://original.finance/',\n  'project_type': '',\n  'date_of_attack': '',\n  'amount_lost': None,\n  'attack_type': '',\n  'contract_hash': ''},\n {'protocol_name': 'Finite',\n  'project_type': '',\n  'date_of_attack': '',\n  'amount_lost': None,\n  'attack_type': '',\n  'contract_hash': ''},\n {'protocol_name': 'Bacon',\n  'project_type': '',\n  'date_of_attack': '',\n  'amount_lost': None,\n  'attack_type': '',\n  'contract_hash': ''},\n {'protocol_name': 'Croco',\n  'project_type': '',\n  'date_of_attack': '',\n  'amount_lost': None,\n  'attack_type': '',\n  'contract_hash': ''},\n {'protocol_name': 'Neonic',\n  'project_type': '',\n  'date_of_attack': '',\n  'amount_lost': None,\n  'attack_type': '',\n  'contract_hash': ''},\n {'protocol_name': 'Ela',\n  'project_type': '',\n  'date_of_attack': '',\n  'amount_lost': None,\n  'attack_type': '',\n  'contract_hash': ''},\n {'protocol_name': 'BNBdivs',\n  'project_type': '',\n  'date_of_attack': '',\n  'amount_lost': None,\n  'attack_type': '',\n  'contract_hash': ''},\n {'protocol_name': 'Sexyapy.com',\n  'project_type': '',\n  'date_of_attack': '',\n  'amount_lost': None,\n  'attack_type': '',\n  'contract_hash': ''},\n {'protocol_name': 'https://axedefi.com/',\n  'project_type': '',\n  'date_of_attack': '',\n  'amount_lost': None,\n  'attack_type': '',\n  'contract_hash': ''},\n {'protocol_name': 'https://seashell.finance',\n  'project_type': '',\n  'date_of_attack': '',\n  'amount_lost': None,\n  'attack_type': '',\n  'contract_hash': ''},\n {'protocol_name': 'Bearn.Fi',\n  'project_type': '',\n  'date_of_attack': '5/16/21',\n  'amount_lost': 11000000,\n  'attack_type': 'Smart Contract Exploit',\n  'contract_hash': ''},\n {'protocol_name': 'yCredit',\n  'project_type': '',\n  'date_of_attack': '1/1/2021',\n  'amount_lost': 11000000,\n  'attack_type': 'Mint Exploit',\n  'contract_hash': ''},\n {'protocol_name': 'Yield Finance',\n  'project_type': '',\n  'date_of_attack': '2/27/21',\n  'amount_lost': 166000,\n  'attack_type': 'Whitehat',\n  'contract_hash': ''},\n {'protocol_name': 'Zerion',\n  'project_type': '',\n  'date_of_attack': '3/4/2021',\n  'amount_lost': 30000,\n  'attack_type': 'Other',\n  'contract_hash': ''},\n {'protocol_name': 'Sil Finance',\n  'project_type': '',\n  'date_of_attack': '3/18/21',\n  'amount_lost': 12200000,\n  'attack_type': 'Smart Contract Exploit',\n  'contract_hash': ''},\n {'protocol_name': 'Polkatrain',\n  'project_type': '',\n  'date_of_attack': '4/4/2021',\n  'amount_lost': 3000000,\n  'attack_type': 'Smart Contract Exploit',\n  'contract_hash': ''},\n {'protocol_name': 'Pancake Swap',\n  'project_type': 'Yield Farming',\n  'date_of_attack': '3/15/21',\n  'amount_lost': 1800000,\n  'attack_type': 'Smart Contract Exploit',\n  'contract_hash': ''},\n {'protocol_name': 'Venus',\n  'project_type': '',\n  'date_of_attack': '5/18/21',\n  'amount_lost': 300000000,\n  'attack_type': 'Smart Contract Exploit',\n  'contract_hash': ''},\n {'protocol_name': 'Bogged',\n  'project_type': '',\n  'date_of_attack': '5/22/21',\n  'amount_lost': 3600000,\n  'attack_type': 'Flash Loan Attack',\n  'contract_hash': ''},\n {'protocol_name': 'Merlin',\n  'project_type': '',\n  'date_of_attack': '5/26/21',\n  'amount_lost': 680000,\n  'attack_type': 'Mint Exploit',\n  'contract_hash': ''},\n {'protocol_name': 'Wild Credit',\n  'project_type': '',\n  'date_of_attack': '5/27/21',\n  'amount_lost': 637000,\n  'attack_type': 'Smart Contract Exploit',\n  'contract_hash': ''},\n {'protocol_name': 'Alchemix',\n  'project_type': 'Lending and Borrowing',\n  'date_of_attack': '6/6/2021',\n  'amount_lost': 50000,\n  'attack_type': 'Smart Contract Bug',\n  'contract_hash': ''},\n {'protocol_name': 'Impossible Finance',\n  'project_type': '',\n  'date_of_attack': '6/21/21',\n  'amount_lost': 500000,\n  'attack_type': 'Flash Loan Attack',\n  'contract_hash': ''},\n {'protocol_name': 'Uranium Finance',\n  'project_type': '',\n  'date_of_attack': '4/7/2021',\n  'amount_lost': 1500000,\n  'attack_type': 'Smart Contract Exploit',\n  'contract_hash': ''},\n {'protocol_name': 'Value DeFi',\n  'project_type': '',\n  'date_of_attack': '5/6/2021',\n  'amount_lost': 10000000,\n  'attack_type': 'Smart Contract Exploit',\n  'contract_hash': ''},\n {'protocol_name': 'Hotdogcart Finance',\n  'project_type': '',\n  'date_of_attack': '6/29/21',\n  'amount_lost': 22000,\n  'attack_type': 'Rug Pull',\n  'contract_hash': ''},\n {'protocol_name': 'Cream Finance',\n  'project_type': '',\n  'date_of_attack': '08/30/2021',\n  'amount_lost': 18800000,\n  'attack_type': 'Reentrancy',\n  'contract_hash': ''},\n {'protocol_name': 'Tomb Finance',\n  'project_type': '',\n  'date_of_attack': '9/3/2021',\n  'amount_lost': None,\n  'attack_type': '',\n  'contract_hash': ''},\n {'protocol_name': 'Dao Maker',\n  'project_type': '',\n  'date_of_attack': '9/6/2021',\n  'amount_lost': 4000000,\n  'attack_type': 'Smart Contract Exploit',\n  'contract_hash': ''},\n {'protocol_name': 'Compound Finance',\n  'project_type': '',\n  'date_of_attack': '09/29/21',\n  'amount_lost': 147000000,\n  'attack_type': 'Smart Contract Bug',\n  'contract_hash': ''},\n {'protocol_name': 'Compound',\n  'project_type': '',\n  'date_of_attack': '10/04/21',\n  'amount_lost': 68800000,\n  'attack_type': 'Smart Contract Bug',\n  'contract_hash': ''},\n {'protocol_name': 'Cream Finance',\n  'project_type': '',\n  'date_of_attack': '10/27/2021',\n  'amount_lost': 130000000,\n  'attack_type': 'Flash Loan Attack',\n  'contract_hash': ''},\n {'protocol_name': 'AnubisDAO',\n  'project_type': '',\n  'date_of_attack': '10/29/21',\n  'amount_lost': 60000000,\n  'attack_type': 'Rug Pull',\n  'contract_hash': ''},\n {'protocol_name': 'SQUID',\n  'project_type': '',\n  'date_of_attack': '11/01/2021',\n  'amount_lost': 3400000,\n  'attack_type': 'Rug Pull',\n  'contract_hash': ''},\n {'protocol_name': 'bZx',\n  'project_type': 'Lending and Borrowing',\n  'date_of_attack': '11/05/2021',\n  'amount_lost': 55040167,\n  'attack_type': 'Private Key Compromise',\n  'contract_hash': ''},\n {'protocol_name': 'Curve Finance',\n  'project_type': '',\n  'date_of_attack': '11/11/2021',\n  'amount_lost': 30000000,\n  'attack_type': 'Other',\n  'contract_hash': ''},\n {'protocol_name': 'Vesper Finance',\n  'project_type': '',\n  'date_of_attack': '11/03/2021',\n  'amount_lost': 3000000,\n  'attack_type': 'Oracle Manipulation',\n  'contract_hash': ''},\n {'protocol_name': 'BXH',\n  'project_type': '',\n  'date_of_attack': '10/30/2021',\n  'amount_lost': 139195315,\n  'attack_type': 'Private Key Compromise',\n  'contract_hash': ''},\n {'protocol_name': 'AutoShark Finance',\n  'project_type': '',\n  'date_of_attack': '10/29/2021',\n  'amount_lost': 2000000,\n  'attack_type': 'Flash Loan Attack',\n  'contract_hash': ''},\n {'protocol_name': 'Avaterra Finance',\n  'project_type': '',\n  'date_of_attack': '10/21/2021',\n  'amount_lost': None,\n  'attack_type': 'Mint Exploit',\n  'contract_hash': ''},\n {'protocol_name': 'Pancake Bunny',\n  'project_type': 'Yield Farming',\n  'date_of_attack': '10/20/2021',\n  'amount_lost': None,\n  'attack_type': 'Flash Loan Attack',\n  'contract_hash': ''},\n {'protocol_name': 'Glide Finance',\n  'project_type': '',\n  'date_of_attack': '10/18/2021',\n  'amount_lost': 300000,\n  'attack_type': 'Smart Contract Bug',\n  'contract_hash': ''},\n {'protocol_name': 'Cream Finance',\n  'project_type': '',\n  'date_of_attack': '02/13/2021',\n  'amount_lost': 37500000,\n  'attack_type': 'Flash Loan Attack',\n  'contract_hash': ''},\n {'protocol_name': 'Nerve',\n  'project_type': '',\n  'date_of_attack': '',\n  'amount_lost': None,\n  'attack_type': '',\n  'contract_hash': ''},\n {'protocol_name': 'Bitinex',\n  'project_type': '',\n  'date_of_attack': '09/27/2021',\n  'amount_lost': None,\n  'attack_type': 'Other',\n  'contract_hash': ''},\n {'protocol_name': 'Nowswap',\n  'project_type': 'DEX',\n  'date_of_attack': '09/15/2021',\n  'amount_lost': 1000000,\n  'attack_type': '',\n  'contract_hash': ''},\n {'protocol_name': 'SushiSwap',\n  'project_type': 'Lending and Borrowing',\n  'date_of_attack': '01/20/2021',\n  'amount_lost': 100000,\n  'attack_type': 'Smart Contract Exploit',\n  'contract_hash': ''},\n {'protocol_name': 'Bitmart',\n  'project_type': 'DEX',\n  'date_of_attack': '12/05/2021',\n  'amount_lost': 196000000,\n  'attack_type': 'Other',\n  'contract_hash': ''},\n {'protocol_name': 'Wormhole',\n  'project_type': 'Crosschain Aggregator',\n  'date_of_attack': '02/02/2022',\n  'amount_lost': 322000000,\n  'attack_type': '',\n  'contract_hash': ''},\n {'protocol_name': 'Grim Finance',\n  'project_type': 'Yield Aggregator',\n  'date_of_attack': '04/29/2022',\n  'amount_lost': 30000000,\n  'attack_type': 'Flash Loan Attack',\n  'contract_hash': ''},\n {'protocol_name': 'Superfluid',\n  'project_type': 'Trading',\n  'date_of_attack': '12/09/2022',\n  'amount_lost': 8700000,\n  'attack_type': 'Flash Loan Attack',\n  'contract_hash': 'https://polygonscan.com/tx/0xdee86cae2e1bab16496a49b2ec61aae0472a7ccf06f79744d42473e96edd6af6'},\n {'protocol_name': 'Dego Finance',\n  'project_type': 'NFT Project',\n  'date_of_attack': '02/10/2022',\n  'amount_lost': 10000000,\n  'attack_type': 'Private Key Compromise',\n  'contract_hash': ''},\n {'protocol_name': 'Ronin Network',\n  'project_type': 'Bridge',\n  'date_of_attack': '03/29/2022',\n  'amount_lost': 625000000,\n  'attack_type': 'Unauthorized Withdrawal',\n  'contract_hash': ''},\n {'protocol_name': 'Beanstalk',\n  'project_type': 'Stablecoins',\n  'date_of_attack': '04/18/2022',\n  'amount_lost': 181000000,\n  'attack_type': 'Flash Loan Attack',\n  'contract_hash': ''},\n {'protocol_name': 'Dues DAO',\n  'project_type': 'DAO',\n  'date_of_attack': '03/15/2022',\n  'amount_lost': 3000000,\n  'attack_type': 'Flash Loan Attack',\n  'contract_hash': ''},\n {'protocol_name': 'Dues DAO',\n  'project_type': 'DAO',\n  'date_of_attack': '04/27/2022',\n  'amount_lost': 13400000,\n  'attack_type': 'Oracle Manipulation',\n  'contract_hash': ''},\n {'protocol_name': 'Saddle Finance',\n  'project_type': 'AMM',\n  'date_of_attack': '05/01/2022',\n  'amount_lost': 11000000,\n  'attack_type': 'Smart Contract Bug',\n  'contract_hash': ''},\n {'protocol_name': 'Rari Capital',\n  'project_type': 'Lending and Borrowing',\n  'date_of_attack': '05/02/2022',\n  'amount_lost': 80000000,\n  'attack_type': 'Reentrancy',\n  'contract_hash': ''}]"
     },
     "metadata": {}
    }
   ]
  },
  {
   "cell_type": "code",
   "metadata": {
    "cell_id": "eb8e963e50234cfab325e72fb220fe51",
    "tags": [],
    "deepnote_to_be_reexecuted": true,
    "source_hash": "acff07f4",
    "execution_start": 1651610824102,
    "execution_millis": 35,
    "deepnote_cell_type": "code",
    "deepnote_cell_height": 395
   },
   "source": "df[:5]",
   "execution_count": null,
   "outputs": [
    {
     "output_type": "execute_result",
     "execution_count": 72,
     "data": {
      "application/vnd.deepnote.dataframe.v3+json": {
       "column_count": 6,
       "row_count": 5,
       "columns": [
        {
         "name": "protocol_name",
         "dtype": "object",
         "stats": {
          "unique_count": 5,
          "nan_count": 0,
          "categories": [
           {
            "name": "Kingfund Finance",
            "count": 1
           },
           {
            "name": "AFKSystem",
            "count": 1
           },
           {
            "name": "3 others",
            "count": 3
           }
          ]
         }
        },
        {
         "name": "project_type",
         "dtype": "object",
         "stats": {
          "unique_count": 5,
          "nan_count": 0,
          "categories": [
           {
            "name": "Asset Management",
            "count": 1
           },
           {
            "name": "Yield Farming",
            "count": 1
           },
           {
            "name": "3 others",
            "count": 3
           }
          ]
         }
        },
        {
         "name": "date_of_attack",
         "dtype": "object",
         "stats": {
          "unique_count": 3,
          "nan_count": 0,
          "categories": [
           {
            "name": "01/18/2022",
            "count": 3
           },
           {
            "name": "01/20/2022",
            "count": 1
           },
           {
            "name": "01/19/2022",
            "count": 1
           }
          ]
         }
        },
        {
         "name": "amount_lost",
         "dtype": "float64",
         "stats": {
          "unique_count": 5,
          "nan_count": 0,
          "min": "114000.0",
          "max": "34000000.0",
          "histogram": [
           {
            "bin_start": 114000,
            "bin_end": 3502600,
            "count": 3
           },
           {
            "bin_start": 3502600,
            "bin_end": 6891200,
            "count": 0
           },
           {
            "bin_start": 6891200,
            "bin_end": 10279800,
            "count": 0
           },
           {
            "bin_start": 10279800,
            "bin_end": 13668400,
            "count": 1
           },
           {
            "bin_start": 13668400,
            "bin_end": 17057000,
            "count": 0
           },
           {
            "bin_start": 17057000,
            "bin_end": 20445600,
            "count": 0
           },
           {
            "bin_start": 20445600,
            "bin_end": 23834200,
            "count": 0
           },
           {
            "bin_start": 23834200,
            "bin_end": 27222800,
            "count": 0
           },
           {
            "bin_start": 27222800,
            "bin_end": 30611400,
            "count": 0
           },
           {
            "bin_start": 30611400,
            "bin_end": 34000000,
            "count": 1
           }
          ]
         }
        },
        {
         "name": "attack_type",
         "dtype": "object",
         "stats": {
          "unique_count": 4,
          "nan_count": 0,
          "categories": [
           {
            "name": "Rug Pull",
            "count": 2
           },
           {
            "name": "Unauthorized Withdrawal",
            "count": 1
           },
           {
            "name": "2 others",
            "count": 2
           }
          ]
         }
        },
        {
         "name": "contract_hash",
         "dtype": "object",
         "stats": {
          "unique_count": 0,
          "nan_count": 5,
          "categories": [
           {
            "name": "Missing",
            "count": 5
           }
          ]
         }
        },
        {
         "name": "_deepnote_index_column",
         "dtype": "int64"
        }
       ],
       "rows": [
        {
         "protocol_name": "Kingfund Finance",
         "project_type": "Asset Management",
         "date_of_attack": "01/20/2022",
         "amount_lost": 114000,
         "attack_type": "Rug Pull",
         "contract_hash": "nan",
         "_deepnote_index_column": 0
        },
        {
         "protocol_name": "AFKSystem",
         "project_type": "Yield Farming",
         "date_of_attack": "01/19/2022",
         "amount_lost": 12000000,
         "attack_type": "Rug Pull",
         "contract_hash": "nan",
         "_deepnote_index_column": 1
        },
        {
         "protocol_name": "Crypto.com",
         "project_type": "CEX",
         "date_of_attack": "01/18/2022",
         "amount_lost": 34000000,
         "attack_type": "Unauthorized Withdrawal",
         "contract_hash": "nan",
         "_deepnote_index_column": 2
        },
        {
         "protocol_name": "Multichain",
         "project_type": "DEX",
         "date_of_attack": "01/18/2022",
         "amount_lost": 1400000,
         "attack_type": "Smart Contract Bug",
         "contract_hash": "nan",
         "_deepnote_index_column": 3
        },
        {
         "protocol_name": "Crosswise",
         "project_type": "AMM",
         "date_of_attack": "01/18/2022",
         "amount_lost": 879000,
         "attack_type": "Use Privileged Functions\t\t\t\t\t\t\t\t\t\t\t\t\t\t\t\t\t\t\t\t\t\t\t\t\t",
         "contract_hash": "nan",
         "_deepnote_index_column": 4
        }
       ]
      },
      "text/plain": "        protocol_name      project_type date_of_attack  amount_lost  \\\nkey                                                                   \n0    Kingfund Finance  Asset Management     01/20/2022     114000.0   \n1           AFKSystem     Yield Farming     01/19/2022   12000000.0   \n2          Crypto.com               CEX     01/18/2022   34000000.0   \n3          Multichain               DEX     01/18/2022    1400000.0   \n4           Crosswise               AMM     01/18/2022     879000.0   \n\n                                           attack_type contract_hash  \nkey                                                                   \n0                                             Rug Pull           NaN  \n1                                             Rug Pull           NaN  \n2                              Unauthorized Withdrawal           NaN  \n3                                   Smart Contract Bug           NaN  \n4    Use Privileged Functions\\t\\t\\t\\t\\t\\t\\t\\t\\t\\t\\t...           NaN  ",
      "text/html": "<div>\n<style scoped>\n    .dataframe tbody tr th:only-of-type {\n        vertical-align: middle;\n    }\n\n    .dataframe tbody tr th {\n        vertical-align: top;\n    }\n\n    .dataframe thead th {\n        text-align: right;\n    }\n</style>\n<table border=\"1\" class=\"dataframe\">\n  <thead>\n    <tr style=\"text-align: right;\">\n      <th></th>\n      <th>protocol_name</th>\n      <th>project_type</th>\n      <th>date_of_attack</th>\n      <th>amount_lost</th>\n      <th>attack_type</th>\n      <th>contract_hash</th>\n    </tr>\n    <tr>\n      <th>key</th>\n      <th></th>\n      <th></th>\n      <th></th>\n      <th></th>\n      <th></th>\n      <th></th>\n    </tr>\n  </thead>\n  <tbody>\n    <tr>\n      <th>0</th>\n      <td>Kingfund Finance</td>\n      <td>Asset Management</td>\n      <td>01/20/2022</td>\n      <td>114000.0</td>\n      <td>Rug Pull</td>\n      <td>NaN</td>\n    </tr>\n    <tr>\n      <th>1</th>\n      <td>AFKSystem</td>\n      <td>Yield Farming</td>\n      <td>01/19/2022</td>\n      <td>12000000.0</td>\n      <td>Rug Pull</td>\n      <td>NaN</td>\n    </tr>\n    <tr>\n      <th>2</th>\n      <td>Crypto.com</td>\n      <td>CEX</td>\n      <td>01/18/2022</td>\n      <td>34000000.0</td>\n      <td>Unauthorized Withdrawal</td>\n      <td>NaN</td>\n    </tr>\n    <tr>\n      <th>3</th>\n      <td>Multichain</td>\n      <td>DEX</td>\n      <td>01/18/2022</td>\n      <td>1400000.0</td>\n      <td>Smart Contract Bug</td>\n      <td>NaN</td>\n    </tr>\n    <tr>\n      <th>4</th>\n      <td>Crosswise</td>\n      <td>AMM</td>\n      <td>01/18/2022</td>\n      <td>879000.0</td>\n      <td>Use Privileged Functions\\t\\t\\t\\t\\t\\t\\t\\t\\t\\t\\t...</td>\n      <td>NaN</td>\n    </tr>\n  </tbody>\n</table>\n</div>"
     },
     "metadata": {}
    }
   ]
  },
  {
   "cell_type": "code",
   "metadata": {
    "cell_id": "00013-965c1199-2ef9-43da-b591-11147648bd2c",
    "deepnote_to_be_reexecuted": true,
    "source_hash": "e6a42ab4",
    "execution_start": 1651610301276,
    "execution_millis": 69,
    "deepnote_cell_type": "code",
    "deepnote_cell_height": 704,
    "deepnote_output_heights": [
     607
    ]
   },
   "source": "attacks",
   "execution_count": null,
   "outputs": [
    {
     "output_type": "execute_result",
     "execution_count": 59,
     "data": {
      "text/plain": "[{'protocol_name': 'Kingfund Finance',\n  'project_type': 'Asset Management',\n  'date_of_attack': '01/20/2022',\n  'amount_lost': 114000,\n  'attack_type': 'Rug Pull',\n  'contract_hash': ''},\n {'protocol_name': 'AFKSystem',\n  'project_type': 'Yield Farming',\n  'date_of_attack': '01/19/2022',\n  'amount_lost': 12000000,\n  'attack_type': 'Rug Pull',\n  'contract_hash': ''},\n {'protocol_name': 'Crypto.com',\n  'project_type': 'CEX',\n  'date_of_attack': '01/18/2022',\n  'amount_lost': 34000000,\n  'attack_type': 'Unauthorized Withdrawal',\n  'contract_hash': ''},\n {'protocol_name': 'Multichain',\n  'project_type': 'DEX',\n  'date_of_attack': '01/18/2022',\n  'amount_lost': 1400000,\n  'attack_type': 'Smart Contract Bug',\n  'contract_hash': ''},\n {'protocol_name': 'Crosswise',\n  'project_type': 'AMM',\n  'date_of_attack': '01/18/2022',\n  'amount_lost': 879000,\n  'attack_type': 'Use Privileged Functions\\t\\t\\t\\t\\t\\t\\t\\t\\t\\t\\t\\t\\t\\t\\t\\t\\t\\t\\t\\t\\t\\t\\t\\t\\t',\n  'contract_hash': ''},\n {'protocol_name': 'Crypto Burger',\n  'project_type': 'NFT Project',\n  'date_of_attack': '01/17/2022',\n  'amount_lost': 770000,\n  'attack_type': 'Reentrancy',\n  'contract_hash': ''},\n {'protocol_name': 'CityDAO',\n  'project_type': 'DAO',\n  'date_of_attack': '01/15/2022',\n  'amount_lost': 90000,\n  'attack_type': 'Discord Admin Account Hack',\n  'contract_hash': ''},\n {'protocol_name': 'Rari Capital',\n  'project_type': 'Lending and Borrowing',\n  'date_of_attack': '01/15/2022',\n  'amount_lost': 200000,\n  'attack_type': 'Price Manipulation',\n  'contract_hash': ''},\n {'protocol_name': 'Frosties',\n  'project_type': 'NFT Project',\n  'date_of_attack': '01/13/2022',\n  'amount_lost': 1000000,\n  'attack_type': 'Rug Pull',\n  'contract_hash': ''},\n {'protocol_name': 'Multiple IDO Projects',\n  'project_type': 'IDO Project',\n  'date_of_attack': '01/12/2022',\n  'amount_lost': 2700000,\n  'attack_type': 'Rug Pull',\n  'contract_hash': ''},\n {'protocol_name': 'LooksRare',\n  'project_type': 'NFT Marketplace',\n  'date_of_attack': '01/11/2022',\n  'amount_lost': None,\n  'attack_type': 'DDos attack',\n  'contract_hash': ''},\n {'protocol_name': 'Lympo',\n  'project_type': 'NFT Marketplace',\n  'date_of_attack': '01/10/2022',\n  'amount_lost': 18700000,\n  'attack_type': 'Hot Wallet Security Vulnerability',\n  'contract_hash': ''},\n {'protocol_name': 'LCX',\n  'project_type': 'Trading',\n  'date_of_attack': '01/09/2022',\n  'amount_lost': 6000000,\n  'attack_type': 'Smart Contract Bug',\n  'contract_hash': ''},\n {'protocol_name': 'Solana',\n  'project_type': 'Trading',\n  'date_of_attack': '01/13/2021',\n  'amount_lost': None,\n  'attack_type': 'DDos attack',\n  'contract_hash': ''},\n {'protocol_name': 'Arbitrum One',\n  'project_type': 'Layer 2',\n  'date_of_attack': '01/14/2021',\n  'amount_lost': None,\n  'attack_type': 'DDos attack',\n  'contract_hash': ''},\n {'protocol_name': 'Stobox Company',\n  'project_type': 'Asset Management',\n  'date_of_attack': '01/07/2022',\n  'amount_lost': None,\n  'attack_type': 'Private Key Compromise',\n  'contract_hash': ''},\n {'protocol_name': 'DaoMetaland',\n  'project_type': 'Metaverse Platform',\n  'date_of_attack': '01/07/2022',\n  'amount_lost': 288000,\n  'attack_type': 'Rug Pull',\n  'contract_hash': ''},\n {'protocol_name': 'Bored Bunny',\n  'project_type': 'NFT Project',\n  'date_of_attack': '01/06/2022',\n  'amount_lost': 6200000,\n  'attack_type': 'Rug Pull',\n  'contract_hash': ''},\n {'protocol_name': 'Moon Rabbit',\n  'project_type': 'NFT Marketplace',\n  'date_of_attack': '01/05/2022',\n  'amount_lost': None,\n  'attack_type': 'Rug Pull',\n  'contract_hash': ''},\n {'protocol_name': 'Arbix Finance',\n  'project_type': 'Yield Farming',\n  'date_of_attack': '01/04/2022',\n  'amount_lost': 10000000,\n  'attack_type': 'Rug Pull',\n  'contract_hash': ''},\n {'protocol_name': 'Tinyman Pools',\n  'project_type': 'Trading',\n  'date_of_attack': '01/01/2022',\n  'amount_lost': None,\n  'attack_type': 'Smart Contract Bug',\n  'contract_hash': ''},\n {'protocol_name': 'Bitmart',\n  'project_type': 'CEX',\n  'date_of_attack': '12/04/2021',\n  'amount_lost': 196000000,\n  'attack_type': 'Private Key Compromise',\n  'contract_hash': ''},\n {'protocol_name': 'Compound',\n  'project_type': 'Lending and Borrowing',\n  'date_of_attack': '9/29/2021',\n  'amount_lost': 147000000,\n  'attack_type': 'Smart Contract Bug',\n  'contract_hash': ''},\n {'protocol_name': 'VulcanForged',\n  'project_type': 'Gaming',\n  'date_of_attack': '12/13/2021',\n  'amount_lost': 140000000,\n  'attack_type': 'Private Key Compromise',\n  'contract_hash': ''},\n {'protocol_name': 'Cream Finance',\n  'project_type': 'Lending and Borrowing',\n  'date_of_attack': '10/27/2021',\n  'amount_lost': 130000000,\n  'attack_type': 'Flash Loan Attack',\n  'contract_hash': ''},\n {'protocol_name': 'BadgerDAO',\n  'project_type': 'DAO',\n  'date_of_attack': '12/02/2021',\n  'amount_lost': 120000000,\n  'attack_type': 'Phishing Attack',\n  'contract_hash': ''},\n {'protocol_name': 'Ascendex',\n  'project_type': 'Trading',\n  'date_of_attack': '12/12/2021',\n  'amount_lost': 77700000,\n  'attack_type': 'Hot Wallet Compromise',\n  'contract_hash': ''},\n {'protocol_name': 'EasyFi',\n  'project_type': 'Lending and Borrowing',\n  'date_of_attack': '4/19/2021',\n  'amount_lost': 59000000,\n  'attack_type': 'Hot Wallet Compromise',\n  'contract_hash': ''},\n {'protocol_name': 'Uranium Finance',\n  'project_type': 'AMM',\n  'date_of_attack': '4/28/2021',\n  'amount_lost': 57200000,\n  'attack_type': 'Smart Contract Exploit',\n  'contract_hash': ''},\n {'protocol_name': 'bZx',\n  'project_type': 'Lending and Borrowing',\n  'date_of_attack': '11/05/2021',\n  'amount_lost': 55000000,\n  'attack_type': 'Private Key Compromise',\n  'contract_hash': ''},\n {'protocol_name': 'Pancake Bunny',\n  'project_type': 'Yield Farming',\n  'date_of_attack': '5/19/2021',\n  'amount_lost': 45000000,\n  'attack_type': 'Flash Loan Attack',\n  'contract_hash': ''},\n {'protocol_name': 'KuCoin',\n  'project_type': 'CEX',\n  'date_of_attack': '9/29/2020',\n  'amount_lost': 45000000,\n  'attack_type': 'Hot Wallet Security Vulnerability',\n  'contract_hash': ''},\n {'protocol_name': 'Alpha Finance',\n  'project_type': 'Asset Management',\n  'date_of_attack': '2/13/2021',\n  'amount_lost': 37500000,\n  'attack_type': 'Smart Contract Exploit',\n  'contract_hash': ''},\n {'protocol_name': 'Vee Finance',\n  'project_type': 'Lending and Borrowing',\n  'date_of_attack': '9/21/2021',\n  'amount_lost': 34000000,\n  'attack_type': 'Smart Contract Exploit',\n  'contract_hash': ''},\n {'protocol_name': 'Crypto.com',\n  'project_type': 'CEX',\n  'date_of_attack': '1/18/2022',\n  'amount_lost': 33700000,\n  'attack_type': 'Hot Wallet Security Vulnerability',\n  'contract_hash': ''},\n {'protocol_name': 'Meerkat Finance',\n  'project_type': 'Yield Farming',\n  'date_of_attack': '03/04/2021',\n  'amount_lost': 32000000,\n  'attack_type': 'Rug Pull',\n  'contract_hash': ''},\n {'protocol_name': 'MonoX',\n  'project_type': 'DEX',\n  'date_of_attack': '11/30/2021',\n  'amount_lost': 31400000,\n  'attack_type': 'Smart Contract Bug',\n  'contract_hash': ''},\n {'protocol_name': 'Spartan Protocol',\n  'project_type': 'Trading',\n  'date_of_attack': '05/02/2021',\n  'amount_lost': 30500000,\n  'attack_type': 'Flash Loan Attack',\n  'contract_hash': ''},\n {'protocol_name': '                                                                                                                                                                                                                                                                                                                                                                                   ',\n  'project_type': 'Yield Farming',\n  'date_of_attack': '12/18/2021',\n  'amount_lost': 30000000,\n  'attack_type': 'Smart Contract Exploit',\n  'contract_hash': ''},\n {'protocol_name': 'StableMagnet',\n  'project_type': 'AMM',\n  'date_of_attack': '6/23/2021',\n  'amount_lost': 27000000,\n  'attack_type': 'Rug Pull',\n  'contract_hash': ''},\n {'protocol_name': 'Paid Network',\n  'project_type': 'Insurance',\n  'date_of_attack': '03/05/2021',\n  'amount_lost': 27000000,\n  'attack_type': 'Smart Contract Exploit',\n  'contract_hash': ''},\n {'protocol_name': 'Harvest Finance',\n  'project_type': 'Yield Farming',\n  'date_of_attack': '10/26/2020',\n  'amount_lost': 25000000,\n  'attack_type': 'Flash Loan Attack',\n  'contract_hash': ''},\n {'protocol_name': 'xToken',\n  'project_type': 'Asset Management',\n  'date_of_attack': '5/12/2021',\n  'amount_lost': 24000000,\n  'attack_type': 'Smart Contract Exploit',\n  'contract_hash': ''},\n {'protocol_name': 'Popsicle Finance',\n  'project_type': 'Yield Aggregator',\n  'date_of_attack': '08/03/2021',\n  'amount_lost': 20000000,\n  'attack_type': 'Smart Contract Exploit',\n  'contract_hash': ''},\n {'protocol_name': 'Pickle Finance',\n  'project_type': 'Yield Aggregator',\n  'date_of_attack': '11/22/2020',\n  'amount_lost': 19700000,\n  'attack_type': 'Smart Contract Exploit',\n  'contract_hash': ''},\n {'protocol_name': 'Cream Finance',\n  'project_type': 'Lending and Borrowing',\n  'date_of_attack': '8/30/2021',\n  'amount_lost': 18800000,\n  'attack_type': 'Flash Loan Attack',\n  'contract_hash': ''},\n {'protocol_name': 'Snowdog',\n  'project_type': 'Memecoin',\n  'date_of_attack': '11/25/2021',\n  'amount_lost': 18100000,\n  'attack_type': 'Rug Pull',\n  'contract_hash': ''},\n {'protocol_name': 'Bearn.Fi',\n  'project_type': 'Yield Aggregator',\n  'date_of_attack': '5/17/2021',\n  'amount_lost': 18000000,\n  'attack_type': '',\n  'contract_hash': ''},\n {'protocol_name': 'Indexed Finance',\n  'project_type': 'Yield Aggregator',\n  'date_of_attack': '10/14/2021',\n  'amount_lost': 16000000,\n  'attack_type': 'Flash Loan Attack',\n  'contract_hash': ''},\n {'protocol_name': 'Eminence',\n  'project_type': 'Yield Aggregator',\n  'date_of_attack': '9/28/2020',\n  'amount_lost': 15000000,\n  'attack_type': 'Flash Loan Attack',\n  'contract_hash': ''},\n {'protocol_name': 'Furucombo',\n  'project_type': 'Yield Aggregator',\n  'date_of_attack': '2/27/2021',\n  'amount_lost': 14000000,\n  'attack_type': 'Infinite Approval',\n  'contract_hash': ''},\n {'protocol_name': 'Death Bed Confessionsc3pr',\n  'project_type': 'Memecoin',\n  'date_of_attack': '12/02/2020',\n  'amount_lost': 12000000,\n  'attack_type': 'Rug Pull',\n  'contract_hash': ''},\n {'protocol_name': 'Value DeFi',\n  'project_type': 'Yield Aggregator',\n  'date_of_attack': '05/07/2021',\n  'amount_lost': 11000000,\n  'attack_type': 'Smart Contract Exploit',\n  'contract_hash': ''},\n {'protocol_name': 'Yearn Finance',\n  'project_type': 'Yield Aggregator',\n  'date_of_attack': '02/05/2021',\n  'amount_lost': 11000000,\n  'attack_type': 'Flash Loan Attack',\n  'contract_hash': ''},\n {'protocol_name': 'Rari Capital',\n  'project_type': 'Lending and Borrowing',\n  'date_of_attack': '05/08/2021',\n  'amount_lost': 10000000,\n  'attack_type': 'Smart Contract Exploit',\n  'contract_hash': ''},\n {'protocol_name': 'Value DeFi',\n  'project_type': 'Yield Aggregator',\n  'date_of_attack': '05/05/2021',\n  'amount_lost': 10000000,\n  'attack_type': 'Smart Contract Bug',\n  'contract_hash': ''},\n {'protocol_name': 'Punk Protocol',\n  'project_type': 'NFT Project',\n  'date_of_attack': '8/10/2021',\n  'amount_lost': 8950000,\n  'attack_type': 'Smart Contract Exploit',\n  'contract_hash': ''},\n {'protocol_name': 'Visor Finance',\n  'project_type': 'Asset Management',\n  'date_of_attack': '12/21/2021',\n  'amount_lost': 8200000,\n  'attack_type': 'Reentrancy',\n  'contract_hash': ''},\n {'protocol_name': 'ThorChain',\n  'project_type': 'Crosschain Aggregator',\n  'date_of_attack': '7/22/2021',\n  'amount_lost': 8000000,\n  'attack_type': 'Smart Contract Exploit',\n  'contract_hash': ''},\n {'protocol_name': 'Hackepidemic',\n  'project_type': '',\n  'date_of_attack': '11/17/2020',\n  'amount_lost': 8000000,\n  'attack_type': '',\n  'contract_hash': ''},\n {'protocol_name': 'LCX',\n  'project_type': 'Trading',\n  'date_of_attack': '01/08/2022',\n  'amount_lost': 7940000,\n  'attack_type': 'Smart Contract Exploit',\n  'contract_hash': ''},\n {'protocol_name': 'Multichain',\n  'project_type': 'DEX',\n  'date_of_attack': '7/10/2021',\n  'amount_lost': 7900000,\n  'attack_type': 'Smart Contract Bug',\n  'contract_hash': ''},\n {'protocol_name': 'Warp Finance',\n  'project_type': 'Lending and Borrowing',\n  'date_of_attack': '12/18/2020',\n  'amount_lost': 7800000,\n  'attack_type': 'Flash Loan Attack',\n  'contract_hash': ''},\n {'protocol_name': 'BurgerSwap',\n  'project_type': 'DEX',\n  'date_of_attack': '5/28/2021',\n  'amount_lost': 7200000,\n  'attack_type': 'Flash Loan Attack',\n  'contract_hash': ''},\n {'protocol_name': 'Value DeFi',\n  'project_type': 'Yield Aggregator',\n  'date_of_attack': '11/14/2020',\n  'amount_lost': 7400000,\n  'attack_type': 'Flash Loan Attack',\n  'contract_hash': ''},\n {'protocol_name': 'Alchemix',\n  'project_type': 'Lending and Borrowing',\n  'date_of_attack': '6/16/2021',\n  'amount_lost': 6500000,\n  'attack_type': 'Smart Contract Bug',\n  'contract_hash': ''},\n {'protocol_name': 'Belt Finance',\n  'project_type': 'AMM',\n  'date_of_attack': '5/29/2021',\n  'amount_lost': 6300000,\n  'attack_type': 'Flash Loan Attack',\n  'contract_hash': ''},\n {'protocol_name': 'Bondly Finance',\n  'project_type': 'NFT Marketplace',\n  'date_of_attack': '7/15/2021',\n  'amount_lost': 5900000,\n  'attack_type': 'Rug Pull',\n  'contract_hash': ''},\n {'protocol_name': 'Roll',\n  'project_type': 'Payments',\n  'date_of_attack': '3/14/2021',\n  'amount_lost': 5700000,\n  'attack_type': 'Private Key Compromise',\n  'contract_hash': ''},\n {'protocol_name': 'ThorChain',\n  'project_type': 'Crosschain Aggregator',\n  'date_of_attack': '7/15/2021',\n  'amount_lost': 5000000,\n  'attack_type': '',\n  'contract_hash': ''},\n {'protocol_name': 'xToken',\n  'project_type': 'Asset Management',\n  'date_of_attack': '8/29/2021',\n  'amount_lost': 4500000,\n  'attack_type': 'Flash Loan Attack',\n  'contract_hash': ''},\n {'protocol_name': 'Eleven Finance',\n  'project_type': 'Yield Farming',\n  'date_of_attack': '6/22/2021',\n  'amount_lost': 4500000,\n  'attack_type': 'Flash Loan Attack',\n  'contract_hash': ''},\n {'protocol_name': 'Chain Swap',\n  'project_type': 'Yield Aggregator',\n  'date_of_attack': '7/11/2021',\n  'amount_lost': 4400000,\n  'attack_type': 'Smart Contract Exploit',\n  'contract_hash': ''},\n {'protocol_name': 'Dao Maker',\n  'project_type': 'Funding',\n  'date_of_attack': '09/03/2021',\n  'amount_lost': 4000000,\n  'attack_type': 'Smart Contract Exploit',\n  'contract_hash': ''},\n {'protocol_name': 'Jay Pegs Auto Mart',\n  'project_type': 'NFT Project',\n  'date_of_attack': '9/17/2021',\n  'amount_lost': 3100000,\n  'attack_type': 'Rug Pull',\n  'contract_hash': ''},\n {'protocol_name': 'Pancake Bunny',\n  'project_type': 'Yield Farming',\n  'date_of_attack': '7/16/2021',\n  'amount_lost': 2400000,\n  'attack_type': '',\n  'contract_hash': ''},\n {'protocol_name': 'Audodo',\n  'project_type': 'DEX',\n  'date_of_attack': '03/09/2021',\n  'amount_lost': 3800000,\n  'attack_type': 'Smart Contract Exploit',\n  'contract_hash': ''},\n {'protocol_name': 'Akropolis',\n  'project_type': 'Yield Aggregator',\n  'date_of_attack': '11/12/2020',\n  'amount_lost': 2000000,\n  'attack_type': 'Reentrancy',\n  'contract_hash': ''},\n {'protocol_name': 'Bent Finance',\n  'project_type': 'Yield Farming',\n  'date_of_attack': '12/21/2021',\n  'amount_lost': 1750000,\n  'attack_type': 'Smart Contract Exploit',\n  'contract_hash': ''},\n {'protocol_name': '8ight Finance',\n  'project_type': 'DAO',\n  'date_of_attack': '12/08/2021',\n  'amount_lost': 1750000,\n  'attack_type': 'Private Key Compromise',\n  'contract_hash': ''},\n {'protocol_name': 'Levyathan Finance',\n  'project_type': 'Index',\n  'date_of_attack': '7/30/2021',\n  'amount_lost': 1500000,\n  'attack_type': 'Private Key Compromise',\n  'contract_hash': ''},\n {'protocol_name': 'BT Finance',\n  'project_type': 'Yield Aggregator',\n  'date_of_attack': '02/09/2021',\n  'amount_lost': 1300000,\n  'attack_type': 'Smart Contract Exploit',\n  'contract_hash': ''},\n {'protocol_name': 'AutoShark Finance',\n  'project_type': 'AMM',\n  'date_of_attack': '5/24/2021',\n  'amount_lost': 74500000,\n  'attack_type': 'Flash Loan Attack',\n  'contract_hash': ''},\n {'protocol_name': 'Merlin Lab',\n  'project_type': 'Yield Aggregator',\n  'date_of_attack': '5/26/2021',\n  'amount_lost': 68000000,\n  'attack_type': 'Smart Contract Exploit',\n  'contract_hash': ''},\n {'protocol_name': 'Merlin Lab',\n  'project_type': 'Yield Aggregator',\n  'date_of_attack': '5/26/2021',\n  'amount_lost': 55000000,\n  'attack_type': 'Smart Contract Exploit',\n  'contract_hash': ''},\n {'protocol_name': 'Merlin Lab',\n  'project_type': 'Yield Aggregator',\n  'date_of_attack': '6/29/2021',\n  'amount_lost': 33000000,\n  'attack_type': 'Smart Contract Exploit',\n  'contract_hash': ''},\n {'protocol_name': 'Saddle Finance',\n  'project_type': 'AMM',\n  'date_of_attack': '1/20/2021',\n  'amount_lost': 275735,\n  'attack_type': 'Rug Pull',\n  'contract_hash': ''},\n {'protocol_name': 'Safe Dollar',\n  'project_type': 'Stablecoins',\n  'date_of_attack': '6/28/2021',\n  'amount_lost': 248000,\n  'attack_type': 'Smart Contract Exploit',\n  'contract_hash': ''},\n {'protocol_name': 'Pizza DeFi',\n  'project_type': 'Other',\n  'date_of_attack': '12/5/2021',\n  'amount_lost': 5000000,\n  'attack_type': 'Infinite Approval',\n  'contract_hash': ''},\n {'protocol_name': 'Cream Finance',\n  'project_type': 'Lending and Borrowing',\n  'date_of_attack': '10/27/2021',\n  'amount_lost': 130000000,\n  'attack_type': 'Flash Loan Attack',\n  'contract_hash': ''},\n {'protocol_name': 'Pancake Bunny',\n  'project_type': 'Yield Farming',\n  'date_of_attack': '10/20/2021',\n  'amount_lost': 2000000,\n  'attack_type': 'Flash Loan Attack',\n  'contract_hash': ''},\n {'protocol_name': 'Compound Finance',\n  'project_type': 'Lending and Borrowing',\n  'date_of_attack': '9/30/2021',\n  'amount_lost': 100000,\n  'attack_type': 'Smart Contract Bug',\n  'contract_hash': ''},\n {'protocol_name': 'Vee Finance',\n  'project_type': 'Lending and Borrowing',\n  'date_of_attack': '9/21/2021',\n  'amount_lost': 35000000,\n  'attack_type': 'Smart Contract Exploit',\n  'contract_hash': ''},\n {'protocol_name': 'pNetwork',\n  'project_type': 'Network',\n  'date_of_attack': '9/20/2021',\n  'amount_lost': 12000000,\n  'attack_type': 'Smart Contract Exploit',\n  'contract_hash': ''},\n {'protocol_name': 'SushiSwap',\n  'project_type': 'Lending and Borrowing',\n  'date_of_attack': '9/16/2021',\n  'amount_lost': 3000000,\n  'attack_type': 'Smart Contract Exploit',\n  'contract_hash': ''},\n {'protocol_name': 'Zabu Finance',\n  'project_type': 'Yield Farming',\n  'date_of_attack': '9/12/2021',\n  'amount_lost': 3200000,\n  'attack_type': 'Smart Contract Exploit',\n  'contract_hash': ''},\n {'protocol_name': 'Dao Maker',\n  'project_type': 'Funding',\n  'date_of_attack': '8/12/2021',\n  'amount_lost': 7000000,\n  'attack_type': 'Smart Contract Exploit',\n  'contract_hash': ''},\n {'protocol_name': 'Poly Network',\n  'project_type': 'Crosschain Aggregator',\n  'date_of_attack': '8/10/2021',\n  'amount_lost': 611000000,\n  'attack_type': 'Smart Contract Exploit',\n  'contract_hash': ''},\n {'protocol_name': 'ThorChain',\n  'project_type': 'Crosschain Aggregator',\n  'date_of_attack': '6/28/2021',\n  'amount_lost': 139000,\n  'attack_type': 'Smart Contract Exploit',\n  'contract_hash': ''},\n {'protocol_name': 'Chain Swap',\n  'project_type': 'Bridge',\n  'date_of_attack': '7/10/2021',\n  'amount_lost': 4400000,\n  'attack_type': 'Smart Contract Exploit',\n  'contract_hash': ''},\n {'protocol_name': 'Chain Swap',\n  'project_type': 'Bridge',\n  'date_of_attack': '7/2/2021',\n  'amount_lost': 800000,\n  'attack_type': 'Smart Contract Exploit',\n  'contract_hash': ''},\n {'protocol_name': 'Impossible Finance',\n  'project_type': 'Funding',\n  'date_of_attack': '6/21/2021',\n  'amount_lost': 500000,\n  'attack_type': 'Flash Loan Attack',\n  'contract_hash': ''},\n {'protocol_name': 'xToken',\n  'project_type': 'Asset Management',\n  'date_of_attack': '5/12/2021',\n  'amount_lost': 24500000,\n  'attack_type': 'Flash Loan Attack',\n  'contract_hash': ''},\n {'protocol_name': 'Force DAO',\n  'project_type': 'DAO',\n  'date_of_attack': '4/4/2021',\n  'amount_lost': 376000,\n  'attack_type': 'Smart Contract Exploit',\n  'contract_hash': ''},\n {'protocol_name': 'TurtleDex',\n  'project_type': 'DEX',\n  'date_of_attack': '3/18/2021',\n  'amount_lost': 2400000,\n  'attack_type': 'Rug Pull',\n  'contract_hash': ''},\n {'protocol_name': 'Iron Finance',\n  'project_type': 'Lending and Borrowing',\n  'date_of_attack': '3/16/2021',\n  'amount_lost': 170000,\n  'attack_type': 'Rug Pull',\n  'contract_hash': ''},\n {'protocol_name': 'Cover Protocol',\n  'project_type': 'Insurance',\n  'date_of_attack': '12/28/2020',\n  'amount_lost': 5000000,\n  'attack_type': 'Smart Contract Exploit',\n  'contract_hash': ''},\n {'protocol_name': 'Origin Protocol',\n  'project_type': 'Stablecoins',\n  'date_of_attack': '11/17/2020',\n  'amount_lost': 7000000,\n  'attack_type': 'Reentrancy',\n  'contract_hash': ''},\n {'protocol_name': 'Harvest Finance',\n  'project_type': 'Yield Farming',\n  'date_of_attack': '2/17/2022',\n  'amount_lost': 33800000,\n  'attack_type': 'Flash Loan Attack',\n  'contract_hash': ''},\n {'protocol_name': 'Leo Finance',\n  'project_type': 'Network',\n  'date_of_attack': '10/11/2020',\n  'amount_lost': 42000,\n  'attack_type': 'Smart Contract Exploit',\n  'contract_hash': ''},\n {'protocol_name': 'bZx',\n  'project_type': 'Lending and Borrowing',\n  'date_of_attack': '9/13/2020',\n  'amount_lost': 8000000,\n  'attack_type': 'Flash Loan Attack',\n  'contract_hash': ''},\n {'protocol_name': 'Yearn Finance',\n  'project_type': 'Yield Aggregator',\n  'date_of_attack': '9/7/2020',\n  'amount_lost': 250000,\n  'attack_type': 'Flash Loan Attack',\n  'contract_hash': ''},\n {'protocol_name': 'Balancer',\n  'project_type': 'AMM',\n  'date_of_attack': '6/29/2020',\n  'amount_lost': 500000,\n  'attack_type': 'Flash Loan Attack',\n  'contract_hash': ''},\n {'protocol_name': 'dForce',\n  'project_type': 'Lending and Borrowing',\n  'date_of_attack': '4/19/2020',\n  'amount_lost': 24900000,\n  'attack_type': 'Reentrancy',\n  'contract_hash': ''},\n {'protocol_name': 'bZx',\n  'project_type': 'Lending and Borrowing',\n  'date_of_attack': '2/15/2020',\n  'amount_lost': 900000,\n  'attack_type': 'Oracle Manipulation',\n  'contract_hash': ''},\n {'protocol_name': 'Fulcrum',\n  'project_type': 'Trading',\n  'date_of_attack': '1/11/2020',\n  'amount_lost': 2500000,\n  'attack_type': 'Smart Contract Exploit',\n  'contract_hash': ''},\n {'protocol_name': 'Bancor',\n  'project_type': 'Trading',\n  'date_of_attack': '7/9/2018',\n  'amount_lost': 13500000,\n  'attack_type': 'Private Key Compromise',\n  'contract_hash': ''},\n {'protocol_name': 'Opyn',\n  'project_type': 'Trading',\n  'date_of_attack': '8/4/2020',\n  'amount_lost': 371260,\n  'attack_type': 'Smart Contract Exploit',\n  'contract_hash': ''},\n {'protocol_name': 'MakerDAO',\n  'project_type': 'Lending and Borrowing',\n  'date_of_attack': '3/12/2020',\n  'amount_lost': 8320000,\n  'attack_type': 'Smart Contract Exploit',\n  'contract_hash': ''},\n {'protocol_name': 'Uniswap',\n  'project_type': 'DEX',\n  'date_of_attack': '4/12/2020',\n  'amount_lost': 300000,\n  'attack_type': 'Reentrancy',\n  'contract_hash': ''},\n {'protocol_name': 'Yearn Finance',\n  'project_type': 'Yield Aggregator',\n  'date_of_attack': '2/4/2021',\n  'amount_lost': 11000000,\n  'attack_type': 'Flash Loan Attack',\n  'contract_hash': ''},\n {'protocol_name': 'Synlev',\n  'project_type': 'Trading',\n  'date_of_attack': '3/12/2021',\n  'amount_lost': 2000000,\n  'attack_type': 'Rug Pull',\n  'contract_hash': ''},\n {'protocol_name': 'DefiSaver',\n  'project_type': 'Asset Management',\n  'date_of_attack': '07/01/2021',\n  'amount_lost': 1200000,\n  'attack_type': 'Whitehat',\n  'contract_hash': ''},\n {'protocol_name': 'Compounder Finance',\n  'project_type': 'Yield Aggregator',\n  'date_of_attack': '12/01/2020',\n  'amount_lost': 12500000,\n  'attack_type': 'Rug Pull',\n  'contract_hash': ''},\n {'protocol_name': 'Percent Finance',\n  'project_type': 'Lending and Borrowing',\n  'date_of_attack': '11/04/2020',\n  'amount_lost': 1000000,\n  'attack_type': 'Smart Contract Bug',\n  'contract_hash': ''},\n {'protocol_name': 'SushiSwap',\n  'project_type': 'Lending and Borrowing',\n  'date_of_attack': '09/05/2020',\n  'amount_lost': 13808454,\n  'attack_type': 'Rug Pull',\n  'contract_hash': ''},\n {'protocol_name': 'Cheese Bank',\n  'project_type': 'Funding',\n  'date_of_attack': '11/06/2020',\n  'amount_lost': 3300000,\n  'attack_type': 'Flash Loan Attack',\n  'contract_hash': ''},\n {'protocol_name': 'The DAO',\n  'project_type': 'DAO',\n  'date_of_attack': '12/06/2016',\n  'amount_lost': 50000000,\n  'attack_type': 'Smart Contract Exploit',\n  'contract_hash': ''},\n {'protocol_name': 'DefiSaver',\n  'project_type': 'Asset Management',\n  'date_of_attack': '08/10/2020',\n  'amount_lost': 310000,\n  'attack_type': 'Smart Contract Exploit',\n  'contract_hash': ''},\n {'protocol_name': 'SpankChain',\n  'project_type': 'Network',\n  'date_of_attack': '09/10/2018',\n  'amount_lost': 37950,\n  'attack_type': 'Reentrancy',\n  'contract_hash': ''},\n {'protocol_name': 'Axion',\n  'project_type': 'Asset Management',\n  'date_of_attack': '11/2/2020',\n  'amount_lost': 600000,\n  'attack_type': 'Mint Exploit',\n  'contract_hash': ''},\n {'protocol_name': 'YAM Finance',\n  'project_type': 'Yield Farming',\n  'date_of_attack': '08/13/2020',\n  'amount_lost': 750000,\n  'attack_type': 'Rebase Error',\n  'contract_hash': ''},\n {'protocol_name': 'bZx',\n  'project_type': 'Lending and Borrowing',\n  'date_of_attack': '09/13/2020',\n  'amount_lost': 8000000,\n  'attack_type': 'Smart Contract Exploit',\n  'contract_hash': ''},\n {'protocol_name': 'inSure',\n  'project_type': 'Insurance',\n  'date_of_attack': '06/14/2021',\n  'amount_lost': 25000000,\n  'attack_type': 'Smart Contract Exploit',\n  'contract_hash': ''},\n {'protocol_name': 'bZx',\n  'project_type': 'Lending and Borrowing',\n  'date_of_attack': '02/15/2020',\n  'amount_lost': 355880,\n  'attack_type': 'Flash Loan Attack',\n  'contract_hash': ''},\n {'protocol_name': 'Origin Dollar',\n  'project_type': 'Stablecoins',\n  'date_of_attack': '11/16/2020',\n  'amount_lost': 7700000,\n  'attack_type': 'Flash Loan Attack',\n  'contract_hash': ''},\n {'protocol_name': '88mph',\n  'project_type': 'Lending and Borrowing',\n  'date_of_attack': '11/17/2020',\n  'amount_lost': 100000,\n  'attack_type': 'Mint Exploit',\n  'contract_hash': ''},\n {'protocol_name': 'bZx',\n  'project_type': 'Lending and Borrowing',\n  'date_of_attack': '02/18/2020',\n  'amount_lost': 633000,\n  'attack_type': 'Flash Loan Attack',\n  'contract_hash': ''},\n {'protocol_name': 'True Seigniorage Dollar',\n  'project_type': 'Stablecoins',\n  'date_of_attack': '03/18/2021',\n  'amount_lost': 16600,\n  'attack_type': 'Mint Exploit',\n  'contract_hash': ''},\n {'protocol_name': 'Bancor',\n  'project_type': 'Trading',\n  'date_of_attack': '06/18/2020',\n  'amount_lost': 135229,\n  'attack_type': 'Other',\n  'contract_hash': ''},\n {'protocol_name': 'Opyn',\n  'project_type': 'Trading',\n  'date_of_attack': '04/19/2020',\n  'amount_lost': 24500000,\n  'attack_type': 'Reentrancy',\n  'contract_hash': ''},\n {'protocol_name': 'Pancake Bunny',\n  'project_type': 'Yield Farming',\n  'date_of_attack': '05/19/2021',\n  'amount_lost': 45000000,\n  'attack_type': 'Flash Loan Attack',\n  'contract_hash': ''},\n {'protocol_name': 'Hegic',\n  'project_type': 'Trading',\n  'date_of_attack': '04/23/2020',\n  'amount_lost': 48000,\n  'attack_type': 'Smart Contract Bug',\n  'contract_hash': ''},\n {'protocol_name': 'Deriswap',\n  'project_type': 'Lending and Borrowing',\n  'date_of_attack': '11/23/2020',\n  'amount_lost': 53000,\n  'attack_type': 'Rug Pull',\n  'contract_hash': ''},\n {'protocol_name': 'Synthetix',\n  'project_type': 'Trading',\n  'date_of_attack': '06/25/2019',\n  'amount_lost': 37000000,\n  'attack_type': 'Other',\n  'contract_hash': ''},\n {'protocol_name': 'Julswap',\n  'project_type': 'DEX',\n  'date_of_attack': '05/27/2021',\n  'amount_lost': 7200000,\n  'attack_type': 'Flash Loan Attack',\n  'contract_hash': ''},\n {'protocol_name': None,\n  'project_type': '',\n  'date_of_attack': '06/28/2020',\n  'amount_lost': 449740,\n  'attack_type': 'Flash Loan Attack',\n  'contract_hash': ''},\n {'protocol_name': 'SushiSwap',\n  'project_type': 'Lending and Borrowing',\n  'date_of_attack': '1/29/21',\n  'amount_lost': 108000,\n  'attack_type': 'Smart Contract Exploit',\n  'contract_hash': ''},\n {'protocol_name': 'Vader Protocol',\n  'project_type': 'Lending and Borrowing',\n  'date_of_attack': '06/30/2020',\n  'amount_lost': 900000,\n  'attack_type': 'Smart Contract Exploit',\n  'contract_hash': ''},\n {'protocol_name': 'SushiSwap',\n  'project_type': 'Lending and Borrowing',\n  'date_of_attack': '11/30/2020',\n  'amount_lost': 15000,\n  'attack_type': 'Smart Contract Exploit',\n  'contract_hash': ''},\n {'protocol_name': 'Force DAO',\n  'project_type': 'DAO',\n  'date_of_attack': '4/6/2021',\n  'amount_lost': 367000,\n  'attack_type': 'Smart Contract Exploit',\n  'contract_hash': ''},\n {'protocol_name': 'Growth DeFi',\n  'project_type': 'Yield Aggregator',\n  'date_of_attack': '2/8/2021',\n  'amount_lost': 1400000,\n  'attack_type': 'Smart Contract Exploit',\n  'contract_hash': ''},\n {'protocol_name': 'Mocha Set Dollar',\n  'project_type': 'Funding',\n  'date_of_attack': '01/01/2021',\n  'amount_lost': 6679,\n  'attack_type': 'Rug Pull',\n  'contract_hash': ''},\n {'protocol_name': 'Charge DeFi',\n  'project_type': 'Trading',\n  'date_of_attack': '01/01/2021',\n  'amount_lost': None,\n  'attack_type': 'Rug Pull',\n  'contract_hash': ''},\n {'protocol_name': 'Multiple Finance',\n  'project_type': 'Trading',\n  'date_of_attack': '02/01/2021',\n  'amount_lost': 240000,\n  'attack_type': 'Rug Pull',\n  'contract_hash': ''},\n {'protocol_name': 'Vaultz',\n  'project_type': 'Trading',\n  'date_of_attack': '02/02/2021',\n  'amount_lost': 7625,\n  'attack_type': 'Rug Pull',\n  'contract_hash': ''},\n {'protocol_name': 'Penny Protocol',\n  'project_type': 'Trading',\n  'date_of_attack': '04/01/2021',\n  'amount_lost': 1884,\n  'attack_type': 'Rug Pull',\n  'contract_hash': ''},\n {'protocol_name': 'Xdef Finance',\n  'project_type': 'Funding',\n  'date_of_attack': '05/01/2021',\n  'amount_lost': 561000,\n  'attack_type': 'Rug Pull',\n  'contract_hash': ''},\n {'protocol_name': 'Shopin',\n  'project_type': 'Trading',\n  'date_of_attack': '06/01/2018',\n  'amount_lost': 10000000,\n  'attack_type': 'ICO Scam',\n  'contract_hash': ''},\n {'protocol_name': 'Kore',\n  'project_type': 'Yield Farming',\n  'date_of_attack': '11/01/2020',\n  'amount_lost': 346488,\n  'attack_type': 'Rug Pull',\n  'contract_hash': ''},\n {'protocol_name': 'Kper Network',\n  'project_type': 'Network',\n  'date_of_attack': '11/01/2020',\n  'amount_lost': 550000,\n  'attack_type': 'Rug Pull',\n  'contract_hash': ''},\n {'protocol_name': 'PlexCoin',\n  'project_type': 'Trading',\n  'date_of_attack': '12/01/2017',\n  'amount_lost': 2000000,\n  'attack_type': 'ICO Scam',\n  'contract_hash': ''},\n {'protocol_name': 'AriseBank',\n  'project_type': 'Trading',\n  'date_of_attack': '02/02/2018',\n  'amount_lost': 4200000,\n  'attack_type': 'ICO Scam',\n  'contract_hash': ''},\n {'protocol_name': 'DeFlast Finance',\n  'project_type': 'Trading',\n  'date_of_attack': '02/02/2021',\n  'amount_lost': 300000,\n  'attack_type': 'Whitehat',\n  'contract_hash': ''},\n {'protocol_name': 'OracleSwapToken',\n  'project_type': 'DEX',\n  'date_of_attack': '02/02/2021',\n  'amount_lost': 127327,\n  'attack_type': 'Rug Pull',\n  'contract_hash': ''},\n {'protocol_name': 'Hedget',\n  'project_type': 'Trading',\n  'date_of_attack': '03/02/2021',\n  'amount_lost': None,\n  'attack_type': 'Rug Pull',\n  'contract_hash': ''},\n {'protocol_name': 'Centra',\n  'project_type': 'Trading',\n  'date_of_attack': '04/02/2018',\n  'amount_lost': 25000000,\n  'attack_type': 'ICO Scam',\n  'contract_hash': ''},\n {'protocol_name': 'YFDash Finance',\n  'project_type': 'Network',\n  'date_of_attack': '12/02/2020',\n  'amount_lost': 65611,\n  'attack_type': 'Rug Pull',\n  'contract_hash': ''},\n {'protocol_name': 'Chad Token',\n  'project_type': 'Yield Farming',\n  'date_of_attack': '08/03/2021',\n  'amount_lost': None,\n  'attack_type': 'Rug Pull',\n  'contract_hash': ''},\n {'protocol_name': 'Yearn Finance',\n  'project_type': 'Yield Aggregator',\n  'date_of_attack': '09/03/2020',\n  'amount_lost': 250000,\n  'attack_type': 'Rebase Error',\n  'contract_hash': ''},\n {'protocol_name': 'Rise Protocol',\n  'project_type': 'Trading',\n  'date_of_attack': '11/03/2021',\n  'amount_lost': 543452,\n  'attack_type': 'Rug Pull',\n  'contract_hash': ''},\n {'protocol_name': 'UniCats',\n  'project_type': 'Yield Farming',\n  'date_of_attack': '10/04/2020',\n  'amount_lost': 230000,\n  'attack_type': 'Rug Pull',\n  'contract_hash': ''},\n {'protocol_name': 'Matcha',\n  'project_type': 'Trading',\n  'date_of_attack': '10/04/2021',\n  'amount_lost': 250000,\n  'attack_type': 'Unable to Sell',\n  'contract_hash': ''},\n {'protocol_name': 'Qubes',\n  'project_type': 'Trading',\n  'date_of_attack': '10/04/2021',\n  'amount_lost': 1757250,\n  'attack_type': 'Unable to Sell',\n  'contract_hash': ''},\n {'protocol_name': 'YearnSpace',\n  'project_type': 'Trading',\n  'date_of_attack': '12/04/2020',\n  'amount_lost': 0,\n  'attack_type': 'Rug Pull',\n  'contract_hash': ''},\n {'protocol_name': 'FairElon',\n  'project_type': 'Memecoin',\n  'date_of_attack': '04/05/2021',\n  'amount_lost': 8000,\n  'attack_type': 'Unable to Sell',\n  'contract_hash': ''},\n {'protocol_name': 'keep3rX',\n  'project_type': 'Yield Farming',\n  'date_of_attack': '11/05/2020',\n  'amount_lost': 13280,\n  'attack_type': 'Rug Pull',\n  'contract_hash': ''},\n {'protocol_name': 'Kong Coin',\n  'project_type': 'Memecoin',\n  'date_of_attack': '04/06/2021',\n  'amount_lost': 9963,\n  'attack_type': 'Unable to Sell',\n  'contract_hash': ''},\n {'protocol_name': 'Burn Vault Finance',\n  'project_type': 'Yield Farming',\n  'date_of_attack': '10/06/2020',\n  'amount_lost': 1396,\n  'attack_type': 'Rug Pull',\n  'contract_hash': ''},\n {'protocol_name': 'Padthai Finance',\n  'project_type': 'Yield Farming',\n  'date_of_attack': '10/06/2020',\n  'amount_lost': 30000,\n  'attack_type': 'Rug Pull',\n  'contract_hash': ''},\n {'protocol_name': 'YFFC Finance',\n  'project_type': 'Trading',\n  'date_of_attack': '11/06/2020',\n  'amount_lost': 29700,\n  'attack_type': 'Rug Pull',\n  'contract_hash': ''},\n {'protocol_name': 'Unirocket',\n  'project_type': 'Memecoin',\n  'date_of_attack': '10/08/2020',\n  'amount_lost': 9100,\n  'attack_type': 'Rug Pull',\n  'contract_hash': ''},\n {'protocol_name': 'Contribute Protocol',\n  'project_type': 'DAO',\n  'date_of_attack': '01/09/2021',\n  'amount_lost': 6000,\n  'attack_type': 'Rug Pull',\n  'contract_hash': ''},\n {'protocol_name': 'Emerald Mine',\n  'project_type': 'Interest',\n  'date_of_attack': '09/09/2020',\n  'amount_lost': 2500000,\n  'attack_type': 'Rug Pull',\n  'contract_hash': ''},\n {'protocol_name': 'YFDEX Finance',\n  'project_type': 'Liquidity Pool',\n  'date_of_attack': '11/09/2020',\n  'amount_lost': 20000000,\n  'attack_type': 'Rug Pull',\n  'contract_hash': ''},\n {'protocol_name': 'Generate',\n  'project_type': 'Trading',\n  'date_of_attack': '03/10/2021',\n  'amount_lost': None,\n  'attack_type': 'Rug Pull',\n  'contract_hash': ''},\n {'protocol_name': 'FLiK',\n  'project_type': 'Trading',\n  'date_of_attack': '05/10/2019',\n  'amount_lost': 1300000,\n  'attack_type': 'ICO Scam',\n  'contract_hash': ''},\n {'protocol_name': 'CBDAO',\n  'project_type': 'DAO',\n  'date_of_attack': '11/10/2020',\n  'amount_lost': 90000,\n  'attack_type': 'Rug Pull',\n  'contract_hash': ''},\n {'protocol_name': 'Defibase',\n  'project_type': 'Crosschain Aggregator',\n  'date_of_attack': '12/11/2020',\n  'amount_lost': 382800,\n  'attack_type': 'Rug Pull',\n  'contract_hash': ''},\n {'protocol_name': 'YFFS Finance',\n  'project_type': 'Yield Aggregator',\n  'date_of_attack': '12/11/2020',\n  'amount_lost': 1000000,\n  'attack_type': 'ICO Scam',\n  'contract_hash': ''},\n {'protocol_name': 'Shabuvault',\n  'project_type': 'Yield Farming',\n  'date_of_attack': '12/11/2020',\n  'amount_lost': 5500,\n  'attack_type': 'Rug Pull',\n  'contract_hash': ''},\n {'protocol_name': 'Nifity.io',\n  'project_type': 'NFT Marketplace',\n  'date_of_attack': '01/13/2021',\n  'amount_lost': 194000,\n  'attack_type': 'Rug Pull',\n  'contract_hash': ''},\n {'protocol_name': 'Boon Tech',\n  'project_type': 'Stablecoins',\n  'date_of_attack': '08/13/2020',\n  'amount_lost': 5000000,\n  'attack_type': 'ICO Scam',\n  'contract_hash': ''},\n {'protocol_name': 'BlockVest',\n  'project_type': 'DEX',\n  'date_of_attack': '02/14/2019',\n  'amount_lost': 2500000,\n  'attack_type': 'ICO Scam',\n  'contract_hash': ''},\n {'protocol_name': 'Sakura DeFi',\n  'project_type': 'Gaming',\n  'date_of_attack': '02/14/2021',\n  'amount_lost': None,\n  'attack_type': 'Rug Pull',\n  'contract_hash': ''},\n {'protocol_name': 'MOOswap.org',\n  'project_type': 'Trading',\n  'date_of_attack': '10/14/2020',\n  'amount_lost': 50000,\n  'attack_type': 'Rug Pull',\n  'contract_hash': ''},\n {'protocol_name': 'DeTrade',\n  'project_type': 'Trading',\n  'date_of_attack': '12/14/2020',\n  'amount_lost': 1000000,\n  'attack_type': 'Rug Pull',\n  'contract_hash': ''},\n {'protocol_name': 'MiniVault Finance',\n  'project_type': 'Trading',\n  'date_of_attack': '11/15/2020',\n  'amount_lost': 20000,\n  'attack_type': 'Rug Pull',\n  'contract_hash': ''},\n {'protocol_name': 'pills.forsale',\n  'project_type': 'NFT Marketplace',\n  'date_of_attack': '01/16/2021',\n  'amount_lost': 800000,\n  'attack_type': 'Rug Pull',\n  'contract_hash': ''},\n {'protocol_name': 'Fomo3d',\n  'project_type': 'Gaming',\n  'date_of_attack': '08/16/2018',\n  'amount_lost': 4000000,\n  'attack_type': 'Smart Contract Exploit',\n  'contract_hash': ''},\n {'protocol_name': 'Sav3r',\n  'project_type': 'Gaming',\n  'date_of_attack': '11/16/2020',\n  'amount_lost': 23460,\n  'attack_type': 'Rug Pull',\n  'contract_hash': ''},\n {'protocol_name': 'Walletreum',\n  'project_type': 'Asset Management',\n  'date_of_attack': '11/16/2020',\n  'amount_lost': 163000,\n  'attack_type': 'Rug Pull',\n  'contract_hash': ''},\n {'protocol_name': 'Blockchain Terminal Token',\n  'project_type': 'Trading',\n  'date_of_attack': '01/17/2021',\n  'amount_lost': 30000000,\n  'attack_type': 'ICO Scam',\n  'contract_hash': ''},\n {'protocol_name': 'YearnML Finance',\n  'project_type': '',\n  'date_of_attack': '01/18/2021',\n  'amount_lost': 75000,\n  'attack_type': 'Rug Pull',\n  'contract_hash': ''},\n {'protocol_name': 'ShareDeFi Protocol',\n  'project_type': 'Lending and Borrowing',\n  'date_of_attack': '03/18/2021',\n  'amount_lost': None,\n  'attack_type': 'Rug Pull',\n  'contract_hash': ''},\n {'protocol_name': 'MTI Finance',\n  'project_type': 'Lending and Borrowing',\n  'date_of_attack': '11/18/2020',\n  'amount_lost': 66000,\n  'attack_type': 'Rug Pull',\n  'contract_hash': ''},\n {'protocol_name': 'GasPay',\n  'project_type': 'Trading',\n  'date_of_attack': '02/19/2021',\n  'amount_lost': 203063,\n  'attack_type': 'Rug Pull',\n  'contract_hash': ''},\n {'protocol_name': 'Xfinance',\n  'project_type': 'Liquidity Pool',\n  'date_of_attack': '10/19/2020',\n  'amount_lost': 1050000,\n  'attack_type': 'Rug Pull',\n  'contract_hash': ''},\n {'protocol_name': 'K3psav Finance',\n  'project_type': 'Trading',\n  'date_of_attack': '11/19/2020',\n  'amount_lost': 16636,\n  'attack_type': 'Rug Pull',\n  'contract_hash': ''},\n {'protocol_name': 'Authmen Token',\n  'project_type': 'Yield Farming',\n  'date_of_attack': '12/19/2020',\n  'amount_lost': 12000,\n  'attack_type': 'Rug Pull',\n  'contract_hash': ''},\n {'protocol_name': 'Fairmoon',\n  'project_type': 'Trading',\n  'date_of_attack': '05/19/21',\n  'amount_lost': 500000,\n  'attack_type': 'Rug Pull',\n  'contract_hash': ''},\n {'protocol_name': 'DarkDeFi',\n  'project_type': 'Trading',\n  'date_of_attack': '02/20/2021',\n  'amount_lost': 65000,\n  'attack_type': 'Unable to Sell',\n  'contract_hash': ''},\n {'protocol_name': 'Shiba Poodle',\n  'project_type': 'Memecoin',\n  'date_of_attack': '03/20/2021',\n  'amount_lost': None,\n  'attack_type': 'Rug Pull',\n  'contract_hash': ''},\n {'protocol_name': 'iProtocol',\n  'project_type': 'Network',\n  'date_of_attack': '12/20/2020',\n  'amount_lost': 42880,\n  'attack_type': 'Rug Pull',\n  'contract_hash': ''},\n {'protocol_name': 'Solid Protocol',\n  'project_type': 'Index',\n  'date_of_attack': '12/20/2020',\n  'amount_lost': 150000,\n  'attack_type': 'Rug Pull',\n  'contract_hash': ''},\n {'protocol_name': 'OpportyToken',\n  'project_type': 'Trading',\n  'date_of_attack': '01/21/2020',\n  'amount_lost': 600000,\n  'attack_type': 'ICO Scam',\n  'contract_hash': ''},\n {'protocol_name': 'Argyle Coin',\n  'project_type': 'Trading',\n  'date_of_attack': '05/21/2019',\n  'amount_lost': 30000000,\n  'attack_type': 'ICO Scam',\n  'contract_hash': ''},\n {'protocol_name': 'LV Finance',\n  'project_type': 'Trading',\n  'date_of_attack': '09/21/2020',\n  'amount_lost': 2500000,\n  'attack_type': 'Rug Pull',\n  'contract_hash': ''},\n {'protocol_name': 'Marlin Pond',\n  'project_type': 'Network',\n  'date_of_attack': '12/21/2020',\n  'amount_lost': None,\n  'attack_type': 'Rug Pull',\n  'contract_hash': ''},\n {'protocol_name': 'Turtledex Token',\n  'project_type': 'Decentralized Storage',\n  'date_of_attack': '03/22/2021',\n  'amount_lost': 2500000,\n  'attack_type': 'Rug Pull',\n  'contract_hash': ''},\n {'protocol_name': 'Titanium BAR',\n  'project_type': 'Other',\n  'date_of_attack': '05/22/2018',\n  'amount_lost': 21000000,\n  'attack_type': 'ICO Scam',\n  'contract_hash': ''},\n {'protocol_name': 'Pro Coin',\n  'project_type': 'Trading',\n  'date_of_attack': '05/22/2019',\n  'amount_lost': 26500000,\n  'attack_type': 'ICO Scam',\n  'contract_hash': ''},\n {'protocol_name': 'Futurebase',\n  'project_type': 'Trading',\n  'date_of_attack': '12/22/2020',\n  'amount_lost': 35560,\n  'attack_type': 'Rug Pull',\n  'contract_hash': ''},\n {'protocol_name': 'Gif.Market',\n  'project_type': '',\n  'date_of_attack': '03/23/2021',\n  'amount_lost': 134000,\n  'attack_type': 'Rug Pull',\n  'contract_hash': ''},\n {'protocol_name': 'Dropil',\n  'project_type': 'Trading',\n  'date_of_attack': '04/23/2020',\n  'amount_lost': 1800000,\n  'attack_type': 'ICO Scam',\n  'contract_hash': ''},\n {'protocol_name': 'Fantasy Market Token',\n  'project_type': 'Gaming',\n  'date_of_attack': '09/23/2019',\n  'amount_lost': 63000,\n  'attack_type': 'ICO Scam',\n  'contract_hash': ''},\n {'protocol_name': 'Mosaic',\n  'project_type': 'Other',\n  'date_of_attack': '10/24/2020',\n  'amount_lost': 102500,\n  'attack_type': 'Rug Pull',\n  'contract_hash': ''},\n {'protocol_name': 'Cakelock',\n  'project_type': 'Trading',\n  'date_of_attack': '02/25/2021',\n  'amount_lost': 4230,\n  'attack_type': 'Rug Pull',\n  'contract_hash': ''},\n {'protocol_name': 'Data Transaction Token',\n  'project_type': 'Other',\n  'date_of_attack': '09/25/2020',\n  'amount_lost': 2400000,\n  'attack_type': 'ICO Scam',\n  'contract_hash': ''},\n {'protocol_name': 'Hatch DAO',\n  'project_type': 'DAO',\n  'date_of_attack': '09/25/2020',\n  'amount_lost': 4319,\n  'attack_type': 'Rug Pull',\n  'contract_hash': ''},\n {'protocol_name': 'Magix',\n  'project_type': 'Index',\n  'date_of_attack': '12/25/2020',\n  'amount_lost': 6000,\n  'attack_type': 'Rug Pull',\n  'contract_hash': ''},\n {'protocol_name': 'Veritaseum',\n  'project_type': 'Asset Management',\n  'date_of_attack': '07/26/2017',\n  'amount_lost': 8400000,\n  'attack_type': 'Private Key Compromise',\n  'contract_hash': ''},\n {'protocol_name': 'PopcornSwap',\n  'project_type': 'Trading',\n  'date_of_attack': '01/27/2021',\n  'amount_lost': 2000000,\n  'attack_type': 'Rug Pull',\n  'contract_hash': ''},\n {'protocol_name': 'Safestorm',\n  'project_type': 'Trading',\n  'date_of_attack': '03/27/2021',\n  'amount_lost': 24300,\n  'attack_type': 'Rug Pull',\n  'contract_hash': ''},\n {'protocol_name': 'Santa DAO',\n  'project_type': 'DAO',\n  'date_of_attack': '10/27/2020',\n  'amount_lost': 3456,\n  'attack_type': 'Rug Pull',\n  'contract_hash': ''},\n {'protocol_name': 'ThunderSwap',\n  'project_type': 'Trading',\n  'date_of_attack': '02/28/2020',\n  'amount_lost': 46500,\n  'attack_type': 'Rug Pull',\n  'contract_hash': ''},\n {'protocol_name': 'BitClave',\n  'project_type': 'Other',\n  'date_of_attack': '05/28/2020',\n  'amount_lost': 25500000,\n  'attack_type': 'ICO Scam',\n  'contract_hash': ''},\n {'protocol_name': 'Bitqyck',\n  'project_type': 'Trading',\n  'date_of_attack': '08/29/2019',\n  'amount_lost': 13000000,\n  'attack_type': 'ICO Scam',\n  'contract_hash': ''},\n {'protocol_name': 'Dark Matter',\n  'project_type': 'Memecoin',\n  'date_of_attack': '12/29/2020',\n  'amount_lost': 3000,\n  'attack_type': 'Rug Pull',\n  'contract_hash': ''},\n {'protocol_name': 'Oyster Protocol',\n  'project_type': 'Other',\n  'date_of_attack': '10/30/2018',\n  'amount_lost': 300000,\n  'attack_type': 'Rug Pull',\n  'contract_hash': ''},\n {'protocol_name': 'UniDark',\n  'project_type': 'Trading',\n  'date_of_attack': '11/30/2020',\n  'amount_lost': 35000,\n  'attack_type': 'Rug Pull',\n  'contract_hash': ''},\n {'protocol_name': 'Exeedme',\n  'project_type': 'Gaming',\n  'date_of_attack': '12/30/2020',\n  'amount_lost': 560000,\n  'attack_type': 'Rug Pull',\n  'contract_hash': ''},\n {'protocol_name': 'YYFI',\n  'project_type': 'Trading',\n  'date_of_attack': '07/31/2020',\n  'amount_lost': None,\n  'attack_type': 'Rug Pull',\n  'contract_hash': ''},\n {'protocol_name': 'Amplyfi',\n  'project_type': 'Other',\n  'date_of_attack': '7/31/2020',\n  'amount_lost': 850000,\n  'attack_type': 'Rug Pull',\n  'contract_hash': ''},\n {'protocol_name': 'DecentralizedOracle',\n  'project_type': 'Oracle',\n  'date_of_attack': '4/6/2021',\n  'amount_lost': 600000,\n  'attack_type': 'Rug Pull',\n  'contract_hash': ''},\n {'protocol_name': 'iYieldFram',\n  'project_type': 'Yield Farming',\n  'date_of_attack': '3/7/2021',\n  'amount_lost': 2000000,\n  'attack_type': 'Rug Pull',\n  'contract_hash': ''},\n {'protocol_name': 'SharkTron',\n  'project_type': 'Trading',\n  'date_of_attack': '09/11/2020',\n  'amount_lost': 10000000,\n  'attack_type': 'Rug Pull',\n  'contract_hash': ''},\n {'protocol_name': 'Tether',\n  'project_type': 'Stablecoins',\n  'date_of_attack': '11/19/2017',\n  'amount_lost': 30950010,\n  'attack_type': 'Unauthorized Withdrawal',\n  'contract_hash': ''},\n {'protocol_name': 'Safe Dollar',\n  'project_type': 'Stablecoins',\n  'date_of_attack': '06/18/2021',\n  'amount_lost': 250000,\n  'attack_type': 'Mint Exploit',\n  'contract_hash': ''},\n {'protocol_name': 'Yearn Finance',\n  'project_type': 'Yield Aggregator',\n  'date_of_attack': '06/26/2021',\n  'amount_lost': 259000,\n  'attack_type': 'Smart Contract Bug',\n  'contract_hash': ''},\n {'protocol_name': 'Visor Finance',\n  'project_type': 'AMM',\n  'date_of_attack': '06/19/2021',\n  'amount_lost': 500000,\n  'attack_type': 'Private Key Compromise',\n  'contract_hash': ''},\n {'protocol_name': 'Polybutterfly',\n  'project_type': 'Lending and Borrowing',\n  'date_of_attack': '06/05/2021',\n  'amount_lost': 1600000,\n  'attack_type': 'Rug Pull',\n  'contract_hash': ''},\n {'protocol_name': 'Polyorca',\n  'project_type': 'Yield Farming',\n  'date_of_attack': '06/21/2021',\n  'amount_lost': None,\n  'attack_type': 'Rug Pull',\n  'contract_hash': ''},\n {'protocol_name': 'Beets Finance',\n  'project_type': 'Yield Farming',\n  'date_of_attack': '06/17/2021',\n  'amount_lost': 100000,\n  'attack_type': 'Rug Pull',\n  'contract_hash': ''},\n {'protocol_name': 'Aurafi',\n  'project_type': '',\n  'date_of_attack': '06/05/2021',\n  'amount_lost': 1500000,\n  'attack_type': 'Rug Pull',\n  'contract_hash': ''},\n {'protocol_name': 'STRD Finance',\n  'project_type': '',\n  'date_of_attack': '',\n  'amount_lost': None,\n  'attack_type': '',\n  'contract_hash': ''},\n {'protocol_name': 'cretaceous.space',\n  'project_type': '',\n  'date_of_attack': '',\n  'amount_lost': None,\n  'attack_type': '',\n  'contract_hash': ''},\n {'protocol_name': 'Missile Finance',\n  'project_type': '',\n  'date_of_attack': '',\n  'amount_lost': None,\n  'attack_type': '',\n  'contract_hash': ''},\n {'protocol_name': 'Pumaswap',\n  'project_type': '',\n  'date_of_attack': '',\n  'amount_lost': None,\n  'attack_type': '',\n  'contract_hash': ''},\n {'protocol_name': 'Boobs',\n  'project_type': '',\n  'date_of_attack': '',\n  'amount_lost': None,\n  'attack_type': '',\n  'contract_hash': ''},\n {'protocol_name': 'Ogre',\n  'project_type': '',\n  'date_of_attack': '',\n  'amount_lost': None,\n  'attack_type': '',\n  'contract_hash': ''},\n {'protocol_name': 'Croco',\n  'project_type': '',\n  'date_of_attack': '',\n  'amount_lost': None,\n  'attack_type': '',\n  'contract_hash': ''},\n {'protocol_name': 'Warden',\n  'project_type': '',\n  'date_of_attack': '',\n  'amount_lost': None,\n  'attack_type': '',\n  'contract_hash': ''},\n {'protocol_name': 'Pablo Escobar',\n  'project_type': '',\n  'date_of_attack': '',\n  'amount_lost': None,\n  'attack_type': '',\n  'contract_hash': ''},\n {'protocol_name': 'Pulldog Swap',\n  'project_type': '',\n  'date_of_attack': '',\n  'amount_lost': None,\n  'attack_type': '',\n  'contract_hash': ''},\n {'protocol_name': 'MoltenSwap',\n  'project_type': '',\n  'date_of_attack': '',\n  'amount_lost': None,\n  'attack_type': '',\n  'contract_hash': ''},\n {'protocol_name': 'WhaleSwap',\n  'project_type': '',\n  'date_of_attack': '',\n  'amount_lost': None,\n  'attack_type': '',\n  'contract_hash': ''},\n {'protocol_name': 'DiceSwap',\n  'project_type': '',\n  'date_of_attack': '',\n  'amount_lost': None,\n  'attack_type': '',\n  'contract_hash': ''},\n {'protocol_name': 'KoiSwap',\n  'project_type': '',\n  'date_of_attack': '',\n  'amount_lost': None,\n  'attack_type': '',\n  'contract_hash': ''},\n {'protocol_name': 'Chaddy',\n  'project_type': '',\n  'date_of_attack': '',\n  'amount_lost': None,\n  'attack_type': '',\n  'contract_hash': ''},\n {'protocol_name': 'SheepSwap',\n  'project_type': '',\n  'date_of_attack': '',\n  'amount_lost': None,\n  'attack_type': '',\n  'contract_hash': ''},\n {'protocol_name': 'Demeterfinance.org',\n  'project_type': '',\n  'date_of_attack': '',\n  'amount_lost': None,\n  'attack_type': '',\n  'contract_hash': ''},\n {'protocol_name': 'Durian',\n  'project_type': '',\n  'date_of_attack': '',\n  'amount_lost': None,\n  'attack_type': '',\n  'contract_hash': ''},\n {'protocol_name': 'https://sailorswap.io/sale',\n  'project_type': '',\n  'date_of_attack': '',\n  'amount_lost': None,\n  'attack_type': '',\n  'contract_hash': ''},\n {'protocol_name': 'https://sf2.safufinance.xyz/',\n  'project_type': '',\n  'date_of_attack': '',\n  'amount_lost': None,\n  'attack_type': '',\n  'contract_hash': ''},\n {'protocol_name': 'https://dragon-fly.finance/#/',\n  'project_type': '',\n  'date_of_attack': '',\n  'amount_lost': None,\n  'attack_type': '',\n  'contract_hash': ''},\n {'protocol_name': 'Rumstaking.com',\n  'project_type': '',\n  'date_of_attack': '',\n  'amount_lost': None,\n  'attack_type': '',\n  'contract_hash': ''},\n {'protocol_name': 'https://original.finance/',\n  'project_type': '',\n  'date_of_attack': '',\n  'amount_lost': None,\n  'attack_type': '',\n  'contract_hash': ''},\n {'protocol_name': 'Finite',\n  'project_type': '',\n  'date_of_attack': '',\n  'amount_lost': None,\n  'attack_type': '',\n  'contract_hash': ''},\n {'protocol_name': 'Bacon',\n  'project_type': '',\n  'date_of_attack': '',\n  'amount_lost': None,\n  'attack_type': '',\n  'contract_hash': ''},\n {'protocol_name': 'Croco',\n  'project_type': '',\n  'date_of_attack': '',\n  'amount_lost': None,\n  'attack_type': '',\n  'contract_hash': ''},\n {'protocol_name': 'Neonic',\n  'project_type': '',\n  'date_of_attack': '',\n  'amount_lost': None,\n  'attack_type': '',\n  'contract_hash': ''},\n {'protocol_name': 'Ela',\n  'project_type': '',\n  'date_of_attack': '',\n  'amount_lost': None,\n  'attack_type': '',\n  'contract_hash': ''},\n {'protocol_name': 'BNBdivs',\n  'project_type': '',\n  'date_of_attack': '',\n  'amount_lost': None,\n  'attack_type': '',\n  'contract_hash': ''},\n {'protocol_name': 'Sexyapy.com',\n  'project_type': '',\n  'date_of_attack': '',\n  'amount_lost': None,\n  'attack_type': '',\n  'contract_hash': ''},\n {'protocol_name': 'https://axedefi.com/',\n  'project_type': '',\n  'date_of_attack': '',\n  'amount_lost': None,\n  'attack_type': '',\n  'contract_hash': ''},\n {'protocol_name': 'https://seashell.finance',\n  'project_type': '',\n  'date_of_attack': '',\n  'amount_lost': None,\n  'attack_type': '',\n  'contract_hash': ''},\n {'protocol_name': 'Bearn.Fi',\n  'project_type': '',\n  'date_of_attack': '5/16/21',\n  'amount_lost': 11000000,\n  'attack_type': 'Smart Contract Exploit',\n  'contract_hash': ''},\n {'protocol_name': 'yCredit',\n  'project_type': '',\n  'date_of_attack': '1/1/2021',\n  'amount_lost': 11000000,\n  'attack_type': 'Mint Exploit',\n  'contract_hash': ''},\n {'protocol_name': 'Yield Finance',\n  'project_type': '',\n  'date_of_attack': '2/27/21',\n  'amount_lost': 166000,\n  'attack_type': 'Whitehat',\n  'contract_hash': ''},\n {'protocol_name': 'Zerion',\n  'project_type': '',\n  'date_of_attack': '3/4/2021',\n  'amount_lost': 30000,\n  'attack_type': 'Other',\n  'contract_hash': ''},\n {'protocol_name': 'Sil Finance',\n  'project_type': '',\n  'date_of_attack': '3/18/21',\n  'amount_lost': 12200000,\n  'attack_type': 'Smart Contract Exploit',\n  'contract_hash': ''},\n {'protocol_name': 'Polkatrain',\n  'project_type': '',\n  'date_of_attack': '4/4/2021',\n  'amount_lost': 3000000,\n  'attack_type': 'Smart Contract Exploit',\n  'contract_hash': ''},\n {'protocol_name': 'Pancake Swap',\n  'project_type': 'Yield Farming',\n  'date_of_attack': '3/15/21',\n  'amount_lost': 1800000,\n  'attack_type': 'Smart Contract Exploit',\n  'contract_hash': ''},\n {'protocol_name': 'Venus',\n  'project_type': '',\n  'date_of_attack': '5/18/21',\n  'amount_lost': 300000000,\n  'attack_type': 'Smart Contract Exploit',\n  'contract_hash': ''},\n {'protocol_name': 'Bogged',\n  'project_type': '',\n  'date_of_attack': '5/22/21',\n  'amount_lost': 3600000,\n  'attack_type': 'Flash Loan Attack',\n  'contract_hash': ''},\n {'protocol_name': 'Merlin',\n  'project_type': '',\n  'date_of_attack': '5/26/21',\n  'amount_lost': 680000,\n  'attack_type': 'Mint Exploit',\n  'contract_hash': ''},\n {'protocol_name': 'Wild Credit',\n  'project_type': '',\n  'date_of_attack': '5/27/21',\n  'amount_lost': 637000,\n  'attack_type': 'Smart Contract Exploit',\n  'contract_hash': ''},\n {'protocol_name': 'Alchemix',\n  'project_type': 'Lending and Borrowing',\n  'date_of_attack': '6/6/2021',\n  'amount_lost': 50000,\n  'attack_type': 'Smart Contract Bug',\n  'contract_hash': ''},\n {'protocol_name': 'Impossible Finance',\n  'project_type': '',\n  'date_of_attack': '6/21/21',\n  'amount_lost': 500000,\n  'attack_type': 'Flash Loan Attack',\n  'contract_hash': ''},\n {'protocol_name': 'Uranium Finance',\n  'project_type': '',\n  'date_of_attack': '4/7/2021',\n  'amount_lost': 1500000,\n  'attack_type': 'Smart Contract Exploit',\n  'contract_hash': ''},\n {'protocol_name': 'Value DeFi',\n  'project_type': '',\n  'date_of_attack': '5/6/2021',\n  'amount_lost': 10000000,\n  'attack_type': 'Smart Contract Exploit',\n  'contract_hash': ''},\n {'protocol_name': 'Hotdogcart Finance',\n  'project_type': '',\n  'date_of_attack': '6/29/21',\n  'amount_lost': 22000,\n  'attack_type': 'Rug Pull',\n  'contract_hash': ''},\n {'protocol_name': 'Cream Finance',\n  'project_type': '',\n  'date_of_attack': '08/30/2021',\n  'amount_lost': 18800000,\n  'attack_type': 'Reentrancy',\n  'contract_hash': ''},\n {'protocol_name': 'Tomb Finance',\n  'project_type': '',\n  'date_of_attack': '9/3/2021',\n  'amount_lost': None,\n  'attack_type': '',\n  'contract_hash': ''},\n {'protocol_name': 'Dao Maker',\n  'project_type': '',\n  'date_of_attack': '9/6/2021',\n  'amount_lost': 4000000,\n  'attack_type': 'Smart Contract Exploit',\n  'contract_hash': ''},\n {'protocol_name': 'Compound Finance',\n  'project_type': '',\n  'date_of_attack': '09/29/21',\n  'amount_lost': 147000000,\n  'attack_type': 'Smart Contract Bug',\n  'contract_hash': ''},\n {'protocol_name': 'Compound',\n  'project_type': '',\n  'date_of_attack': '10/04/21',\n  'amount_lost': 68800000,\n  'attack_type': 'Smart Contract Bug',\n  'contract_hash': ''},\n {'protocol_name': 'Cream Finance',\n  'project_type': '',\n  'date_of_attack': '10/27/2021',\n  'amount_lost': 130000000,\n  'attack_type': 'Flash Loan Attack',\n  'contract_hash': ''},\n {'protocol_name': 'AnubisDAO',\n  'project_type': '',\n  'date_of_attack': '10/29/21',\n  'amount_lost': 60000000,\n  'attack_type': 'Rug Pull',\n  'contract_hash': ''},\n {'protocol_name': 'SQUID',\n  'project_type': '',\n  'date_of_attack': '11/01/2021',\n  'amount_lost': 3400000,\n  'attack_type': 'Rug Pull',\n  'contract_hash': ''},\n {'protocol_name': 'bZx',\n  'project_type': 'Lending and Borrowing',\n  'date_of_attack': '11/05/2021',\n  'amount_lost': 55040167,\n  'attack_type': 'Private Key Compromise',\n  'contract_hash': ''},\n {'protocol_name': 'Curve Finance',\n  'project_type': '',\n  'date_of_attack': '11/11/2021',\n  'amount_lost': 30000000,\n  'attack_type': 'Other',\n  'contract_hash': ''},\n {'protocol_name': 'Vesper Finance',\n  'project_type': '',\n  'date_of_attack': '11/03/2021',\n  'amount_lost': 3000000,\n  'attack_type': 'Oracle Manipulation',\n  'contract_hash': ''},\n {'protocol_name': 'BXH',\n  'project_type': '',\n  'date_of_attack': '10/30/2021',\n  'amount_lost': 139195315,\n  'attack_type': 'Private Key Compromise',\n  'contract_hash': ''},\n {'protocol_name': 'AutoShark Finance',\n  'project_type': '',\n  'date_of_attack': '10/29/2021',\n  'amount_lost': 2000000,\n  'attack_type': 'Flash Loan Attack',\n  'contract_hash': ''},\n {'protocol_name': 'Avaterra Finance',\n  'project_type': '',\n  'date_of_attack': '10/21/2021',\n  'amount_lost': None,\n  'attack_type': 'Mint Exploit',\n  'contract_hash': ''},\n {'protocol_name': 'Pancake Bunny',\n  'project_type': 'Yield Farming',\n  'date_of_attack': '10/20/2021',\n  'amount_lost': None,\n  'attack_type': 'Flash Loan Attack',\n  'contract_hash': ''},\n {'protocol_name': 'Glide Finance',\n  'project_type': '',\n  'date_of_attack': '10/18/2021',\n  'amount_lost': 300000,\n  'attack_type': 'Smart Contract Bug',\n  'contract_hash': ''},\n {'protocol_name': 'Cream Finance',\n  'project_type': '',\n  'date_of_attack': '02/13/2021',\n  'amount_lost': 37500000,\n  'attack_type': 'Flash Loan Attack',\n  'contract_hash': ''},\n {'protocol_name': 'Nerve',\n  'project_type': '',\n  'date_of_attack': '',\n  'amount_lost': None,\n  'attack_type': '',\n  'contract_hash': ''},\n {'protocol_name': 'Bitinex',\n  'project_type': '',\n  'date_of_attack': '09/27/2021',\n  'amount_lost': None,\n  'attack_type': 'Other',\n  'contract_hash': ''},\n {'protocol_name': 'Nowswap',\n  'project_type': 'DEX',\n  'date_of_attack': '09/15/2021',\n  'amount_lost': 1000000,\n  'attack_type': '',\n  'contract_hash': ''},\n {'protocol_name': 'SushiSwap',\n  'project_type': 'Lending and Borrowing',\n  'date_of_attack': '01/20/2021',\n  'amount_lost': 100000,\n  'attack_type': 'Smart Contract Exploit',\n  'contract_hash': ''},\n {'protocol_name': 'Bitmart',\n  'project_type': 'DEX',\n  'date_of_attack': '12/05/2021',\n  'amount_lost': 196000000,\n  'attack_type': 'Other',\n  'contract_hash': ''},\n {'protocol_name': 'Wormhole',\n  'project_type': 'Crosschain Aggregator',\n  'date_of_attack': '02/02/2022',\n  'amount_lost': 322000000,\n  'attack_type': '',\n  'contract_hash': ''},\n {'protocol_name': 'Grim Finance',\n  'project_type': 'Yield Aggregator',\n  'date_of_attack': '04/29/2022',\n  'amount_lost': 30000000,\n  'attack_type': 'Flash Loan Attack',\n  'contract_hash': ''},\n {'protocol_name': 'Superfluid',\n  'project_type': 'Trading',\n  'date_of_attack': '12/09/2022',\n  'amount_lost': 8700000,\n  'attack_type': 'Flash Loan Attack',\n  'contract_hash': 'https://polygonscan.com/tx/0xdee86cae2e1bab16496a49b2ec61aae0472a7ccf06f79744d42473e96edd6af6'},\n {'protocol_name': 'Dego Finance',\n  'project_type': 'NFT Project',\n  'date_of_attack': '02/10/2022',\n  'amount_lost': 10000000,\n  'attack_type': 'Private Key Compromise',\n  'contract_hash': ''},\n {'protocol_name': 'Ronin Network',\n  'project_type': 'Bridge',\n  'date_of_attack': '03/29/2022',\n  'amount_lost': 625000000,\n  'attack_type': 'Unauthorized Withdrawal',\n  'contract_hash': ''},\n {'protocol_name': 'Beanstalk',\n  'project_type': 'Stablecoins',\n  'date_of_attack': '04/18/2022',\n  'amount_lost': 181000000,\n  'attack_type': 'Flash Loan Attack',\n  'contract_hash': ''},\n {'protocol_name': 'Dues DAO',\n  'project_type': 'DAO',\n  'date_of_attack': '03/15/2022',\n  'amount_lost': 3000000,\n  'attack_type': 'Flash Loan Attack',\n  'contract_hash': ''},\n {'protocol_name': 'Dues DAO',\n  'project_type': 'DAO',\n  'date_of_attack': '04/27/2022',\n  'amount_lost': 13400000,\n  'attack_type': 'Oracle Manipulation',\n  'contract_hash': ''},\n {'protocol_name': 'Saddle Finance',\n  'project_type': 'AMM',\n  'date_of_attack': '05/01/2022',\n  'amount_lost': 11000000,\n  'attack_type': 'Smart Contract Bug',\n  'contract_hash': ''},\n {'protocol_name': 'Rari Capital',\n  'project_type': 'Lending and Borrowing',\n  'date_of_attack': '05/02/2022',\n  'amount_lost': 80000000,\n  'attack_type': 'Reentrancy',\n  'contract_hash': ''}]"
     },
     "metadata": {}
    }
   ]
  },
  {
   "cell_type": "code",
   "metadata": {
    "cell_id": "c36437054d5c4c12a772ef0550bed35b",
    "tags": [],
    "deepnote_to_be_reexecuted": true,
    "source_hash": "b623e53d",
    "deepnote_cell_type": "code",
    "deepnote_cell_height": 81
   },
   "source": "",
   "execution_count": null,
   "outputs": []
  },
  {
   "cell_type": "markdown",
   "source": "<a style='text-decoration:none;line-height:16px;display:flex;color:#5B5B62;padding:10px;justify-content:end;' href='https://deepnote.com?utm_source=created-in-deepnote-cell&projectId=a373d29a-5bd7-41ca-be10-29cbcb0a0362' target=\"_blank\">\n<img alt='Created in deepnote.com' style='display:inline;max-height:16px;margin:0px;margin-right:7.5px;' src='data:image/svg+xml;base64,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' > </img>\nCreated in <span style='font-weight:600;margin-left:4px;'>Deepnote</span></a>",
   "metadata": {
    "tags": [],
    "created_in_deepnote_cell": true,
    "deepnote_cell_type": "markdown"
   }
  }
 ],
 "nbformat": 4,
 "nbformat_minor": 5,
 "metadata": {
  "kernelspec": {
   "display_name": "Python 3 (ipykernel)",
   "language": "python",
   "name": "python3"
  },
  "language_info": {
   "codemirror_mode": {
    "name": "ipython",
    "version": 3
   },
   "file_extension": ".py",
   "mimetype": "text/x-python",
   "name": "python",
   "nbconvert_exporter": "python",
   "pygments_lexer": "ipython3",
   "version": "3.7.2"
  },
  "deepnote_notebook_id": "09d6aa8c-5e8b-40e1-82c7-4a497e55350f",
  "deepnote": {},
  "deepnote_execution_queue": []
 }
}
