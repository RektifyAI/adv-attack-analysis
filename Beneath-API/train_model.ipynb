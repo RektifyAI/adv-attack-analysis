{
 "cells": [
  {
   "cell_type": "code",
   "execution_count": null,
   "id": "df750a5f",
   "metadata": {},
   "outputs": [],
   "source": [
    "import beneath\n",
    "import matplotlib.pyplot as plt\n",
    "import pandas as pd\n",
    "import pickle\n",
    "from sklearn.linear_model import LogisticRegression\n",
    "from sklearn.metrics import plot_roc_curve\n",
    "from sklearn.model_selection import train_test_split "
   ]
  },
  {
   "cell_type": "markdown",
   "id": "52cdbef0",
   "metadata": {},
   "source": [
    "# Load data from Beneath and create a training set"
   ]
  },
  {
   "cell_type": "code",
   "execution_count": null,
   "id": "68e6edd0",
   "metadata": {},
   "outputs": [],
   "source": [
    "features = await beneath.load_full(\"USERNAME/PROJECT_NAME/features\")\n",
    "outcomes = await beneath.load_full(\"USERNAME/PROJECT_NAME/outcomes\")"
   ]
  },
  {
   "cell_type": "code",
   "execution_count": null,
   "id": "ae66f657",
   "metadata": {},
   "outputs": [],
   "source": [
    "traindf = pd.merge(df, outcomes, how=\"inner\", on=[\"ID\"]) "
   ]
  },
  {
   "cell_type": "markdown",
   "id": "d113da81",
   "metadata": {},
   "source": [
    "# Train model"
   ]
  },
  {
   "cell_type": "code",
   "execution_count": null,
   "id": "e917864c",
   "metadata": {},
   "outputs": [],
   "source": [
    "X = traindf[['FEATURE_1', 'FEATURE_2', ... ]]\n",
    "Y = traindf[['TARGET']]\n",
    "\n",
    "# split dataset into train and test \n",
    "X_train, X_test, y_train, y_test = train_test_split(X, Y, test_size=0.3, random_state=2021)\n",
    "\n",
    "# train model\n",
    "clf = LogisticRegression(random_state=0).fit(X_train, y_train.values.ravel())\n",
    "\n",
    "# predict\n",
    "y_pred = clf.predict(X_test)\n",
    "\n",
    "# score\n",
    "clf.score(X_test, y_test)"
   ]
  },
  {
   "cell_type": "code",
   "execution_count": null,
   "id": "0e51131e",
   "metadata": {},
   "outputs": [],
   "source": [
    "# AUC / ROC curve\n",
    "clf_disp = plot_roc_curve(clf, X_test, y_test)\n",
    "plt.show()"
   ]
  },
  {
   "cell_type": "markdown",
   "id": "c5e94282",
   "metadata": {},
   "source": [
    "# Checkpoint model to Beneath"
   ]
  },
  {
   "cell_type": "markdown",
   "id": "94955ed4",
   "metadata": {},
   "source": [
    "- pickle the classifier\n",
    "- start a Beneath client and checkpointer\n",
    "- use the checkpointer to save the model to a Beneath \"metatable,\" which we name \"predictive-model\""
   ]
  },
  {
   "cell_type": "markdown",
   "id": "f42cee72",
   "metadata": {},
   "source": [
    "s = pickle.dumps(clf)"
   ]
  },
  {
   "cell_type": "code",
   "execution_count": null,
   "id": "bc402dea",
   "metadata": {},
   "outputs": [],
   "source": [
    "client = beneath.Client()"
   ]
  },
  {
   "cell_type": "code",
   "execution_count": null,
   "id": "41c8c986",
   "metadata": {},
   "outputs": [],
   "source": [
    "await client.start()"
   ]
  },
  {
   "cell_type": "code",
   "execution_count": null,
   "id": "95f5f0d1",
   "metadata": {},
   "outputs": [],
   "source": [
    "checkpointer = await client.checkpointer(\n",
    "    project_path=\"USERNAME/PROJECT_NAME\", \n",
    "    metatable_name=\"predictive-model\", \n",
    "    metatable_description=\"Stores the model used to predict outcomes\"\n",
    ")\n",
    "\n",
    "await checkpointer.set(\"clf_serialized\", s) "
   ]
  },
  {
   "cell_type": "code",
   "execution_count": null,
   "id": "ccf3198d",
   "metadata": {},
   "outputs": [],
   "source": [
    "await client.stop()"
   ]
  }
 ],
 "metadata": {
  "kernelspec": {
   "display_name": "Python 3",
   "language": "python",
   "name": "python3"
  },
  "language_info": {
   "codemirror_mode": {
    "name": "ipython",
    "version": 3
   },
   "file_extension": ".py",
   "mimetype": "text/x-python",
   "name": "python",
   "nbconvert_exporter": "python",
   "pygments_lexer": "ipython3",
   "version": "3.8.7"
  }
 },
 "nbformat": 4,
 "nbformat_minor": 5
}
